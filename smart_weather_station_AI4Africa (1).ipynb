{
  "cells": [
    {
      "cell_type": "code",
      "execution_count": 175,
      "metadata": {
        "id": "gav8Jgh12xK_"
      },
      "outputs": [],
      "source": [
        "#iimports\n",
        "import glob\n",
        "from math import e, gamma\n",
        "import os\n",
        "from pathlib import Path\n",
        "from turtle import color\n",
        "from librosa import feature\n",
        "import pandas as pd\n",
        "import librosa\n",
        "import datetime\n",
        "import time\n",
        "import numpy as np\n",
        "from sklearn.preprocessing import LabelEncoder\n",
        "from tensorflow.keras.utils import to_categorical\n",
        "import tensorflow as tf\n",
        "from sklearn.model_selection import train_test_split\n",
        "from sklearn.model_selection import GridSearchCV\n",
        "from sklearn.svm import SVC\n",
        "from sklearn.preprocessing import StandardScaler\n",
        "from sklearn import svm\n",
        "from sklearn import metrics\n",
        "import pickle\n",
        "import matplotlib.pyplot as plt\n",
        "# import scikitplot as skplt\n",
        "\n",
        "from sklearn.svm import SVC\n",
        "from sklearn.preprocessing import StandardScaler\n",
        "from sklearn.datasets import make_classification\n",
        "from sklearn.model_selection import train_test_split\n",
        "from sklearn.pipeline import Pipeline\n",
        "\n",
        "from joblib import dump, load\n",
        "from statistics import mean\n",
        "from sklearn.metrics import mean_absolute_error, mean_squared_error, mean_absolute_percentage_error\n",
        "from sklearn.linear_model import LinearRegression\n",
        "import os"
      ]
    },
    {
      "cell_type": "code",
      "execution_count": 176,
      "metadata": {
        "colab": {
          "base_uri": "https://localhost:8080/"
        },
        "id": "ERUgkdJGba4g",
        "outputId": "88f91c75-e63e-4410-96ce-57ae27bbae9f"
      },
      "outputs": [
        {
          "output_type": "stream",
          "name": "stdout",
          "text": [
            "Looking in indexes: https://pypi.org/simple, https://us-python.pkg.dev/colab-wheels/public/simple/\n",
            "Requirement already satisfied: tensorflow-model-optimization in /usr/local/lib/python3.7/dist-packages (0.7.3)\n",
            "Requirement already satisfied: dm-tree~=0.1.1 in /usr/local/lib/python3.7/dist-packages (from tensorflow-model-optimization) (0.1.7)\n",
            "Requirement already satisfied: six~=1.10 in /usr/local/lib/python3.7/dist-packages (from tensorflow-model-optimization) (1.15.0)\n",
            "Requirement already satisfied: numpy~=1.14 in /usr/local/lib/python3.7/dist-packages (from tensorflow-model-optimization) (1.21.6)\n"
          ]
        }
      ],
      "source": [
        "!pip install tensorflow-model-optimization"
      ]
    },
    {
      "cell_type": "code",
      "execution_count": 177,
      "metadata": {
        "colab": {
          "base_uri": "https://localhost:8080/"
        },
        "id": "ahrYrX_3aZ66",
        "outputId": "0c12bc71-9ee3-402f-ee07-52084061afcd"
      },
      "outputs": [
        {
          "output_type": "stream",
          "name": "stdout",
          "text": [
            "Drive already mounted at /content/drive; to attempt to forcibly remount, call drive.mount(\"/content/drive\", force_remount=True).\n"
          ]
        }
      ],
      "source": [
        "from google.colab import drive\n",
        "drive.mount('/content/drive')"
      ]
    },
    {
      "cell_type": "markdown",
      "metadata": {
        "id": "CZusYefr2xLA"
      },
      "source": [
        "SPLITTING THE AUDIOFILE"
      ]
    },
    {
      "cell_type": "code",
      "execution_count": null,
      "metadata": {
        "id": "hET_N6Z62xLB"
      },
      "outputs": [],
      "source": [
        "import soundfile as sf\n",
        "\n",
        "audiorec=[]\n",
        "count=0\n",
        "def split(filez):\n",
        "    \n",
        "    split_into = 5\n",
        "    samples_splitted = []\n",
        "    current_step = 0\n",
        "    i=0\n",
        "    X,sample_rate = librosa.load(filez, res_type=\"kaiser_best\" )\n",
        "    while current_step < len(X):\n",
        "        samples_splitted.append(X[current_step: split_into * sample_rate ])\n",
        "        sf.write(f\"set22-{i} outfile.wav\", samples_splitted[i], sample_rate)\n",
        "        current_step = split_into * sample_rate\n",
        "        i+=1\n",
        "\n",
        "        split_into += 5\n",
        "    \n",
        "     "
      ]
    },
    {
      "cell_type": "code",
      "execution_count": null,
      "metadata": {
        "id": "HqMVzjRz2xLB"
      },
      "outputs": [],
      "source": [
        "split('audiofile')"
      ]
    },
    {
      "cell_type": "markdown",
      "metadata": {
        "id": "BnMijQkw2xLC"
      },
      "source": [
        "CREATING LIST FOR SPLIT AUDIOFILE DATA"
      ]
    },
    {
      "cell_type": "code",
      "execution_count": null,
      "metadata": {
        "id": "j5oaXKLK2xLC"
      },
      "outputs": [],
      "source": [
        "path= 'splitaudio/'\n",
        "files = os.listdir(path)\n",
        "audiofile = []\n",
        "for filename in glob.glob(os.path.join(path, '*.wav')):\n",
        "    data, samplerate = librosa.load(filename, res_type='kaiser_best')\n",
        "    audiofile.append(data)\n",
        "\n",
        "print(len(audiofile))    "
      ]
    },
    {
      "cell_type": "code",
      "execution_count": 178,
      "metadata": {
        "colab": {
          "base_uri": "https://localhost:8080/"
        },
        "id": "UNkbcSlk2xLC",
        "outputId": "1b90135c-f7b4-45fb-b427-c7247b2add6d"
      },
      "outputs": [
        {
          "output_type": "stream",
          "name": "stdout",
          "text": [
            "1595\n"
          ]
        }
      ],
      "source": [
        "NO_PER_LABEL =NO_PER_LABEL =[65, 60, 60, 60, 61, 60, 60, 60, 60, 61, 60, 60, 60, 60, 60, 60, 60, 60, 60, 60, 60, 61, 60, 61, 60, 60]\n",
        "readings = [0.1, 2.5, 4.6, 6.6, 5.5, 5, 3.2, 0.5, 0.1, 1.5, 0.3, 2, 3.5, 3.5, 1.5, 3.5, 5.5, 5.5, 1.5, 1, 1, 0.4, 0.09, 1.8, 0.5, 0.08]\n",
        "label_list=[]\n",
        "for i,reading in zip(NO_PER_LABEL, readings):\n",
        "    count=0\n",
        "    while count <= i:\n",
        "        label_list.append(reading)\n",
        "        count+=1\n",
        "print(len(label_list))"
      ]
    },
    {
      "cell_type": "code",
      "execution_count": 173,
      "metadata": {
        "id": "j_cUv8Tv2xLD"
      },
      "outputs": [],
      "source": [
        "def extract_features(files):\n",
        "    \n",
        "    # Sets the name to be the path to where the file is in my computer\n",
        "    #file_name = os.path.join(os.path.abspath('voice')+'/'+str(files.file))\n",
        "    #file_name = files.audio_files\n",
        "    # Loads the audio file as a floating point time series and assigns the default sample rate\n",
        "    # Sample rate is set to 22050 by default\n",
        "    #X, sample_rate = librosa.load(file_name, res_type='kaiser_best')     \n",
        "\n",
        "    # Generate Mel-frequency cepstral coefficients (MFCCs) from a time series \n",
        "    mfccs = np.mean(librosa.feature.mfcc(y=files, sr=22050, n_mfcc=12).T,axis=0) ## DIGEST MORE ON THE MFCC\n",
        "    # mfccs = np.mean(librosa.feature.melspectrogram(y=X, sr=sample_rate, n_mels=40))\n",
        "    # mfccs = librosa.feature.chroma_stft(y=X, sr=sample_rate)\n",
        "    # mfccs = librosa.lpc(y=X, order=2)\n",
        "    \n",
        "    # We add also the classes of each file as a label at the end\n",
        "    #label = files.labels\n",
        "\n",
        "    return mfccs"
      ]
    },
    {
      "cell_type": "code",
      "execution_count": null,
      "metadata": {
        "id": "G0mT3phM2xLD"
      },
      "outputs": [],
      "source": [
        "mfcc_list = []\n",
        "for file in audiofile:\n",
        "    mfcc_list.append(extract_features(file))\n",
        "print(len(mfcc_list))"
      ]
    },
    {
      "cell_type": "code",
      "execution_count": null,
      "metadata": {
        "id": "5dfNfqAK2xLD"
      },
      "outputs": [],
      "source": [
        "np.savez_compressed(\"rain_dataset\", mfcc=mfcc_list, labels=label_list )"
      ]
    },
    {
      "cell_type": "code",
      "execution_count": 179,
      "metadata": {
        "id": "dWVmwtrE2xLD"
      },
      "outputs": [],
      "source": [
        "loaded = np.load('/content/drive/MyDrive/rain_dataset.npz')"
      ]
    },
    {
      "cell_type": "code",
      "execution_count": 9,
      "metadata": {
        "colab": {
          "base_uri": "https://localhost:8080/"
        },
        "id": "NGzvQCaO2xLD",
        "outputId": "c4a51230-9f58-4226-9d10-7840c79d4564"
      },
      "outputs": [
        {
          "output_type": "stream",
          "name": "stdout",
          "text": [
            "1595\n"
          ]
        }
      ],
      "source": [
        "print(len(loaded['mfcc']))"
      ]
    },
    {
      "cell_type": "code",
      "execution_count": 10,
      "metadata": {
        "id": "f_CcVdC-2xLE"
      },
      "outputs": [],
      "source": [
        "X = loaded[\"mfcc\"]"
      ]
    },
    {
      "cell_type": "code",
      "execution_count": 11,
      "metadata": {
        "id": "otCaOJwD2xLE"
      },
      "outputs": [],
      "source": [
        "X= X.flatten()"
      ]
    },
    {
      "cell_type": "code",
      "execution_count": 12,
      "metadata": {
        "colab": {
          "base_uri": "https://localhost:8080/"
        },
        "id": "9Y0CJP-02xLE",
        "outputId": "3b4682cd-5295-4903-db35-e6a3181a562c"
      },
      "outputs": [
        {
          "output_type": "execute_result",
          "data": {
            "text/plain": [
              "19140"
            ]
          },
          "metadata": {},
          "execution_count": 12
        }
      ],
      "source": [
        "len(X)"
      ]
    },
    {
      "cell_type": "code",
      "execution_count": 13,
      "metadata": {
        "id": "Otz6-kzU2xLE"
      },
      "outputs": [],
      "source": [
        "\n",
        "from itertools import islice\n",
        "\n",
        "def chunk(it, size):\n",
        "    it = iter(it)\n",
        "    return iter(lambda: tuple(islice(it, size)), ())"
      ]
    },
    {
      "cell_type": "code",
      "execution_count": 14,
      "metadata": {
        "id": "Hr47-1uM2xLE"
      },
      "outputs": [],
      "source": [
        "me = chunk(X, 288)\n",
        "label_list = chunk(label_list, 24)"
      ]
    },
    {
      "cell_type": "code",
      "execution_count": 15,
      "metadata": {
        "id": "8k2LhexH2xLE"
      },
      "outputs": [],
      "source": [
        "me = list(me)\n",
        "label_list = list(label_list)"
      ]
    },
    {
      "cell_type": "code",
      "execution_count": 16,
      "metadata": {
        "id": "5634n_ji2xLE"
      },
      "outputs": [],
      "source": [
        "new_labels = []\n",
        "for val in label_list:\n",
        "    new_labels.append(val[0])"
      ]
    },
    {
      "cell_type": "code",
      "execution_count": 17,
      "metadata": {
        "id": "9QbG6eSc2xLE"
      },
      "outputs": [],
      "source": [
        "data = np.array(me, dtype=object)"
      ]
    },
    {
      "cell_type": "code",
      "execution_count": 18,
      "metadata": {
        "id": "r_2oTyFk2xLE"
      },
      "outputs": [],
      "source": [
        "newme =[]\n",
        "for dat in me[:-1]:\n",
        "    newme.append(np.array(dat, dtype=np.float64))"
      ]
    },
    {
      "cell_type": "code",
      "execution_count": 19,
      "metadata": {
        "id": "bWLx8qyM2xLF"
      },
      "outputs": [],
      "source": [
        "newme = np.array(newme)"
      ]
    },
    {
      "cell_type": "code",
      "execution_count": 20,
      "metadata": {
        "colab": {
          "base_uri": "https://localhost:8080/"
        },
        "id": "V0qhw6Fj2xLF",
        "outputId": "1dc6cb71-0f4c-4f21-e955-89f6656c24bb"
      },
      "outputs": [
        {
          "output_type": "execute_result",
          "data": {
            "text/plain": [
              "66"
            ]
          },
          "metadata": {},
          "execution_count": 20
        }
      ],
      "source": [
        "len(newme)"
      ]
    },
    {
      "cell_type": "code",
      "execution_count": 21,
      "metadata": {
        "colab": {
          "base_uri": "https://localhost:8080/"
        },
        "id": "YiC_g7xn2xLF",
        "outputId": "b9ced425-ea82-4ca5-d12c-6ef9846bb024"
      },
      "outputs": [
        {
          "output_type": "execute_result",
          "data": {
            "text/plain": [
              "(66, 288)"
            ]
          },
          "metadata": {},
          "execution_count": 21
        }
      ],
      "source": [
        "newme.shape"
      ]
    },
    {
      "cell_type": "code",
      "execution_count": 22,
      "metadata": {
        "colab": {
          "base_uri": "https://localhost:8080/"
        },
        "id": "qoAcNXBP2xLF",
        "outputId": "1057c15c-486d-422b-cc8b-de350249c1d9"
      },
      "outputs": [
        {
          "output_type": "execute_result",
          "data": {
            "text/plain": [
              "67"
            ]
          },
          "metadata": {},
          "execution_count": 22
        }
      ],
      "source": [
        "len(new_labels)"
      ]
    },
    {
      "cell_type": "code",
      "execution_count": 23,
      "metadata": {
        "id": "R5hJA-882xLF"
      },
      "outputs": [],
      "source": [
        "scaler = StandardScaler()\n",
        "# good_list_scaled = (scaler.fit_transform(good_list))\n",
        "good_list_scaled = (scaler.fit_transform(newme))"
      ]
    },
    {
      "cell_type": "markdown",
      "metadata": {
        "id": "7fW1NmYyZBaQ"
      },
      "source": [
        "TRAINING THE MODEL USING SVR(POLY)"
      ]
    },
    {
      "cell_type": "code",
      "execution_count": 225,
      "metadata": {
        "colab": {
          "base_uri": "https://localhost:8080/"
        },
        "id": "Q04PWvEB2xLF",
        "outputId": "16d4b736-3f5a-4022-e58b-1f81d8880810"
      },
      "outputs": [
        {
          "output_type": "stream",
          "name": "stdout",
          "text": [
            "LEN OF DATA -> 319\n",
            " The Mean absolute percentage Error is -> 138.7073198432046 %\n"
          ]
        }
      ],
      "source": [
        "## try a Deep Neural Network\n",
        "X = np.array(loaded['mfcc'])\n",
        "#X = good_list_scaled\n",
        "Y = label_list\n",
        "#Y =  new_labels[:-1]\n",
        "# Splitting dataset into train and test set\n",
        "\n",
        "X_train, X_test, Y_train, Y_test = train_test_split(\n",
        "X, Y, test_size = 1/5, random_state = 0, shuffle=True)\n",
        "model = SVR(kernel=\"poly\")\n",
        "# model = RandomForestRegressor(max_depth=None, random_state=0)\n",
        "model.fit( X_train, Y_train )\n",
        "\n",
        "# Prediction on test set\n",
        "print(\"LEN OF DATA ->\",len(X_test))\n",
        "Y_pred = model.predict( X_test )\n",
        "\n",
        "#print( \"Predicted values \", np.round( Y_pred, 2 ) )\n",
        "\n",
        "#print( \"Real values\t \", Y_test[:30] )\n",
        "\n",
        "#print( \" Coefficients of the LR \",  model.coef_, model.intercept_ )\n",
        "\n",
        "\n",
        "\n",
        "mse = mean_absolute_percentage_error(Y_test, Y_pred) * 100 ##( |ypred - ytrue|/ytrue * 100)\n",
        "\n",
        "print(' The Mean absolute percentage Error is ->', mse, '%')"
      ]
    },
    {
      "cell_type": "markdown",
      "metadata": {
        "id": "-uv2NRGr2xLG"
      },
      "source": [
        "TRAINING THE MODEL USING XGB-REGRESSOR"
      ]
    },
    {
      "cell_type": "code",
      "execution_count": 107,
      "metadata": {
        "colab": {
          "base_uri": "https://localhost:8080/"
        },
        "id": "2Pkrfgsr2xLG",
        "outputId": "2eeec50a-5a68-41bd-89a4-8685f3905bc0"
      },
      "outputs": [
        {
          "output_type": "stream",
          "name": "stdout",
          "text": [
            "Predicted values  [2.55 2.09 2.  ]\n",
            "Real values\t  [5.5, 0.3, 2]\n",
            " The Mean absolute percentage Error is -> 106.69729539722607 %\n"
          ]
        }
      ],
      "source": [
        "from sklearn.ensemble import GradientBoostingRegressor\n",
        "# Instantiate gb\n",
        "gb = GradientBoostingRegressor(max_depth=4,\n",
        "                               n_estimators=200,\n",
        "                               random_state=2)\n",
        "gb.fit( X_train, Y_train )\n",
        "\n",
        "# Predict test set labels\n",
        "y_pred = gb.predict(X_test)\n",
        "\n",
        "print( \"Predicted values \", np.round( Y_pred[:3], 2 ) )\n",
        "\n",
        "print( \"Real values\t \", Y_test[:3] )\n",
        "\n",
        "#print( \" Coefficients of the LR \",  model.coef_, model.intercept_ )\n",
        "\n",
        "\n",
        "\n",
        "mse = mean_absolute_percentage_error(Y_test, Y_pred) * 100 ##( |ypred - ytrue|/ytrue * 100)\n",
        "\n",
        "print(' The Mean absolute percentage Error is ->', mse, '%')"
      ]
    },
    {
      "cell_type": "markdown",
      "metadata": {
        "id": "QICghfOp2xLG"
      },
      "source": [
        "MODEL TRAINING USING DEEP NEURAL NETWORK"
      ]
    },
    {
      "cell_type": "code",
      "execution_count": 226,
      "metadata": {
        "id": "MkuQpZyj2xLG"
      },
      "outputs": [],
      "source": [
        "\n",
        "from tensorflow.keras import Sequential\n",
        "from tensorflow.keras.optimizers import Adam\n",
        "from tensorflow.keras import backend as K\n",
        "from tensorflow.keras.layers import Dense\n",
        "from tensorflow.keras.layers import Dropout\n",
        "from keras.layers.convolutional import Conv1D, Conv2D\n",
        "from keras.layers.convolutional import MaxPooling1D\n",
        "import tensorflow as tf\n",
        "from keras.layers import Flatten"
      ]
    },
    {
      "cell_type": "code",
      "execution_count": 227,
      "metadata": {
        "id": "9UJMps7T2xLG"
      },
      "outputs": [],
      "source": [
        "def rmse(y_true, y_pred):\n",
        "    return K.sqrt(K.mean(K.square(y_pred - y_true)))\n",
        "\n",
        "def mape(y_true, y_pred):\n",
        "    return (K.mean((K.abs(y_pred - y_true))/y_true) * 100)"
      ]
    },
    {
      "cell_type": "code",
      "execution_count": 228,
      "metadata": {
        "colab": {
          "base_uri": "https://localhost:8080/"
        },
        "id": "m1Lixl-j2xLG",
        "outputId": "58b2b4f4-b138-4689-fe1f-95e110d4bd16"
      },
      "outputs": [
        {
          "output_type": "stream",
          "name": "stdout",
          "text": [
            "Model: \"sequential_12\"\n",
            "_________________________________________________________________\n",
            " Layer (type)                Output Shape              Param #   \n",
            "=================================================================\n",
            " dense_36 (Dense)            (None, 6)                 78        \n",
            "                                                                 \n",
            " dense_37 (Dense)            (None, 3)                 21        \n",
            "                                                                 \n",
            " dense_38 (Dense)            (None, 1)                 4         \n",
            "                                                                 \n",
            "=================================================================\n",
            "Total params: 103\n",
            "Trainable params: 103\n",
            "Non-trainable params: 0\n",
            "_________________________________________________________________\n"
          ]
        }
      ],
      "source": [
        "# dnn_neural = Sequential([\n",
        "#     tf.keras.layers.Input(shape = X_train.shape[1:]),\n",
        "#     # Dense(10, activation='softsign'),\n",
        "#     # Dense(6, activation='softsign'),\n",
        "#     Dense(3, activation='softsign'),\n",
        "#     Dense(1, activation='sigmoid')\n",
        "# ])\n",
        "NN_model = Sequential()\n",
        "NN_model.add(Dense(6, kernel_initializer='normal',input_dim = X_train.shape[1], activation='relu'))\n",
        "\n",
        "# The Hidden Layers :\n",
        "# NN_model.add(Dense(256, kernel_initializer='normal',activation='relu'))\n",
        "# NN_model.add(Dense(6, kernel_initializer='normal',activation='relu'))\n",
        "NN_model.add(Dense(3, kernel_initializer='normal',activation='relu'))\n",
        "\n",
        "# The Output Layer :\n",
        "NN_model.add(Dense(1, kernel_initializer='normal',activation='linear'))\n",
        "\n",
        "# Compile the network :\n",
        "NN_model.compile(loss='mean_absolute_error', optimizer='adam', metrics=['mean_absolute_error'])\n",
        "NN_model.summary()"
      ]
    },
    {
      "cell_type": "code",
      "execution_count": 229,
      "metadata": {
        "colab": {
          "base_uri": "https://localhost:8080/"
        },
        "id": "RMzskrcG2xLG",
        "outputId": "788c5da1-7139-465a-bc0a-ab2705c6854d"
      },
      "outputs": [
        {
          "output_type": "stream",
          "name": "stdout",
          "text": [
            "Epoch 1/500\n",
            "32/32 [==============================] - 1s 6ms/step - loss: 2.2009 - mean_absolute_error: 2.2009 - val_loss: 2.2426 - val_mean_absolute_error: 2.2426\n",
            "Epoch 2/500\n",
            "32/32 [==============================] - 0s 2ms/step - loss: 1.9936 - mean_absolute_error: 1.9936 - val_loss: 1.9290 - val_mean_absolute_error: 1.9290\n",
            "Epoch 3/500\n",
            "32/32 [==============================] - 0s 3ms/step - loss: 1.7006 - mean_absolute_error: 1.7006 - val_loss: 1.4746 - val_mean_absolute_error: 1.4746\n",
            "Epoch 4/500\n",
            "32/32 [==============================] - 0s 2ms/step - loss: 1.2017 - mean_absolute_error: 1.2017 - val_loss: 1.0051 - val_mean_absolute_error: 1.0051\n",
            "Epoch 5/500\n",
            "32/32 [==============================] - 0s 3ms/step - loss: 0.8541 - mean_absolute_error: 0.8541 - val_loss: 0.8548 - val_mean_absolute_error: 0.8548\n",
            "Epoch 6/500\n",
            "32/32 [==============================] - 0s 3ms/step - loss: 0.7473 - mean_absolute_error: 0.7473 - val_loss: 0.8452 - val_mean_absolute_error: 0.8452\n",
            "Epoch 7/500\n",
            "32/32 [==============================] - 0s 3ms/step - loss: 0.7217 - mean_absolute_error: 0.7217 - val_loss: 0.8322 - val_mean_absolute_error: 0.8322\n",
            "Epoch 8/500\n",
            "32/32 [==============================] - 0s 2ms/step - loss: 0.7154 - mean_absolute_error: 0.7154 - val_loss: 0.8095 - val_mean_absolute_error: 0.8095\n",
            "Epoch 9/500\n",
            "32/32 [==============================] - 0s 2ms/step - loss: 0.6875 - mean_absolute_error: 0.6875 - val_loss: 0.7904 - val_mean_absolute_error: 0.7904\n",
            "Epoch 10/500\n",
            "32/32 [==============================] - 0s 3ms/step - loss: 0.6717 - mean_absolute_error: 0.6717 - val_loss: 0.7750 - val_mean_absolute_error: 0.7750\n",
            "Epoch 11/500\n",
            "32/32 [==============================] - 0s 2ms/step - loss: 0.6620 - mean_absolute_error: 0.6620 - val_loss: 0.7563 - val_mean_absolute_error: 0.7563\n",
            "Epoch 12/500\n",
            "32/32 [==============================] - 0s 3ms/step - loss: 0.6455 - mean_absolute_error: 0.6455 - val_loss: 0.7397 - val_mean_absolute_error: 0.7397\n",
            "Epoch 13/500\n",
            "32/32 [==============================] - 0s 2ms/step - loss: 0.6269 - mean_absolute_error: 0.6269 - val_loss: 0.7346 - val_mean_absolute_error: 0.7346\n",
            "Epoch 14/500\n",
            "32/32 [==============================] - 0s 3ms/step - loss: 0.6164 - mean_absolute_error: 0.6164 - val_loss: 0.7187 - val_mean_absolute_error: 0.7187\n",
            "Epoch 15/500\n",
            "32/32 [==============================] - 0s 2ms/step - loss: 0.6119 - mean_absolute_error: 0.6119 - val_loss: 0.6967 - val_mean_absolute_error: 0.6967\n",
            "Epoch 16/500\n",
            "32/32 [==============================] - 0s 2ms/step - loss: 0.5913 - mean_absolute_error: 0.5913 - val_loss: 0.6861 - val_mean_absolute_error: 0.6861\n",
            "Epoch 17/500\n",
            "32/32 [==============================] - 0s 2ms/step - loss: 0.5854 - mean_absolute_error: 0.5854 - val_loss: 0.6690 - val_mean_absolute_error: 0.6690\n",
            "Epoch 18/500\n",
            "32/32 [==============================] - 0s 3ms/step - loss: 0.5801 - mean_absolute_error: 0.5801 - val_loss: 0.6694 - val_mean_absolute_error: 0.6694\n",
            "Epoch 19/500\n",
            "32/32 [==============================] - 0s 2ms/step - loss: 0.5733 - mean_absolute_error: 0.5733 - val_loss: 0.6555 - val_mean_absolute_error: 0.6555\n",
            "Epoch 20/500\n",
            "32/32 [==============================] - 0s 3ms/step - loss: 0.5732 - mean_absolute_error: 0.5732 - val_loss: 0.6666 - val_mean_absolute_error: 0.6666\n",
            "Epoch 21/500\n",
            "32/32 [==============================] - 0s 2ms/step - loss: 0.5683 - mean_absolute_error: 0.5683 - val_loss: 0.6493 - val_mean_absolute_error: 0.6493\n",
            "Epoch 22/500\n",
            "32/32 [==============================] - 0s 3ms/step - loss: 0.5672 - mean_absolute_error: 0.5672 - val_loss: 0.6497 - val_mean_absolute_error: 0.6497\n",
            "Epoch 23/500\n",
            "32/32 [==============================] - 0s 2ms/step - loss: 0.5743 - mean_absolute_error: 0.5743 - val_loss: 0.6514 - val_mean_absolute_error: 0.6514\n",
            "Epoch 24/500\n",
            "32/32 [==============================] - 0s 3ms/step - loss: 0.5645 - mean_absolute_error: 0.5645 - val_loss: 0.6411 - val_mean_absolute_error: 0.6411\n",
            "Epoch 25/500\n",
            "32/32 [==============================] - 0s 3ms/step - loss: 0.5611 - mean_absolute_error: 0.5611 - val_loss: 0.6791 - val_mean_absolute_error: 0.6791\n",
            "Epoch 26/500\n",
            "32/32 [==============================] - 0s 2ms/step - loss: 0.5697 - mean_absolute_error: 0.5697 - val_loss: 0.6431 - val_mean_absolute_error: 0.6431\n",
            "Epoch 27/500\n",
            "32/32 [==============================] - 0s 3ms/step - loss: 0.5600 - mean_absolute_error: 0.5600 - val_loss: 0.6363 - val_mean_absolute_error: 0.6363\n",
            "Epoch 28/500\n",
            "32/32 [==============================] - 0s 3ms/step - loss: 0.5572 - mean_absolute_error: 0.5572 - val_loss: 0.6464 - val_mean_absolute_error: 0.6464\n",
            "Epoch 29/500\n",
            "32/32 [==============================] - 0s 3ms/step - loss: 0.5607 - mean_absolute_error: 0.5607 - val_loss: 0.6405 - val_mean_absolute_error: 0.6405\n",
            "Epoch 30/500\n",
            "32/32 [==============================] - 0s 3ms/step - loss: 0.5573 - mean_absolute_error: 0.5573 - val_loss: 0.6325 - val_mean_absolute_error: 0.6325\n",
            "Epoch 31/500\n",
            "32/32 [==============================] - 0s 3ms/step - loss: 0.5563 - mean_absolute_error: 0.5563 - val_loss: 0.6320 - val_mean_absolute_error: 0.6320\n",
            "Epoch 32/500\n",
            "32/32 [==============================] - 0s 3ms/step - loss: 0.5548 - mean_absolute_error: 0.5548 - val_loss: 0.6349 - val_mean_absolute_error: 0.6349\n",
            "Epoch 33/500\n",
            "32/32 [==============================] - 0s 3ms/step - loss: 0.5553 - mean_absolute_error: 0.5553 - val_loss: 0.6346 - val_mean_absolute_error: 0.6346\n",
            "Epoch 34/500\n",
            "32/32 [==============================] - 0s 3ms/step - loss: 0.5538 - mean_absolute_error: 0.5538 - val_loss: 0.6463 - val_mean_absolute_error: 0.6463\n",
            "Epoch 35/500\n",
            "32/32 [==============================] - 0s 2ms/step - loss: 0.5606 - mean_absolute_error: 0.5606 - val_loss: 0.6385 - val_mean_absolute_error: 0.6385\n",
            "Epoch 36/500\n",
            "32/32 [==============================] - 0s 2ms/step - loss: 0.5541 - mean_absolute_error: 0.5541 - val_loss: 0.6324 - val_mean_absolute_error: 0.6324\n",
            "Epoch 37/500\n",
            "32/32 [==============================] - 0s 2ms/step - loss: 0.5568 - mean_absolute_error: 0.5568 - val_loss: 0.6321 - val_mean_absolute_error: 0.6321\n",
            "Epoch 38/500\n",
            "32/32 [==============================] - 0s 2ms/step - loss: 0.5549 - mean_absolute_error: 0.5549 - val_loss: 0.6316 - val_mean_absolute_error: 0.6316\n",
            "Epoch 39/500\n",
            "32/32 [==============================] - 0s 2ms/step - loss: 0.5563 - mean_absolute_error: 0.5563 - val_loss: 0.6370 - val_mean_absolute_error: 0.6370\n",
            "Epoch 40/500\n",
            "32/32 [==============================] - 0s 2ms/step - loss: 0.5517 - mean_absolute_error: 0.5517 - val_loss: 0.6276 - val_mean_absolute_error: 0.6276\n",
            "Epoch 41/500\n",
            "32/32 [==============================] - 0s 3ms/step - loss: 0.5507 - mean_absolute_error: 0.5507 - val_loss: 0.6491 - val_mean_absolute_error: 0.6491\n",
            "Epoch 42/500\n",
            "32/32 [==============================] - 0s 3ms/step - loss: 0.5535 - mean_absolute_error: 0.5535 - val_loss: 0.6258 - val_mean_absolute_error: 0.6258\n",
            "Epoch 43/500\n",
            "32/32 [==============================] - 0s 2ms/step - loss: 0.5517 - mean_absolute_error: 0.5517 - val_loss: 0.6305 - val_mean_absolute_error: 0.6305\n",
            "Epoch 44/500\n",
            "32/32 [==============================] - 0s 3ms/step - loss: 0.5529 - mean_absolute_error: 0.5529 - val_loss: 0.6266 - val_mean_absolute_error: 0.6266\n",
            "Epoch 45/500\n",
            "32/32 [==============================] - 0s 2ms/step - loss: 0.5517 - mean_absolute_error: 0.5517 - val_loss: 0.6233 - val_mean_absolute_error: 0.6233\n",
            "Epoch 46/500\n",
            "32/32 [==============================] - 0s 3ms/step - loss: 0.5487 - mean_absolute_error: 0.5487 - val_loss: 0.6446 - val_mean_absolute_error: 0.6446\n",
            "Epoch 47/500\n",
            "32/32 [==============================] - 0s 2ms/step - loss: 0.5547 - mean_absolute_error: 0.5547 - val_loss: 0.6210 - val_mean_absolute_error: 0.6210\n",
            "Epoch 48/500\n",
            "32/32 [==============================] - 0s 3ms/step - loss: 0.5488 - mean_absolute_error: 0.5488 - val_loss: 0.6533 - val_mean_absolute_error: 0.6533\n",
            "Epoch 49/500\n",
            "32/32 [==============================] - 0s 3ms/step - loss: 0.5490 - mean_absolute_error: 0.5490 - val_loss: 0.6318 - val_mean_absolute_error: 0.6318\n",
            "Epoch 50/500\n",
            "32/32 [==============================] - 0s 2ms/step - loss: 0.5430 - mean_absolute_error: 0.5430 - val_loss: 0.6220 - val_mean_absolute_error: 0.6220\n",
            "Epoch 51/500\n",
            "32/32 [==============================] - 0s 3ms/step - loss: 0.5457 - mean_absolute_error: 0.5457 - val_loss: 0.6253 - val_mean_absolute_error: 0.6253\n",
            "Epoch 52/500\n",
            "32/32 [==============================] - 0s 2ms/step - loss: 0.5481 - mean_absolute_error: 0.5481 - val_loss: 0.6246 - val_mean_absolute_error: 0.6246\n",
            "Epoch 53/500\n",
            "32/32 [==============================] - 0s 3ms/step - loss: 0.5456 - mean_absolute_error: 0.5456 - val_loss: 0.6191 - val_mean_absolute_error: 0.6191\n",
            "Epoch 54/500\n",
            "32/32 [==============================] - 0s 2ms/step - loss: 0.5541 - mean_absolute_error: 0.5541 - val_loss: 0.6242 - val_mean_absolute_error: 0.6242\n",
            "Epoch 55/500\n",
            "32/32 [==============================] - 0s 2ms/step - loss: 0.5448 - mean_absolute_error: 0.5448 - val_loss: 0.6208 - val_mean_absolute_error: 0.6208\n",
            "Epoch 56/500\n",
            "32/32 [==============================] - 0s 2ms/step - loss: 0.5611 - mean_absolute_error: 0.5611 - val_loss: 0.6174 - val_mean_absolute_error: 0.6174\n",
            "Epoch 57/500\n",
            "32/32 [==============================] - 0s 3ms/step - loss: 0.5449 - mean_absolute_error: 0.5449 - val_loss: 0.6254 - val_mean_absolute_error: 0.6254\n",
            "Epoch 58/500\n",
            "32/32 [==============================] - 0s 2ms/step - loss: 0.5408 - mean_absolute_error: 0.5408 - val_loss: 0.6175 - val_mean_absolute_error: 0.6175\n",
            "Epoch 59/500\n",
            "32/32 [==============================] - 0s 2ms/step - loss: 0.5443 - mean_absolute_error: 0.5443 - val_loss: 0.6176 - val_mean_absolute_error: 0.6176\n",
            "Epoch 60/500\n",
            "32/32 [==============================] - 0s 2ms/step - loss: 0.5477 - mean_absolute_error: 0.5477 - val_loss: 0.6195 - val_mean_absolute_error: 0.6195\n",
            "Epoch 61/500\n",
            "32/32 [==============================] - 0s 3ms/step - loss: 0.5447 - mean_absolute_error: 0.5447 - val_loss: 0.6485 - val_mean_absolute_error: 0.6485\n",
            "Epoch 62/500\n",
            "32/32 [==============================] - 0s 2ms/step - loss: 0.5476 - mean_absolute_error: 0.5476 - val_loss: 0.6185 - val_mean_absolute_error: 0.6185\n",
            "Epoch 63/500\n",
            "32/32 [==============================] - 0s 2ms/step - loss: 0.5429 - mean_absolute_error: 0.5429 - val_loss: 0.6186 - val_mean_absolute_error: 0.6186\n",
            "Epoch 64/500\n",
            "32/32 [==============================] - 0s 3ms/step - loss: 0.5405 - mean_absolute_error: 0.5405 - val_loss: 0.6197 - val_mean_absolute_error: 0.6197\n",
            "Epoch 65/500\n",
            "32/32 [==============================] - 0s 3ms/step - loss: 0.5461 - mean_absolute_error: 0.5461 - val_loss: 0.6152 - val_mean_absolute_error: 0.6152\n",
            "Epoch 66/500\n",
            "32/32 [==============================] - 0s 2ms/step - loss: 0.5473 - mean_absolute_error: 0.5473 - val_loss: 0.6239 - val_mean_absolute_error: 0.6239\n",
            "Epoch 67/500\n",
            "32/32 [==============================] - 0s 2ms/step - loss: 0.5458 - mean_absolute_error: 0.5458 - val_loss: 0.6288 - val_mean_absolute_error: 0.6288\n",
            "Epoch 68/500\n",
            "32/32 [==============================] - 0s 2ms/step - loss: 0.5421 - mean_absolute_error: 0.5421 - val_loss: 0.6236 - val_mean_absolute_error: 0.6236\n",
            "Epoch 69/500\n",
            "32/32 [==============================] - 0s 3ms/step - loss: 0.5443 - mean_absolute_error: 0.5443 - val_loss: 0.6142 - val_mean_absolute_error: 0.6142\n",
            "Epoch 70/500\n",
            "32/32 [==============================] - 0s 3ms/step - loss: 0.5386 - mean_absolute_error: 0.5386 - val_loss: 0.6145 - val_mean_absolute_error: 0.6145\n",
            "Epoch 71/500\n",
            "32/32 [==============================] - 0s 3ms/step - loss: 0.5443 - mean_absolute_error: 0.5443 - val_loss: 0.6166 - val_mean_absolute_error: 0.6166\n",
            "Epoch 72/500\n",
            "32/32 [==============================] - 0s 2ms/step - loss: 0.5382 - mean_absolute_error: 0.5382 - val_loss: 0.6162 - val_mean_absolute_error: 0.6162\n",
            "Epoch 73/500\n",
            "32/32 [==============================] - 0s 2ms/step - loss: 0.5365 - mean_absolute_error: 0.5365 - val_loss: 0.6214 - val_mean_absolute_error: 0.6214\n",
            "Epoch 74/500\n",
            "32/32 [==============================] - 0s 2ms/step - loss: 0.5403 - mean_absolute_error: 0.5403 - val_loss: 0.6613 - val_mean_absolute_error: 0.6613\n",
            "Epoch 75/500\n",
            "32/32 [==============================] - 0s 2ms/step - loss: 0.5452 - mean_absolute_error: 0.5452 - val_loss: 0.6117 - val_mean_absolute_error: 0.6117\n",
            "Epoch 76/500\n",
            "32/32 [==============================] - 0s 2ms/step - loss: 0.5431 - mean_absolute_error: 0.5431 - val_loss: 0.6265 - val_mean_absolute_error: 0.6265\n",
            "Epoch 77/500\n",
            "32/32 [==============================] - 0s 3ms/step - loss: 0.5370 - mean_absolute_error: 0.5370 - val_loss: 0.6112 - val_mean_absolute_error: 0.6112\n",
            "Epoch 78/500\n",
            "32/32 [==============================] - 0s 2ms/step - loss: 0.5408 - mean_absolute_error: 0.5408 - val_loss: 0.6171 - val_mean_absolute_error: 0.6171\n",
            "Epoch 79/500\n",
            "32/32 [==============================] - 0s 3ms/step - loss: 0.5376 - mean_absolute_error: 0.5376 - val_loss: 0.6135 - val_mean_absolute_error: 0.6135\n",
            "Epoch 80/500\n",
            "32/32 [==============================] - 0s 2ms/step - loss: 0.5345 - mean_absolute_error: 0.5345 - val_loss: 0.6228 - val_mean_absolute_error: 0.6228\n",
            "Epoch 81/500\n",
            "32/32 [==============================] - 0s 2ms/step - loss: 0.5401 - mean_absolute_error: 0.5401 - val_loss: 0.6142 - val_mean_absolute_error: 0.6142\n",
            "Epoch 82/500\n",
            "32/32 [==============================] - 0s 3ms/step - loss: 0.5360 - mean_absolute_error: 0.5360 - val_loss: 0.6095 - val_mean_absolute_error: 0.6095\n",
            "Epoch 83/500\n",
            "32/32 [==============================] - 0s 2ms/step - loss: 0.5386 - mean_absolute_error: 0.5386 - val_loss: 0.6133 - val_mean_absolute_error: 0.6133\n",
            "Epoch 84/500\n",
            "32/32 [==============================] - 0s 3ms/step - loss: 0.5349 - mean_absolute_error: 0.5349 - val_loss: 0.6101 - val_mean_absolute_error: 0.6101\n",
            "Epoch 85/500\n",
            "32/32 [==============================] - 0s 2ms/step - loss: 0.5387 - mean_absolute_error: 0.5387 - val_loss: 0.6246 - val_mean_absolute_error: 0.6246\n",
            "Epoch 86/500\n",
            "32/32 [==============================] - 0s 2ms/step - loss: 0.5367 - mean_absolute_error: 0.5367 - val_loss: 0.6126 - val_mean_absolute_error: 0.6126\n",
            "Epoch 87/500\n",
            "32/32 [==============================] - 0s 3ms/step - loss: 0.5394 - mean_absolute_error: 0.5394 - val_loss: 0.6107 - val_mean_absolute_error: 0.6107\n",
            "Epoch 88/500\n",
            "32/32 [==============================] - 0s 2ms/step - loss: 0.5422 - mean_absolute_error: 0.5422 - val_loss: 0.6141 - val_mean_absolute_error: 0.6141\n",
            "Epoch 89/500\n",
            "32/32 [==============================] - 0s 2ms/step - loss: 0.5333 - mean_absolute_error: 0.5333 - val_loss: 0.6083 - val_mean_absolute_error: 0.6083\n",
            "Epoch 90/500\n",
            "32/32 [==============================] - 0s 2ms/step - loss: 0.5323 - mean_absolute_error: 0.5323 - val_loss: 0.6125 - val_mean_absolute_error: 0.6125\n",
            "Epoch 91/500\n",
            "32/32 [==============================] - 0s 2ms/step - loss: 0.5310 - mean_absolute_error: 0.5310 - val_loss: 0.6082 - val_mean_absolute_error: 0.6082\n",
            "Epoch 92/500\n",
            "32/32 [==============================] - 0s 2ms/step - loss: 0.5337 - mean_absolute_error: 0.5337 - val_loss: 0.6092 - val_mean_absolute_error: 0.6092\n",
            "Epoch 93/500\n",
            "32/32 [==============================] - 0s 2ms/step - loss: 0.5335 - mean_absolute_error: 0.5335 - val_loss: 0.6074 - val_mean_absolute_error: 0.6074\n",
            "Epoch 94/500\n",
            "32/32 [==============================] - 0s 2ms/step - loss: 0.5333 - mean_absolute_error: 0.5333 - val_loss: 0.6066 - val_mean_absolute_error: 0.6066\n",
            "Epoch 95/500\n",
            "32/32 [==============================] - 0s 2ms/step - loss: 0.5337 - mean_absolute_error: 0.5337 - val_loss: 0.6154 - val_mean_absolute_error: 0.6154\n",
            "Epoch 96/500\n",
            "32/32 [==============================] - 0s 3ms/step - loss: 0.5312 - mean_absolute_error: 0.5312 - val_loss: 0.6070 - val_mean_absolute_error: 0.6070\n",
            "Epoch 97/500\n",
            "32/32 [==============================] - 0s 2ms/step - loss: 0.5477 - mean_absolute_error: 0.5477 - val_loss: 0.6215 - val_mean_absolute_error: 0.6215\n",
            "Epoch 98/500\n",
            "32/32 [==============================] - 0s 2ms/step - loss: 0.5440 - mean_absolute_error: 0.5440 - val_loss: 0.6153 - val_mean_absolute_error: 0.6153\n",
            "Epoch 99/500\n",
            "32/32 [==============================] - 0s 3ms/step - loss: 0.5316 - mean_absolute_error: 0.5316 - val_loss: 0.6097 - val_mean_absolute_error: 0.6097\n",
            "Epoch 100/500\n",
            "32/32 [==============================] - 0s 2ms/step - loss: 0.5318 - mean_absolute_error: 0.5318 - val_loss: 0.6100 - val_mean_absolute_error: 0.6100\n",
            "Epoch 101/500\n",
            "32/32 [==============================] - 0s 2ms/step - loss: 0.5361 - mean_absolute_error: 0.5361 - val_loss: 0.6102 - val_mean_absolute_error: 0.6102\n",
            "Epoch 102/500\n",
            "32/32 [==============================] - 0s 2ms/step - loss: 0.5292 - mean_absolute_error: 0.5292 - val_loss: 0.6048 - val_mean_absolute_error: 0.6048\n",
            "Epoch 103/500\n",
            "32/32 [==============================] - 0s 2ms/step - loss: 0.5311 - mean_absolute_error: 0.5311 - val_loss: 0.6053 - val_mean_absolute_error: 0.6053\n",
            "Epoch 104/500\n",
            "32/32 [==============================] - 0s 2ms/step - loss: 0.5318 - mean_absolute_error: 0.5318 - val_loss: 0.6044 - val_mean_absolute_error: 0.6044\n",
            "Epoch 105/500\n",
            "32/32 [==============================] - 0s 3ms/step - loss: 0.5291 - mean_absolute_error: 0.5291 - val_loss: 0.6041 - val_mean_absolute_error: 0.6041\n",
            "Epoch 106/500\n",
            "32/32 [==============================] - 0s 2ms/step - loss: 0.5316 - mean_absolute_error: 0.5316 - val_loss: 0.6068 - val_mean_absolute_error: 0.6068\n",
            "Epoch 107/500\n",
            "32/32 [==============================] - 0s 2ms/step - loss: 0.5290 - mean_absolute_error: 0.5290 - val_loss: 0.6068 - val_mean_absolute_error: 0.6068\n",
            "Epoch 108/500\n",
            "32/32 [==============================] - 0s 3ms/step - loss: 0.5285 - mean_absolute_error: 0.5285 - val_loss: 0.6208 - val_mean_absolute_error: 0.6208\n",
            "Epoch 109/500\n",
            "32/32 [==============================] - 0s 2ms/step - loss: 0.5319 - mean_absolute_error: 0.5319 - val_loss: 0.6056 - val_mean_absolute_error: 0.6056\n",
            "Epoch 110/500\n",
            "32/32 [==============================] - 0s 3ms/step - loss: 0.5281 - mean_absolute_error: 0.5281 - val_loss: 0.6030 - val_mean_absolute_error: 0.6030\n",
            "Epoch 111/500\n",
            "32/32 [==============================] - 0s 2ms/step - loss: 0.5310 - mean_absolute_error: 0.5310 - val_loss: 0.6047 - val_mean_absolute_error: 0.6047\n",
            "Epoch 112/500\n",
            "32/32 [==============================] - 0s 2ms/step - loss: 0.5298 - mean_absolute_error: 0.5298 - val_loss: 0.6028 - val_mean_absolute_error: 0.6028\n",
            "Epoch 113/500\n",
            "32/32 [==============================] - 0s 3ms/step - loss: 0.5281 - mean_absolute_error: 0.5281 - val_loss: 0.6115 - val_mean_absolute_error: 0.6115\n",
            "Epoch 114/500\n",
            "32/32 [==============================] - 0s 2ms/step - loss: 0.5307 - mean_absolute_error: 0.5307 - val_loss: 0.6033 - val_mean_absolute_error: 0.6033\n",
            "Epoch 115/500\n",
            "32/32 [==============================] - 0s 2ms/step - loss: 0.5256 - mean_absolute_error: 0.5256 - val_loss: 0.6032 - val_mean_absolute_error: 0.6032\n",
            "Epoch 116/500\n",
            "32/32 [==============================] - 0s 2ms/step - loss: 0.5258 - mean_absolute_error: 0.5258 - val_loss: 0.6030 - val_mean_absolute_error: 0.6030\n",
            "Epoch 117/500\n",
            "32/32 [==============================] - 0s 3ms/step - loss: 0.5270 - mean_absolute_error: 0.5270 - val_loss: 0.6022 - val_mean_absolute_error: 0.6022\n",
            "Epoch 118/500\n",
            "32/32 [==============================] - 0s 3ms/step - loss: 0.5243 - mean_absolute_error: 0.5243 - val_loss: 0.6042 - val_mean_absolute_error: 0.6042\n",
            "Epoch 119/500\n",
            "32/32 [==============================] - 0s 2ms/step - loss: 0.5255 - mean_absolute_error: 0.5255 - val_loss: 0.6194 - val_mean_absolute_error: 0.6194\n",
            "Epoch 120/500\n",
            "32/32 [==============================] - 0s 2ms/step - loss: 0.5345 - mean_absolute_error: 0.5345 - val_loss: 0.6103 - val_mean_absolute_error: 0.6103\n",
            "Epoch 121/500\n",
            "32/32 [==============================] - 0s 2ms/step - loss: 0.5243 - mean_absolute_error: 0.5243 - val_loss: 0.6007 - val_mean_absolute_error: 0.6007\n",
            "Epoch 122/500\n",
            "32/32 [==============================] - 0s 3ms/step - loss: 0.5269 - mean_absolute_error: 0.5269 - val_loss: 0.6005 - val_mean_absolute_error: 0.6005\n",
            "Epoch 123/500\n",
            "32/32 [==============================] - 0s 2ms/step - loss: 0.5291 - mean_absolute_error: 0.5291 - val_loss: 0.6029 - val_mean_absolute_error: 0.6029\n",
            "Epoch 124/500\n",
            "32/32 [==============================] - 0s 2ms/step - loss: 0.5244 - mean_absolute_error: 0.5244 - val_loss: 0.5969 - val_mean_absolute_error: 0.5969\n",
            "Epoch 125/500\n",
            "32/32 [==============================] - 0s 2ms/step - loss: 0.5258 - mean_absolute_error: 0.5258 - val_loss: 0.6025 - val_mean_absolute_error: 0.6025\n",
            "Epoch 126/500\n",
            "32/32 [==============================] - 0s 2ms/step - loss: 0.5220 - mean_absolute_error: 0.5220 - val_loss: 0.6059 - val_mean_absolute_error: 0.6059\n",
            "Epoch 127/500\n",
            "32/32 [==============================] - 0s 3ms/step - loss: 0.5241 - mean_absolute_error: 0.5241 - val_loss: 0.5993 - val_mean_absolute_error: 0.5993\n",
            "Epoch 128/500\n",
            "32/32 [==============================] - 0s 3ms/step - loss: 0.5265 - mean_absolute_error: 0.5265 - val_loss: 0.5985 - val_mean_absolute_error: 0.5985\n",
            "Epoch 129/500\n",
            "32/32 [==============================] - 0s 3ms/step - loss: 0.5242 - mean_absolute_error: 0.5242 - val_loss: 0.5986 - val_mean_absolute_error: 0.5986\n",
            "Epoch 130/500\n",
            "32/32 [==============================] - 0s 2ms/step - loss: 0.5258 - mean_absolute_error: 0.5258 - val_loss: 0.6037 - val_mean_absolute_error: 0.6037\n",
            "Epoch 131/500\n",
            "32/32 [==============================] - 0s 2ms/step - loss: 0.5258 - mean_absolute_error: 0.5258 - val_loss: 0.6007 - val_mean_absolute_error: 0.6007\n",
            "Epoch 132/500\n",
            "32/32 [==============================] - 0s 3ms/step - loss: 0.5289 - mean_absolute_error: 0.5289 - val_loss: 0.6184 - val_mean_absolute_error: 0.6184\n",
            "Epoch 133/500\n",
            "32/32 [==============================] - 0s 2ms/step - loss: 0.5232 - mean_absolute_error: 0.5232 - val_loss: 0.5994 - val_mean_absolute_error: 0.5994\n",
            "Epoch 134/500\n",
            "32/32 [==============================] - 0s 3ms/step - loss: 0.5267 - mean_absolute_error: 0.5267 - val_loss: 0.5978 - val_mean_absolute_error: 0.5978\n",
            "Epoch 135/500\n",
            "32/32 [==============================] - 0s 3ms/step - loss: 0.5252 - mean_absolute_error: 0.5252 - val_loss: 0.6004 - val_mean_absolute_error: 0.6004\n",
            "Epoch 136/500\n",
            "32/32 [==============================] - 0s 3ms/step - loss: 0.5235 - mean_absolute_error: 0.5235 - val_loss: 0.5966 - val_mean_absolute_error: 0.5966\n",
            "Epoch 137/500\n",
            "32/32 [==============================] - 0s 2ms/step - loss: 0.5202 - mean_absolute_error: 0.5202 - val_loss: 0.5971 - val_mean_absolute_error: 0.5971\n",
            "Epoch 138/500\n",
            "32/32 [==============================] - 0s 3ms/step - loss: 0.5263 - mean_absolute_error: 0.5263 - val_loss: 0.5952 - val_mean_absolute_error: 0.5952\n",
            "Epoch 139/500\n",
            "32/32 [==============================] - 0s 3ms/step - loss: 0.5181 - mean_absolute_error: 0.5181 - val_loss: 0.5963 - val_mean_absolute_error: 0.5963\n",
            "Epoch 140/500\n",
            "32/32 [==============================] - 0s 2ms/step - loss: 0.5241 - mean_absolute_error: 0.5241 - val_loss: 0.5971 - val_mean_absolute_error: 0.5971\n",
            "Epoch 141/500\n",
            "32/32 [==============================] - 0s 3ms/step - loss: 0.5239 - mean_absolute_error: 0.5239 - val_loss: 0.6047 - val_mean_absolute_error: 0.6047\n",
            "Epoch 142/500\n",
            "32/32 [==============================] - 0s 3ms/step - loss: 0.5226 - mean_absolute_error: 0.5226 - val_loss: 0.5971 - val_mean_absolute_error: 0.5971\n",
            "Epoch 143/500\n",
            "32/32 [==============================] - 0s 2ms/step - loss: 0.5198 - mean_absolute_error: 0.5198 - val_loss: 0.5952 - val_mean_absolute_error: 0.5952\n",
            "Epoch 144/500\n",
            "32/32 [==============================] - 0s 3ms/step - loss: 0.5205 - mean_absolute_error: 0.5205 - val_loss: 0.5977 - val_mean_absolute_error: 0.5977\n",
            "Epoch 145/500\n",
            "32/32 [==============================] - 0s 3ms/step - loss: 0.5171 - mean_absolute_error: 0.5171 - val_loss: 0.5954 - val_mean_absolute_error: 0.5954\n",
            "Epoch 146/500\n",
            "32/32 [==============================] - 0s 2ms/step - loss: 0.5169 - mean_absolute_error: 0.5169 - val_loss: 0.5914 - val_mean_absolute_error: 0.5914\n",
            "Epoch 147/500\n",
            "32/32 [==============================] - 0s 2ms/step - loss: 0.5184 - mean_absolute_error: 0.5184 - val_loss: 0.5982 - val_mean_absolute_error: 0.5982\n",
            "Epoch 148/500\n",
            "32/32 [==============================] - 0s 2ms/step - loss: 0.5144 - mean_absolute_error: 0.5144 - val_loss: 0.6026 - val_mean_absolute_error: 0.6026\n",
            "Epoch 149/500\n",
            "32/32 [==============================] - 0s 2ms/step - loss: 0.5238 - mean_absolute_error: 0.5238 - val_loss: 0.5931 - val_mean_absolute_error: 0.5931\n",
            "Epoch 150/500\n",
            "32/32 [==============================] - 0s 2ms/step - loss: 0.5177 - mean_absolute_error: 0.5177 - val_loss: 0.5984 - val_mean_absolute_error: 0.5984\n",
            "Epoch 151/500\n",
            "32/32 [==============================] - 0s 2ms/step - loss: 0.5141 - mean_absolute_error: 0.5141 - val_loss: 0.5918 - val_mean_absolute_error: 0.5918\n",
            "Epoch 152/500\n",
            "32/32 [==============================] - 0s 3ms/step - loss: 0.5173 - mean_absolute_error: 0.5173 - val_loss: 0.5919 - val_mean_absolute_error: 0.5919\n",
            "Epoch 153/500\n",
            "32/32 [==============================] - 0s 2ms/step - loss: 0.5202 - mean_absolute_error: 0.5202 - val_loss: 0.5951 - val_mean_absolute_error: 0.5951\n",
            "Epoch 154/500\n",
            "32/32 [==============================] - 0s 3ms/step - loss: 0.5152 - mean_absolute_error: 0.5152 - val_loss: 0.5949 - val_mean_absolute_error: 0.5949\n",
            "Epoch 155/500\n",
            "32/32 [==============================] - 0s 3ms/step - loss: 0.5148 - mean_absolute_error: 0.5148 - val_loss: 0.5905 - val_mean_absolute_error: 0.5905\n",
            "Epoch 156/500\n",
            "32/32 [==============================] - 0s 2ms/step - loss: 0.5142 - mean_absolute_error: 0.5142 - val_loss: 0.5897 - val_mean_absolute_error: 0.5897\n",
            "Epoch 157/500\n",
            "32/32 [==============================] - 0s 2ms/step - loss: 0.5116 - mean_absolute_error: 0.5116 - val_loss: 0.5895 - val_mean_absolute_error: 0.5895\n",
            "Epoch 158/500\n",
            "32/32 [==============================] - 0s 2ms/step - loss: 0.5124 - mean_absolute_error: 0.5124 - val_loss: 0.5923 - val_mean_absolute_error: 0.5923\n",
            "Epoch 159/500\n",
            "32/32 [==============================] - 0s 2ms/step - loss: 0.5127 - mean_absolute_error: 0.5127 - val_loss: 0.5876 - val_mean_absolute_error: 0.5876\n",
            "Epoch 160/500\n",
            "32/32 [==============================] - 0s 2ms/step - loss: 0.5111 - mean_absolute_error: 0.5111 - val_loss: 0.5893 - val_mean_absolute_error: 0.5893\n",
            "Epoch 161/500\n",
            "32/32 [==============================] - 0s 3ms/step - loss: 0.5123 - mean_absolute_error: 0.5123 - val_loss: 0.5902 - val_mean_absolute_error: 0.5902\n",
            "Epoch 162/500\n",
            "32/32 [==============================] - 0s 3ms/step - loss: 0.5137 - mean_absolute_error: 0.5137 - val_loss: 0.5878 - val_mean_absolute_error: 0.5878\n",
            "Epoch 163/500\n",
            "32/32 [==============================] - 0s 2ms/step - loss: 0.5113 - mean_absolute_error: 0.5113 - val_loss: 0.5873 - val_mean_absolute_error: 0.5873\n",
            "Epoch 164/500\n",
            "32/32 [==============================] - 0s 2ms/step - loss: 0.5108 - mean_absolute_error: 0.5108 - val_loss: 0.5902 - val_mean_absolute_error: 0.5902\n",
            "Epoch 165/500\n",
            "32/32 [==============================] - 0s 2ms/step - loss: 0.5078 - mean_absolute_error: 0.5078 - val_loss: 0.5919 - val_mean_absolute_error: 0.5919\n",
            "Epoch 166/500\n",
            "32/32 [==============================] - 0s 3ms/step - loss: 0.5158 - mean_absolute_error: 0.5158 - val_loss: 0.5912 - val_mean_absolute_error: 0.5912\n",
            "Epoch 167/500\n",
            "32/32 [==============================] - 0s 2ms/step - loss: 0.5148 - mean_absolute_error: 0.5148 - val_loss: 0.5920 - val_mean_absolute_error: 0.5920\n",
            "Epoch 168/500\n",
            "32/32 [==============================] - 0s 3ms/step - loss: 0.5126 - mean_absolute_error: 0.5126 - val_loss: 0.5891 - val_mean_absolute_error: 0.5891\n",
            "Epoch 169/500\n",
            "32/32 [==============================] - 0s 2ms/step - loss: 0.5086 - mean_absolute_error: 0.5086 - val_loss: 0.5865 - val_mean_absolute_error: 0.5865\n",
            "Epoch 170/500\n",
            "32/32 [==============================] - 0s 3ms/step - loss: 0.5092 - mean_absolute_error: 0.5092 - val_loss: 0.5989 - val_mean_absolute_error: 0.5989\n",
            "Epoch 171/500\n",
            "32/32 [==============================] - 0s 2ms/step - loss: 0.5107 - mean_absolute_error: 0.5107 - val_loss: 0.5848 - val_mean_absolute_error: 0.5848\n",
            "Epoch 172/500\n",
            "32/32 [==============================] - 0s 2ms/step - loss: 0.5061 - mean_absolute_error: 0.5061 - val_loss: 0.6026 - val_mean_absolute_error: 0.6026\n",
            "Epoch 173/500\n",
            "32/32 [==============================] - 0s 2ms/step - loss: 0.5101 - mean_absolute_error: 0.5101 - val_loss: 0.5910 - val_mean_absolute_error: 0.5910\n",
            "Epoch 174/500\n",
            "32/32 [==============================] - 0s 2ms/step - loss: 0.5107 - mean_absolute_error: 0.5107 - val_loss: 0.5907 - val_mean_absolute_error: 0.5907\n",
            "Epoch 175/500\n",
            "32/32 [==============================] - 0s 2ms/step - loss: 0.5114 - mean_absolute_error: 0.5114 - val_loss: 0.5893 - val_mean_absolute_error: 0.5893\n",
            "Epoch 176/500\n",
            "32/32 [==============================] - 0s 3ms/step - loss: 0.5083 - mean_absolute_error: 0.5083 - val_loss: 0.5852 - val_mean_absolute_error: 0.5852\n",
            "Epoch 177/500\n",
            "32/32 [==============================] - 0s 2ms/step - loss: 0.5096 - mean_absolute_error: 0.5096 - val_loss: 0.5829 - val_mean_absolute_error: 0.5829\n",
            "Epoch 178/500\n",
            "32/32 [==============================] - 0s 2ms/step - loss: 0.5041 - mean_absolute_error: 0.5041 - val_loss: 0.5850 - val_mean_absolute_error: 0.5850\n",
            "Epoch 179/500\n",
            "32/32 [==============================] - 0s 2ms/step - loss: 0.5106 - mean_absolute_error: 0.5106 - val_loss: 0.5885 - val_mean_absolute_error: 0.5885\n",
            "Epoch 180/500\n",
            "32/32 [==============================] - 0s 3ms/step - loss: 0.5063 - mean_absolute_error: 0.5063 - val_loss: 0.5879 - val_mean_absolute_error: 0.5879\n",
            "Epoch 181/500\n",
            "32/32 [==============================] - 0s 2ms/step - loss: 0.5087 - mean_absolute_error: 0.5087 - val_loss: 0.5818 - val_mean_absolute_error: 0.5818\n",
            "Epoch 182/500\n",
            "32/32 [==============================] - 0s 2ms/step - loss: 0.5114 - mean_absolute_error: 0.5114 - val_loss: 0.5813 - val_mean_absolute_error: 0.5813\n",
            "Epoch 183/500\n",
            "32/32 [==============================] - 0s 2ms/step - loss: 0.5052 - mean_absolute_error: 0.5052 - val_loss: 0.5816 - val_mean_absolute_error: 0.5816\n",
            "Epoch 184/500\n",
            "32/32 [==============================] - 0s 2ms/step - loss: 0.5020 - mean_absolute_error: 0.5020 - val_loss: 0.5824 - val_mean_absolute_error: 0.5824\n",
            "Epoch 185/500\n",
            "32/32 [==============================] - 0s 2ms/step - loss: 0.5041 - mean_absolute_error: 0.5041 - val_loss: 0.5807 - val_mean_absolute_error: 0.5807\n",
            "Epoch 186/500\n",
            "32/32 [==============================] - 0s 3ms/step - loss: 0.4994 - mean_absolute_error: 0.4994 - val_loss: 0.5794 - val_mean_absolute_error: 0.5794\n",
            "Epoch 187/500\n",
            "32/32 [==============================] - 0s 2ms/step - loss: 0.5053 - mean_absolute_error: 0.5053 - val_loss: 0.5881 - val_mean_absolute_error: 0.5881\n",
            "Epoch 188/500\n",
            "32/32 [==============================] - 0s 3ms/step - loss: 0.5024 - mean_absolute_error: 0.5024 - val_loss: 0.5853 - val_mean_absolute_error: 0.5853\n",
            "Epoch 189/500\n",
            "32/32 [==============================] - 0s 2ms/step - loss: 0.4989 - mean_absolute_error: 0.4989 - val_loss: 0.5785 - val_mean_absolute_error: 0.5785\n",
            "Epoch 190/500\n",
            "32/32 [==============================] - 0s 3ms/step - loss: 0.5002 - mean_absolute_error: 0.5002 - val_loss: 0.5798 - val_mean_absolute_error: 0.5798\n",
            "Epoch 191/500\n",
            "32/32 [==============================] - 0s 2ms/step - loss: 0.5055 - mean_absolute_error: 0.5055 - val_loss: 0.5810 - val_mean_absolute_error: 0.5810\n",
            "Epoch 192/500\n",
            "32/32 [==============================] - 0s 2ms/step - loss: 0.5006 - mean_absolute_error: 0.5006 - val_loss: 0.5903 - val_mean_absolute_error: 0.5903\n",
            "Epoch 193/500\n",
            "32/32 [==============================] - 0s 3ms/step - loss: 0.4981 - mean_absolute_error: 0.4981 - val_loss: 0.5831 - val_mean_absolute_error: 0.5831\n",
            "Epoch 194/500\n",
            "32/32 [==============================] - 0s 3ms/step - loss: 0.4991 - mean_absolute_error: 0.4991 - val_loss: 0.5749 - val_mean_absolute_error: 0.5749\n",
            "Epoch 195/500\n",
            "32/32 [==============================] - 0s 3ms/step - loss: 0.4974 - mean_absolute_error: 0.4974 - val_loss: 0.5877 - val_mean_absolute_error: 0.5877\n",
            "Epoch 196/500\n",
            "32/32 [==============================] - 0s 2ms/step - loss: 0.4939 - mean_absolute_error: 0.4939 - val_loss: 0.5741 - val_mean_absolute_error: 0.5741\n",
            "Epoch 197/500\n",
            "32/32 [==============================] - 0s 2ms/step - loss: 0.4989 - mean_absolute_error: 0.4989 - val_loss: 0.5769 - val_mean_absolute_error: 0.5769\n",
            "Epoch 198/500\n",
            "32/32 [==============================] - 0s 3ms/step - loss: 0.4952 - mean_absolute_error: 0.4952 - val_loss: 0.5756 - val_mean_absolute_error: 0.5756\n",
            "Epoch 199/500\n",
            "32/32 [==============================] - 0s 2ms/step - loss: 0.4930 - mean_absolute_error: 0.4930 - val_loss: 0.5739 - val_mean_absolute_error: 0.5739\n",
            "Epoch 200/500\n",
            "32/32 [==============================] - 0s 3ms/step - loss: 0.4955 - mean_absolute_error: 0.4955 - val_loss: 0.5774 - val_mean_absolute_error: 0.5774\n",
            "Epoch 201/500\n",
            "32/32 [==============================] - 0s 3ms/step - loss: 0.4904 - mean_absolute_error: 0.4904 - val_loss: 0.5759 - val_mean_absolute_error: 0.5759\n",
            "Epoch 202/500\n",
            "32/32 [==============================] - 0s 2ms/step - loss: 0.4969 - mean_absolute_error: 0.4969 - val_loss: 0.5776 - val_mean_absolute_error: 0.5776\n",
            "Epoch 203/500\n",
            "32/32 [==============================] - 0s 2ms/step - loss: 0.4951 - mean_absolute_error: 0.4951 - val_loss: 0.5698 - val_mean_absolute_error: 0.5698\n",
            "Epoch 204/500\n",
            "32/32 [==============================] - 0s 2ms/step - loss: 0.4899 - mean_absolute_error: 0.4899 - val_loss: 0.5821 - val_mean_absolute_error: 0.5821\n",
            "Epoch 205/500\n",
            "32/32 [==============================] - 0s 3ms/step - loss: 0.4901 - mean_absolute_error: 0.4901 - val_loss: 0.5699 - val_mean_absolute_error: 0.5699\n",
            "Epoch 206/500\n",
            "32/32 [==============================] - 0s 3ms/step - loss: 0.4921 - mean_absolute_error: 0.4921 - val_loss: 0.5683 - val_mean_absolute_error: 0.5683\n",
            "Epoch 207/500\n",
            "32/32 [==============================] - 0s 2ms/step - loss: 0.4918 - mean_absolute_error: 0.4918 - val_loss: 0.5720 - val_mean_absolute_error: 0.5720\n",
            "Epoch 208/500\n",
            "32/32 [==============================] - 0s 2ms/step - loss: 0.4874 - mean_absolute_error: 0.4874 - val_loss: 0.5670 - val_mean_absolute_error: 0.5670\n",
            "Epoch 209/500\n",
            "32/32 [==============================] - 0s 3ms/step - loss: 0.4883 - mean_absolute_error: 0.4883 - val_loss: 0.5752 - val_mean_absolute_error: 0.5752\n",
            "Epoch 210/500\n",
            "32/32 [==============================] - 0s 3ms/step - loss: 0.4905 - mean_absolute_error: 0.4905 - val_loss: 0.5669 - val_mean_absolute_error: 0.5669\n",
            "Epoch 211/500\n",
            "32/32 [==============================] - 0s 3ms/step - loss: 0.4911 - mean_absolute_error: 0.4911 - val_loss: 0.5649 - val_mean_absolute_error: 0.5649\n",
            "Epoch 212/500\n",
            "32/32 [==============================] - 0s 3ms/step - loss: 0.4928 - mean_absolute_error: 0.4928 - val_loss: 0.5640 - val_mean_absolute_error: 0.5640\n",
            "Epoch 213/500\n",
            "32/32 [==============================] - 0s 2ms/step - loss: 0.4907 - mean_absolute_error: 0.4907 - val_loss: 0.5731 - val_mean_absolute_error: 0.5731\n",
            "Epoch 214/500\n",
            "32/32 [==============================] - 0s 3ms/step - loss: 0.4896 - mean_absolute_error: 0.4896 - val_loss: 0.5660 - val_mean_absolute_error: 0.5660\n",
            "Epoch 215/500\n",
            "32/32 [==============================] - 0s 2ms/step - loss: 0.4969 - mean_absolute_error: 0.4969 - val_loss: 0.5729 - val_mean_absolute_error: 0.5729\n",
            "Epoch 216/500\n",
            "32/32 [==============================] - 0s 2ms/step - loss: 0.4957 - mean_absolute_error: 0.4957 - val_loss: 0.5639 - val_mean_absolute_error: 0.5639\n",
            "Epoch 217/500\n",
            "32/32 [==============================] - 0s 3ms/step - loss: 0.4869 - mean_absolute_error: 0.4869 - val_loss: 0.5700 - val_mean_absolute_error: 0.5700\n",
            "Epoch 218/500\n",
            "32/32 [==============================] - 0s 2ms/step - loss: 0.4917 - mean_absolute_error: 0.4917 - val_loss: 0.5628 - val_mean_absolute_error: 0.5628\n",
            "Epoch 219/500\n",
            "32/32 [==============================] - 0s 3ms/step - loss: 0.4897 - mean_absolute_error: 0.4897 - val_loss: 0.5616 - val_mean_absolute_error: 0.5616\n",
            "Epoch 220/500\n",
            "32/32 [==============================] - 0s 2ms/step - loss: 0.4897 - mean_absolute_error: 0.4897 - val_loss: 0.5635 - val_mean_absolute_error: 0.5635\n",
            "Epoch 221/500\n",
            "32/32 [==============================] - 0s 2ms/step - loss: 0.4867 - mean_absolute_error: 0.4867 - val_loss: 0.5647 - val_mean_absolute_error: 0.5647\n",
            "Epoch 222/500\n",
            "32/32 [==============================] - 0s 3ms/step - loss: 0.4855 - mean_absolute_error: 0.4855 - val_loss: 0.5744 - val_mean_absolute_error: 0.5744\n",
            "Epoch 223/500\n",
            "32/32 [==============================] - 0s 3ms/step - loss: 0.4851 - mean_absolute_error: 0.4851 - val_loss: 0.5641 - val_mean_absolute_error: 0.5641\n",
            "Epoch 224/500\n",
            "32/32 [==============================] - 0s 2ms/step - loss: 0.4931 - mean_absolute_error: 0.4931 - val_loss: 0.5609 - val_mean_absolute_error: 0.5609\n",
            "Epoch 225/500\n",
            "32/32 [==============================] - 0s 3ms/step - loss: 0.4933 - mean_absolute_error: 0.4933 - val_loss: 0.5772 - val_mean_absolute_error: 0.5772\n",
            "Epoch 226/500\n",
            "32/32 [==============================] - 0s 2ms/step - loss: 0.4841 - mean_absolute_error: 0.4841 - val_loss: 0.5591 - val_mean_absolute_error: 0.5591\n",
            "Epoch 227/500\n",
            "32/32 [==============================] - 0s 2ms/step - loss: 0.4859 - mean_absolute_error: 0.4859 - val_loss: 0.5577 - val_mean_absolute_error: 0.5577\n",
            "Epoch 228/500\n",
            "32/32 [==============================] - 0s 3ms/step - loss: 0.4831 - mean_absolute_error: 0.4831 - val_loss: 0.5586 - val_mean_absolute_error: 0.5586\n",
            "Epoch 229/500\n",
            "32/32 [==============================] - 0s 2ms/step - loss: 0.4846 - mean_absolute_error: 0.4846 - val_loss: 0.5854 - val_mean_absolute_error: 0.5854\n",
            "Epoch 230/500\n",
            "32/32 [==============================] - 0s 2ms/step - loss: 0.4899 - mean_absolute_error: 0.4899 - val_loss: 0.5613 - val_mean_absolute_error: 0.5613\n",
            "Epoch 231/500\n",
            "32/32 [==============================] - 0s 2ms/step - loss: 0.4854 - mean_absolute_error: 0.4854 - val_loss: 0.5594 - val_mean_absolute_error: 0.5594\n",
            "Epoch 232/500\n",
            "32/32 [==============================] - 0s 3ms/step - loss: 0.4810 - mean_absolute_error: 0.4810 - val_loss: 0.5553 - val_mean_absolute_error: 0.5553\n",
            "Epoch 233/500\n",
            "32/32 [==============================] - 0s 2ms/step - loss: 0.4843 - mean_absolute_error: 0.4843 - val_loss: 0.5578 - val_mean_absolute_error: 0.5578\n",
            "Epoch 234/500\n",
            "32/32 [==============================] - 0s 3ms/step - loss: 0.4862 - mean_absolute_error: 0.4862 - val_loss: 0.5745 - val_mean_absolute_error: 0.5745\n",
            "Epoch 235/500\n",
            "32/32 [==============================] - 0s 2ms/step - loss: 0.4794 - mean_absolute_error: 0.4794 - val_loss: 0.5575 - val_mean_absolute_error: 0.5575\n",
            "Epoch 236/500\n",
            "32/32 [==============================] - 0s 2ms/step - loss: 0.4821 - mean_absolute_error: 0.4821 - val_loss: 0.5551 - val_mean_absolute_error: 0.5551\n",
            "Epoch 237/500\n",
            "32/32 [==============================] - 0s 3ms/step - loss: 0.4804 - mean_absolute_error: 0.4804 - val_loss: 0.5525 - val_mean_absolute_error: 0.5525\n",
            "Epoch 238/500\n",
            "32/32 [==============================] - 0s 2ms/step - loss: 0.4847 - mean_absolute_error: 0.4847 - val_loss: 0.5517 - val_mean_absolute_error: 0.5517\n",
            "Epoch 239/500\n",
            "32/32 [==============================] - 0s 3ms/step - loss: 0.4839 - mean_absolute_error: 0.4839 - val_loss: 0.5639 - val_mean_absolute_error: 0.5639\n",
            "Epoch 240/500\n",
            "32/32 [==============================] - 0s 2ms/step - loss: 0.4823 - mean_absolute_error: 0.4823 - val_loss: 0.5569 - val_mean_absolute_error: 0.5569\n",
            "Epoch 241/500\n",
            "32/32 [==============================] - 0s 2ms/step - loss: 0.4786 - mean_absolute_error: 0.4786 - val_loss: 0.5635 - val_mean_absolute_error: 0.5635\n",
            "Epoch 242/500\n",
            "32/32 [==============================] - 0s 2ms/step - loss: 0.4776 - mean_absolute_error: 0.4776 - val_loss: 0.5563 - val_mean_absolute_error: 0.5563\n",
            "Epoch 243/500\n",
            "32/32 [==============================] - 0s 2ms/step - loss: 0.4803 - mean_absolute_error: 0.4803 - val_loss: 0.5578 - val_mean_absolute_error: 0.5578\n",
            "Epoch 244/500\n",
            "32/32 [==============================] - 0s 2ms/step - loss: 0.4828 - mean_absolute_error: 0.4828 - val_loss: 0.5600 - val_mean_absolute_error: 0.5600\n",
            "Epoch 245/500\n",
            "32/32 [==============================] - 0s 3ms/step - loss: 0.4767 - mean_absolute_error: 0.4767 - val_loss: 0.5482 - val_mean_absolute_error: 0.5482\n",
            "Epoch 246/500\n",
            "32/32 [==============================] - 0s 3ms/step - loss: 0.4797 - mean_absolute_error: 0.4797 - val_loss: 0.5480 - val_mean_absolute_error: 0.5480\n",
            "Epoch 247/500\n",
            "32/32 [==============================] - 0s 2ms/step - loss: 0.4781 - mean_absolute_error: 0.4781 - val_loss: 0.5593 - val_mean_absolute_error: 0.5593\n",
            "Epoch 248/500\n",
            "32/32 [==============================] - 0s 2ms/step - loss: 0.4820 - mean_absolute_error: 0.4820 - val_loss: 0.5497 - val_mean_absolute_error: 0.5497\n",
            "Epoch 249/500\n",
            "32/32 [==============================] - 0s 2ms/step - loss: 0.4864 - mean_absolute_error: 0.4864 - val_loss: 0.5511 - val_mean_absolute_error: 0.5511\n",
            "Epoch 250/500\n",
            "32/32 [==============================] - 0s 3ms/step - loss: 0.4794 - mean_absolute_error: 0.4794 - val_loss: 0.5490 - val_mean_absolute_error: 0.5490\n",
            "Epoch 251/500\n",
            "32/32 [==============================] - 0s 2ms/step - loss: 0.4814 - mean_absolute_error: 0.4814 - val_loss: 0.5472 - val_mean_absolute_error: 0.5472\n",
            "Epoch 252/500\n",
            "32/32 [==============================] - 0s 2ms/step - loss: 0.4791 - mean_absolute_error: 0.4791 - val_loss: 0.5679 - val_mean_absolute_error: 0.5679\n",
            "Epoch 253/500\n",
            "32/32 [==============================] - 0s 3ms/step - loss: 0.4764 - mean_absolute_error: 0.4764 - val_loss: 0.5509 - val_mean_absolute_error: 0.5509\n",
            "Epoch 254/500\n",
            "32/32 [==============================] - 0s 2ms/step - loss: 0.4745 - mean_absolute_error: 0.4745 - val_loss: 0.5475 - val_mean_absolute_error: 0.5475\n",
            "Epoch 255/500\n",
            "32/32 [==============================] - 0s 3ms/step - loss: 0.4790 - mean_absolute_error: 0.4790 - val_loss: 0.5572 - val_mean_absolute_error: 0.5572\n",
            "Epoch 256/500\n",
            "32/32 [==============================] - 0s 2ms/step - loss: 0.4727 - mean_absolute_error: 0.4727 - val_loss: 0.5546 - val_mean_absolute_error: 0.5546\n",
            "Epoch 257/500\n",
            "32/32 [==============================] - 0s 3ms/step - loss: 0.4788 - mean_absolute_error: 0.4788 - val_loss: 0.5476 - val_mean_absolute_error: 0.5476\n",
            "Epoch 258/500\n",
            "32/32 [==============================] - 0s 2ms/step - loss: 0.4739 - mean_absolute_error: 0.4739 - val_loss: 0.5454 - val_mean_absolute_error: 0.5454\n",
            "Epoch 259/500\n",
            "32/32 [==============================] - 0s 2ms/step - loss: 0.4766 - mean_absolute_error: 0.4766 - val_loss: 0.5460 - val_mean_absolute_error: 0.5460\n",
            "Epoch 260/500\n",
            "32/32 [==============================] - 0s 3ms/step - loss: 0.4736 - mean_absolute_error: 0.4736 - val_loss: 0.5517 - val_mean_absolute_error: 0.5517\n",
            "Epoch 261/500\n",
            "32/32 [==============================] - 0s 3ms/step - loss: 0.4779 - mean_absolute_error: 0.4779 - val_loss: 0.5443 - val_mean_absolute_error: 0.5443\n",
            "Epoch 262/500\n",
            "32/32 [==============================] - 0s 2ms/step - loss: 0.4829 - mean_absolute_error: 0.4829 - val_loss: 0.5578 - val_mean_absolute_error: 0.5578\n",
            "Epoch 263/500\n",
            "32/32 [==============================] - 0s 3ms/step - loss: 0.4795 - mean_absolute_error: 0.4795 - val_loss: 0.5456 - val_mean_absolute_error: 0.5456\n",
            "Epoch 264/500\n",
            "32/32 [==============================] - 0s 3ms/step - loss: 0.4781 - mean_absolute_error: 0.4781 - val_loss: 0.5603 - val_mean_absolute_error: 0.5603\n",
            "Epoch 265/500\n",
            "32/32 [==============================] - 0s 3ms/step - loss: 0.4784 - mean_absolute_error: 0.4784 - val_loss: 0.5465 - val_mean_absolute_error: 0.5465\n",
            "Epoch 266/500\n",
            "32/32 [==============================] - 0s 3ms/step - loss: 0.4741 - mean_absolute_error: 0.4741 - val_loss: 0.5473 - val_mean_absolute_error: 0.5473\n",
            "Epoch 267/500\n",
            "32/32 [==============================] - 0s 3ms/step - loss: 0.4737 - mean_absolute_error: 0.4737 - val_loss: 0.5467 - val_mean_absolute_error: 0.5467\n",
            "Epoch 268/500\n",
            "32/32 [==============================] - 0s 3ms/step - loss: 0.4717 - mean_absolute_error: 0.4717 - val_loss: 0.5490 - val_mean_absolute_error: 0.5490\n",
            "Epoch 269/500\n",
            "32/32 [==============================] - 0s 2ms/step - loss: 0.4692 - mean_absolute_error: 0.4692 - val_loss: 0.5439 - val_mean_absolute_error: 0.5439\n",
            "Epoch 270/500\n",
            "32/32 [==============================] - 0s 2ms/step - loss: 0.4716 - mean_absolute_error: 0.4716 - val_loss: 0.5495 - val_mean_absolute_error: 0.5495\n",
            "Epoch 271/500\n",
            "32/32 [==============================] - 0s 2ms/step - loss: 0.4707 - mean_absolute_error: 0.4707 - val_loss: 0.5445 - val_mean_absolute_error: 0.5445\n",
            "Epoch 272/500\n",
            "32/32 [==============================] - 0s 2ms/step - loss: 0.4695 - mean_absolute_error: 0.4695 - val_loss: 0.5775 - val_mean_absolute_error: 0.5775\n",
            "Epoch 273/500\n",
            "32/32 [==============================] - 0s 3ms/step - loss: 0.4794 - mean_absolute_error: 0.4794 - val_loss: 0.5406 - val_mean_absolute_error: 0.5406\n",
            "Epoch 274/500\n",
            "32/32 [==============================] - 0s 3ms/step - loss: 0.4837 - mean_absolute_error: 0.4837 - val_loss: 0.5480 - val_mean_absolute_error: 0.5480\n",
            "Epoch 275/500\n",
            "32/32 [==============================] - 0s 3ms/step - loss: 0.4688 - mean_absolute_error: 0.4688 - val_loss: 0.5395 - val_mean_absolute_error: 0.5395\n",
            "Epoch 276/500\n",
            "32/32 [==============================] - 0s 2ms/step - loss: 0.4679 - mean_absolute_error: 0.4679 - val_loss: 0.5491 - val_mean_absolute_error: 0.5491\n",
            "Epoch 277/500\n",
            "32/32 [==============================] - 0s 2ms/step - loss: 0.4707 - mean_absolute_error: 0.4707 - val_loss: 0.5488 - val_mean_absolute_error: 0.5488\n",
            "Epoch 278/500\n",
            "32/32 [==============================] - 0s 2ms/step - loss: 0.4693 - mean_absolute_error: 0.4693 - val_loss: 0.5494 - val_mean_absolute_error: 0.5494\n",
            "Epoch 279/500\n",
            "32/32 [==============================] - 0s 3ms/step - loss: 0.4722 - mean_absolute_error: 0.4722 - val_loss: 0.5488 - val_mean_absolute_error: 0.5488\n",
            "Epoch 280/500\n",
            "32/32 [==============================] - 0s 2ms/step - loss: 0.4701 - mean_absolute_error: 0.4701 - val_loss: 0.5447 - val_mean_absolute_error: 0.5447\n",
            "Epoch 281/500\n",
            "32/32 [==============================] - 0s 3ms/step - loss: 0.4704 - mean_absolute_error: 0.4704 - val_loss: 0.5426 - val_mean_absolute_error: 0.5426\n",
            "Epoch 282/500\n",
            "32/32 [==============================] - 0s 2ms/step - loss: 0.4694 - mean_absolute_error: 0.4694 - val_loss: 0.5482 - val_mean_absolute_error: 0.5482\n",
            "Epoch 283/500\n",
            "32/32 [==============================] - 0s 3ms/step - loss: 0.4707 - mean_absolute_error: 0.4707 - val_loss: 0.5407 - val_mean_absolute_error: 0.5407\n",
            "Epoch 284/500\n",
            "32/32 [==============================] - 0s 3ms/step - loss: 0.4663 - mean_absolute_error: 0.4663 - val_loss: 0.5479 - val_mean_absolute_error: 0.5479\n",
            "Epoch 285/500\n",
            "32/32 [==============================] - 0s 3ms/step - loss: 0.4686 - mean_absolute_error: 0.4686 - val_loss: 0.5508 - val_mean_absolute_error: 0.5508\n",
            "Epoch 286/500\n",
            "32/32 [==============================] - 0s 2ms/step - loss: 0.4733 - mean_absolute_error: 0.4733 - val_loss: 0.5497 - val_mean_absolute_error: 0.5497\n",
            "Epoch 287/500\n",
            "32/32 [==============================] - 0s 2ms/step - loss: 0.4689 - mean_absolute_error: 0.4689 - val_loss: 0.5446 - val_mean_absolute_error: 0.5446\n",
            "Epoch 288/500\n",
            "32/32 [==============================] - 0s 3ms/step - loss: 0.4796 - mean_absolute_error: 0.4796 - val_loss: 0.5377 - val_mean_absolute_error: 0.5377\n",
            "Epoch 289/500\n",
            "32/32 [==============================] - 0s 2ms/step - loss: 0.4703 - mean_absolute_error: 0.4703 - val_loss: 0.5589 - val_mean_absolute_error: 0.5589\n",
            "Epoch 290/500\n",
            "32/32 [==============================] - 0s 3ms/step - loss: 0.4727 - mean_absolute_error: 0.4727 - val_loss: 0.5345 - val_mean_absolute_error: 0.5345\n",
            "Epoch 291/500\n",
            "32/32 [==============================] - 0s 3ms/step - loss: 0.4748 - mean_absolute_error: 0.4748 - val_loss: 0.5630 - val_mean_absolute_error: 0.5630\n",
            "Epoch 292/500\n",
            "32/32 [==============================] - 0s 3ms/step - loss: 0.4696 - mean_absolute_error: 0.4696 - val_loss: 0.5415 - val_mean_absolute_error: 0.5415\n",
            "Epoch 293/500\n",
            "32/32 [==============================] - 0s 3ms/step - loss: 0.4663 - mean_absolute_error: 0.4663 - val_loss: 0.5386 - val_mean_absolute_error: 0.5386\n",
            "Epoch 294/500\n",
            "32/32 [==============================] - 0s 2ms/step - loss: 0.4640 - mean_absolute_error: 0.4640 - val_loss: 0.5326 - val_mean_absolute_error: 0.5326\n",
            "Epoch 295/500\n",
            "32/32 [==============================] - 0s 3ms/step - loss: 0.4658 - mean_absolute_error: 0.4658 - val_loss: 0.5341 - val_mean_absolute_error: 0.5341\n",
            "Epoch 296/500\n",
            "32/32 [==============================] - 0s 3ms/step - loss: 0.4635 - mean_absolute_error: 0.4635 - val_loss: 0.5303 - val_mean_absolute_error: 0.5303\n",
            "Epoch 297/500\n",
            "32/32 [==============================] - 0s 3ms/step - loss: 0.4638 - mean_absolute_error: 0.4638 - val_loss: 0.5309 - val_mean_absolute_error: 0.5309\n",
            "Epoch 298/500\n",
            "32/32 [==============================] - 0s 2ms/step - loss: 0.4656 - mean_absolute_error: 0.4656 - val_loss: 0.5333 - val_mean_absolute_error: 0.5333\n",
            "Epoch 299/500\n",
            "32/32 [==============================] - 0s 2ms/step - loss: 0.4673 - mean_absolute_error: 0.4673 - val_loss: 0.5427 - val_mean_absolute_error: 0.5427\n",
            "Epoch 300/500\n",
            "32/32 [==============================] - 0s 3ms/step - loss: 0.4627 - mean_absolute_error: 0.4627 - val_loss: 0.5304 - val_mean_absolute_error: 0.5304\n",
            "Epoch 301/500\n",
            "32/32 [==============================] - 0s 3ms/step - loss: 0.4626 - mean_absolute_error: 0.4626 - val_loss: 0.5340 - val_mean_absolute_error: 0.5340\n",
            "Epoch 302/500\n",
            "32/32 [==============================] - 0s 2ms/step - loss: 0.4689 - mean_absolute_error: 0.4689 - val_loss: 0.5405 - val_mean_absolute_error: 0.5405\n",
            "Epoch 303/500\n",
            "32/32 [==============================] - 0s 2ms/step - loss: 0.4654 - mean_absolute_error: 0.4654 - val_loss: 0.5385 - val_mean_absolute_error: 0.5385\n",
            "Epoch 304/500\n",
            "32/32 [==============================] - 0s 3ms/step - loss: 0.4714 - mean_absolute_error: 0.4714 - val_loss: 0.5583 - val_mean_absolute_error: 0.5583\n",
            "Epoch 305/500\n",
            "32/32 [==============================] - 0s 3ms/step - loss: 0.4698 - mean_absolute_error: 0.4698 - val_loss: 0.5413 - val_mean_absolute_error: 0.5413\n",
            "Epoch 306/500\n",
            "32/32 [==============================] - 0s 3ms/step - loss: 0.4644 - mean_absolute_error: 0.4644 - val_loss: 0.5336 - val_mean_absolute_error: 0.5336\n",
            "Epoch 307/500\n",
            "32/32 [==============================] - 0s 3ms/step - loss: 0.4633 - mean_absolute_error: 0.4633 - val_loss: 0.5349 - val_mean_absolute_error: 0.5349\n",
            "Epoch 308/500\n",
            "32/32 [==============================] - 0s 3ms/step - loss: 0.4617 - mean_absolute_error: 0.4617 - val_loss: 0.5313 - val_mean_absolute_error: 0.5313\n",
            "Epoch 309/500\n",
            "32/32 [==============================] - 0s 3ms/step - loss: 0.4619 - mean_absolute_error: 0.4619 - val_loss: 0.5293 - val_mean_absolute_error: 0.5293\n",
            "Epoch 310/500\n",
            "32/32 [==============================] - 0s 2ms/step - loss: 0.4736 - mean_absolute_error: 0.4736 - val_loss: 0.5545 - val_mean_absolute_error: 0.5545\n",
            "Epoch 311/500\n",
            "32/32 [==============================] - 0s 3ms/step - loss: 0.4861 - mean_absolute_error: 0.4861 - val_loss: 0.5310 - val_mean_absolute_error: 0.5310\n",
            "Epoch 312/500\n",
            "32/32 [==============================] - 0s 3ms/step - loss: 0.4645 - mean_absolute_error: 0.4645 - val_loss: 0.5293 - val_mean_absolute_error: 0.5293\n",
            "Epoch 313/500\n",
            "32/32 [==============================] - 0s 3ms/step - loss: 0.4688 - mean_absolute_error: 0.4688 - val_loss: 0.5316 - val_mean_absolute_error: 0.5316\n",
            "Epoch 314/500\n",
            "32/32 [==============================] - 0s 2ms/step - loss: 0.4635 - mean_absolute_error: 0.4635 - val_loss: 0.5369 - val_mean_absolute_error: 0.5369\n",
            "Epoch 315/500\n",
            "32/32 [==============================] - 0s 3ms/step - loss: 0.4620 - mean_absolute_error: 0.4620 - val_loss: 0.5353 - val_mean_absolute_error: 0.5353\n",
            "Epoch 316/500\n",
            "32/32 [==============================] - 0s 3ms/step - loss: 0.4632 - mean_absolute_error: 0.4632 - val_loss: 0.5279 - val_mean_absolute_error: 0.5279\n",
            "Epoch 317/500\n",
            "32/32 [==============================] - 0s 2ms/step - loss: 0.4634 - mean_absolute_error: 0.4634 - val_loss: 0.5422 - val_mean_absolute_error: 0.5422\n",
            "Epoch 318/500\n",
            "32/32 [==============================] - 0s 3ms/step - loss: 0.4612 - mean_absolute_error: 0.4612 - val_loss: 0.5312 - val_mean_absolute_error: 0.5312\n",
            "Epoch 319/500\n",
            "32/32 [==============================] - 0s 2ms/step - loss: 0.4608 - mean_absolute_error: 0.4608 - val_loss: 0.5303 - val_mean_absolute_error: 0.5303\n",
            "Epoch 320/500\n",
            "32/32 [==============================] - 0s 2ms/step - loss: 0.4648 - mean_absolute_error: 0.4648 - val_loss: 0.5266 - val_mean_absolute_error: 0.5266\n",
            "Epoch 321/500\n",
            "32/32 [==============================] - 0s 2ms/step - loss: 0.4616 - mean_absolute_error: 0.4616 - val_loss: 0.5331 - val_mean_absolute_error: 0.5331\n",
            "Epoch 322/500\n",
            "32/32 [==============================] - 0s 2ms/step - loss: 0.4597 - mean_absolute_error: 0.4597 - val_loss: 0.5387 - val_mean_absolute_error: 0.5387\n",
            "Epoch 323/500\n",
            "32/32 [==============================] - 0s 3ms/step - loss: 0.4696 - mean_absolute_error: 0.4696 - val_loss: 0.5329 - val_mean_absolute_error: 0.5329\n",
            "Epoch 324/500\n",
            "32/32 [==============================] - 0s 3ms/step - loss: 0.4707 - mean_absolute_error: 0.4707 - val_loss: 0.5450 - val_mean_absolute_error: 0.5450\n",
            "Epoch 325/500\n",
            "32/32 [==============================] - 0s 3ms/step - loss: 0.4607 - mean_absolute_error: 0.4607 - val_loss: 0.5274 - val_mean_absolute_error: 0.5274\n",
            "Epoch 326/500\n",
            "32/32 [==============================] - 0s 3ms/step - loss: 0.4591 - mean_absolute_error: 0.4591 - val_loss: 0.5284 - val_mean_absolute_error: 0.5284\n",
            "Epoch 327/500\n",
            "32/32 [==============================] - 0s 3ms/step - loss: 0.4584 - mean_absolute_error: 0.4584 - val_loss: 0.5325 - val_mean_absolute_error: 0.5325\n",
            "Epoch 328/500\n",
            "32/32 [==============================] - 0s 3ms/step - loss: 0.4575 - mean_absolute_error: 0.4575 - val_loss: 0.5274 - val_mean_absolute_error: 0.5274\n",
            "Epoch 329/500\n",
            "32/32 [==============================] - 0s 3ms/step - loss: 0.4570 - mean_absolute_error: 0.4570 - val_loss: 0.5274 - val_mean_absolute_error: 0.5274\n",
            "Epoch 330/500\n",
            "32/32 [==============================] - 0s 3ms/step - loss: 0.4590 - mean_absolute_error: 0.4590 - val_loss: 0.5250 - val_mean_absolute_error: 0.5250\n",
            "Epoch 331/500\n",
            "32/32 [==============================] - 0s 2ms/step - loss: 0.4629 - mean_absolute_error: 0.4629 - val_loss: 0.5236 - val_mean_absolute_error: 0.5236\n",
            "Epoch 332/500\n",
            "32/32 [==============================] - 0s 3ms/step - loss: 0.4577 - mean_absolute_error: 0.4577 - val_loss: 0.5256 - val_mean_absolute_error: 0.5256\n",
            "Epoch 333/500\n",
            "32/32 [==============================] - 0s 3ms/step - loss: 0.4586 - mean_absolute_error: 0.4586 - val_loss: 0.5250 - val_mean_absolute_error: 0.5250\n",
            "Epoch 334/500\n",
            "32/32 [==============================] - 0s 3ms/step - loss: 0.4594 - mean_absolute_error: 0.4594 - val_loss: 0.5266 - val_mean_absolute_error: 0.5266\n",
            "Epoch 335/500\n",
            "32/32 [==============================] - 0s 2ms/step - loss: 0.4570 - mean_absolute_error: 0.4570 - val_loss: 0.5236 - val_mean_absolute_error: 0.5236\n",
            "Epoch 336/500\n",
            "32/32 [==============================] - 0s 2ms/step - loss: 0.4574 - mean_absolute_error: 0.4574 - val_loss: 0.5284 - val_mean_absolute_error: 0.5284\n",
            "Epoch 337/500\n",
            "32/32 [==============================] - 0s 3ms/step - loss: 0.4580 - mean_absolute_error: 0.4580 - val_loss: 0.5217 - val_mean_absolute_error: 0.5217\n",
            "Epoch 338/500\n",
            "32/32 [==============================] - 0s 2ms/step - loss: 0.4582 - mean_absolute_error: 0.4582 - val_loss: 0.5244 - val_mean_absolute_error: 0.5244\n",
            "Epoch 339/500\n",
            "32/32 [==============================] - 0s 3ms/step - loss: 0.4568 - mean_absolute_error: 0.4568 - val_loss: 0.5240 - val_mean_absolute_error: 0.5240\n",
            "Epoch 340/500\n",
            "32/32 [==============================] - 0s 3ms/step - loss: 0.4566 - mean_absolute_error: 0.4566 - val_loss: 0.5196 - val_mean_absolute_error: 0.5196\n",
            "Epoch 341/500\n",
            "32/32 [==============================] - 0s 3ms/step - loss: 0.4575 - mean_absolute_error: 0.4575 - val_loss: 0.5203 - val_mean_absolute_error: 0.5203\n",
            "Epoch 342/500\n",
            "32/32 [==============================] - 0s 3ms/step - loss: 0.4551 - mean_absolute_error: 0.4551 - val_loss: 0.5227 - val_mean_absolute_error: 0.5227\n",
            "Epoch 343/500\n",
            "32/32 [==============================] - 0s 3ms/step - loss: 0.4554 - mean_absolute_error: 0.4554 - val_loss: 0.5199 - val_mean_absolute_error: 0.5199\n",
            "Epoch 344/500\n",
            "32/32 [==============================] - 0s 3ms/step - loss: 0.4603 - mean_absolute_error: 0.4603 - val_loss: 0.5210 - val_mean_absolute_error: 0.5210\n",
            "Epoch 345/500\n",
            "32/32 [==============================] - 0s 2ms/step - loss: 0.4576 - mean_absolute_error: 0.4576 - val_loss: 0.5204 - val_mean_absolute_error: 0.5204\n",
            "Epoch 346/500\n",
            "32/32 [==============================] - 0s 3ms/step - loss: 0.4596 - mean_absolute_error: 0.4596 - val_loss: 0.5266 - val_mean_absolute_error: 0.5266\n",
            "Epoch 347/500\n",
            "32/32 [==============================] - 0s 3ms/step - loss: 0.4524 - mean_absolute_error: 0.4524 - val_loss: 0.5164 - val_mean_absolute_error: 0.5164\n",
            "Epoch 348/500\n",
            "32/32 [==============================] - 0s 3ms/step - loss: 0.4563 - mean_absolute_error: 0.4563 - val_loss: 0.5409 - val_mean_absolute_error: 0.5409\n",
            "Epoch 349/500\n",
            "32/32 [==============================] - 0s 3ms/step - loss: 0.4556 - mean_absolute_error: 0.4556 - val_loss: 0.5160 - val_mean_absolute_error: 0.5160\n",
            "Epoch 350/500\n",
            "32/32 [==============================] - 0s 3ms/step - loss: 0.4622 - mean_absolute_error: 0.4622 - val_loss: 0.5211 - val_mean_absolute_error: 0.5211\n",
            "Epoch 351/500\n",
            "32/32 [==============================] - 0s 3ms/step - loss: 0.4557 - mean_absolute_error: 0.4557 - val_loss: 0.5206 - val_mean_absolute_error: 0.5206\n",
            "Epoch 352/500\n",
            "32/32 [==============================] - 0s 3ms/step - loss: 0.4528 - mean_absolute_error: 0.4528 - val_loss: 0.5348 - val_mean_absolute_error: 0.5348\n",
            "Epoch 353/500\n",
            "32/32 [==============================] - 0s 3ms/step - loss: 0.4660 - mean_absolute_error: 0.4660 - val_loss: 0.5130 - val_mean_absolute_error: 0.5130\n",
            "Epoch 354/500\n",
            "32/32 [==============================] - 0s 3ms/step - loss: 0.4569 - mean_absolute_error: 0.4569 - val_loss: 0.5150 - val_mean_absolute_error: 0.5150\n",
            "Epoch 355/500\n",
            "32/32 [==============================] - 0s 3ms/step - loss: 0.4584 - mean_absolute_error: 0.4584 - val_loss: 0.5227 - val_mean_absolute_error: 0.5227\n",
            "Epoch 356/500\n",
            "32/32 [==============================] - 0s 3ms/step - loss: 0.4547 - mean_absolute_error: 0.4547 - val_loss: 0.5161 - val_mean_absolute_error: 0.5161\n",
            "Epoch 357/500\n",
            "32/32 [==============================] - 0s 3ms/step - loss: 0.4491 - mean_absolute_error: 0.4491 - val_loss: 0.5220 - val_mean_absolute_error: 0.5220\n",
            "Epoch 358/500\n",
            "32/32 [==============================] - 0s 2ms/step - loss: 0.4537 - mean_absolute_error: 0.4537 - val_loss: 0.5117 - val_mean_absolute_error: 0.5117\n",
            "Epoch 359/500\n",
            "32/32 [==============================] - 0s 3ms/step - loss: 0.4498 - mean_absolute_error: 0.4498 - val_loss: 0.5107 - val_mean_absolute_error: 0.5107\n",
            "Epoch 360/500\n",
            "32/32 [==============================] - 0s 3ms/step - loss: 0.4559 - mean_absolute_error: 0.4559 - val_loss: 0.5152 - val_mean_absolute_error: 0.5152\n",
            "Epoch 361/500\n",
            "32/32 [==============================] - 0s 3ms/step - loss: 0.4519 - mean_absolute_error: 0.4519 - val_loss: 0.5136 - val_mean_absolute_error: 0.5136\n",
            "Epoch 362/500\n",
            "32/32 [==============================] - 0s 3ms/step - loss: 0.4533 - mean_absolute_error: 0.4533 - val_loss: 0.5103 - val_mean_absolute_error: 0.5103\n",
            "Epoch 363/500\n",
            "32/32 [==============================] - 0s 2ms/step - loss: 0.4601 - mean_absolute_error: 0.4601 - val_loss: 0.5296 - val_mean_absolute_error: 0.5296\n",
            "Epoch 364/500\n",
            "32/32 [==============================] - 0s 3ms/step - loss: 0.4608 - mean_absolute_error: 0.4608 - val_loss: 0.5116 - val_mean_absolute_error: 0.5116\n",
            "Epoch 365/500\n",
            "32/32 [==============================] - 0s 3ms/step - loss: 0.4549 - mean_absolute_error: 0.4549 - val_loss: 0.5206 - val_mean_absolute_error: 0.5206\n",
            "Epoch 366/500\n",
            "32/32 [==============================] - 0s 3ms/step - loss: 0.4489 - mean_absolute_error: 0.4489 - val_loss: 0.5183 - val_mean_absolute_error: 0.5183\n",
            "Epoch 367/500\n",
            "32/32 [==============================] - 0s 3ms/step - loss: 0.4535 - mean_absolute_error: 0.4535 - val_loss: 0.5074 - val_mean_absolute_error: 0.5074\n",
            "Epoch 368/500\n",
            "32/32 [==============================] - 0s 2ms/step - loss: 0.4523 - mean_absolute_error: 0.4523 - val_loss: 0.5058 - val_mean_absolute_error: 0.5058\n",
            "Epoch 369/500\n",
            "32/32 [==============================] - 0s 3ms/step - loss: 0.4664 - mean_absolute_error: 0.4664 - val_loss: 0.5315 - val_mean_absolute_error: 0.5315\n",
            "Epoch 370/500\n",
            "32/32 [==============================] - 0s 2ms/step - loss: 0.4487 - mean_absolute_error: 0.4487 - val_loss: 0.5105 - val_mean_absolute_error: 0.5105\n",
            "Epoch 371/500\n",
            "32/32 [==============================] - 0s 3ms/step - loss: 0.4515 - mean_absolute_error: 0.4515 - val_loss: 0.5059 - val_mean_absolute_error: 0.5059\n",
            "Epoch 372/500\n",
            "32/32 [==============================] - 0s 3ms/step - loss: 0.4467 - mean_absolute_error: 0.4467 - val_loss: 0.5271 - val_mean_absolute_error: 0.5271\n",
            "Epoch 373/500\n",
            "32/32 [==============================] - 0s 3ms/step - loss: 0.4500 - mean_absolute_error: 0.4500 - val_loss: 0.5060 - val_mean_absolute_error: 0.5060\n",
            "Epoch 374/500\n",
            "32/32 [==============================] - 0s 2ms/step - loss: 0.4468 - mean_absolute_error: 0.4468 - val_loss: 0.5249 - val_mean_absolute_error: 0.5249\n",
            "Epoch 375/500\n",
            "32/32 [==============================] - 0s 3ms/step - loss: 0.4568 - mean_absolute_error: 0.4568 - val_loss: 0.5098 - val_mean_absolute_error: 0.5098\n",
            "Epoch 376/500\n",
            "32/32 [==============================] - 0s 3ms/step - loss: 0.4484 - mean_absolute_error: 0.4484 - val_loss: 0.5026 - val_mean_absolute_error: 0.5026\n",
            "Epoch 377/500\n",
            "32/32 [==============================] - 0s 3ms/step - loss: 0.4521 - mean_absolute_error: 0.4521 - val_loss: 0.5024 - val_mean_absolute_error: 0.5024\n",
            "Epoch 378/500\n",
            "32/32 [==============================] - 0s 3ms/step - loss: 0.4578 - mean_absolute_error: 0.4578 - val_loss: 0.4998 - val_mean_absolute_error: 0.4998\n",
            "Epoch 379/500\n",
            "32/32 [==============================] - 0s 3ms/step - loss: 0.4462 - mean_absolute_error: 0.4462 - val_loss: 0.5132 - val_mean_absolute_error: 0.5132\n",
            "Epoch 380/500\n",
            "32/32 [==============================] - 0s 3ms/step - loss: 0.4417 - mean_absolute_error: 0.4417 - val_loss: 0.5002 - val_mean_absolute_error: 0.5002\n",
            "Epoch 381/500\n",
            "32/32 [==============================] - 0s 3ms/step - loss: 0.4437 - mean_absolute_error: 0.4437 - val_loss: 0.4991 - val_mean_absolute_error: 0.4991\n",
            "Epoch 382/500\n",
            "32/32 [==============================] - 0s 3ms/step - loss: 0.4495 - mean_absolute_error: 0.4495 - val_loss: 0.5318 - val_mean_absolute_error: 0.5318\n",
            "Epoch 383/500\n",
            "32/32 [==============================] - 0s 2ms/step - loss: 0.4514 - mean_absolute_error: 0.4514 - val_loss: 0.5160 - val_mean_absolute_error: 0.5160\n",
            "Epoch 384/500\n",
            "32/32 [==============================] - 0s 3ms/step - loss: 0.4439 - mean_absolute_error: 0.4439 - val_loss: 0.4968 - val_mean_absolute_error: 0.4968\n",
            "Epoch 385/500\n",
            "32/32 [==============================] - 0s 3ms/step - loss: 0.4470 - mean_absolute_error: 0.4470 - val_loss: 0.5160 - val_mean_absolute_error: 0.5160\n",
            "Epoch 386/500\n",
            "32/32 [==============================] - 0s 3ms/step - loss: 0.4442 - mean_absolute_error: 0.4442 - val_loss: 0.4966 - val_mean_absolute_error: 0.4966\n",
            "Epoch 387/500\n",
            "32/32 [==============================] - 0s 3ms/step - loss: 0.4418 - mean_absolute_error: 0.4418 - val_loss: 0.4970 - val_mean_absolute_error: 0.4970\n",
            "Epoch 388/500\n",
            "32/32 [==============================] - 0s 3ms/step - loss: 0.4460 - mean_absolute_error: 0.4460 - val_loss: 0.5037 - val_mean_absolute_error: 0.5037\n",
            "Epoch 389/500\n",
            "32/32 [==============================] - 0s 3ms/step - loss: 0.4576 - mean_absolute_error: 0.4576 - val_loss: 0.4948 - val_mean_absolute_error: 0.4948\n",
            "Epoch 390/500\n",
            "32/32 [==============================] - 0s 3ms/step - loss: 0.4414 - mean_absolute_error: 0.4414 - val_loss: 0.4994 - val_mean_absolute_error: 0.4994\n",
            "Epoch 391/500\n",
            "32/32 [==============================] - 0s 3ms/step - loss: 0.4414 - mean_absolute_error: 0.4414 - val_loss: 0.5042 - val_mean_absolute_error: 0.5042\n",
            "Epoch 392/500\n",
            "32/32 [==============================] - 0s 3ms/step - loss: 0.4424 - mean_absolute_error: 0.4424 - val_loss: 0.4970 - val_mean_absolute_error: 0.4970\n",
            "Epoch 393/500\n",
            "32/32 [==============================] - 0s 3ms/step - loss: 0.4424 - mean_absolute_error: 0.4424 - val_loss: 0.4969 - val_mean_absolute_error: 0.4969\n",
            "Epoch 394/500\n",
            "32/32 [==============================] - 0s 3ms/step - loss: 0.4410 - mean_absolute_error: 0.4410 - val_loss: 0.5036 - val_mean_absolute_error: 0.5036\n",
            "Epoch 395/500\n",
            "32/32 [==============================] - 0s 3ms/step - loss: 0.4376 - mean_absolute_error: 0.4376 - val_loss: 0.5075 - val_mean_absolute_error: 0.5075\n",
            "Epoch 396/500\n",
            "32/32 [==============================] - 0s 3ms/step - loss: 0.4409 - mean_absolute_error: 0.4409 - val_loss: 0.4909 - val_mean_absolute_error: 0.4909\n",
            "Epoch 397/500\n",
            "32/32 [==============================] - 0s 3ms/step - loss: 0.4405 - mean_absolute_error: 0.4405 - val_loss: 0.5009 - val_mean_absolute_error: 0.5009\n",
            "Epoch 398/500\n",
            "32/32 [==============================] - 0s 3ms/step - loss: 0.4393 - mean_absolute_error: 0.4393 - val_loss: 0.4920 - val_mean_absolute_error: 0.4920\n",
            "Epoch 399/500\n",
            "32/32 [==============================] - 0s 3ms/step - loss: 0.4380 - mean_absolute_error: 0.4380 - val_loss: 0.5044 - val_mean_absolute_error: 0.5044\n",
            "Epoch 400/500\n",
            "32/32 [==============================] - 0s 3ms/step - loss: 0.4473 - mean_absolute_error: 0.4473 - val_loss: 0.4971 - val_mean_absolute_error: 0.4971\n",
            "Epoch 401/500\n",
            "32/32 [==============================] - 0s 2ms/step - loss: 0.4410 - mean_absolute_error: 0.4410 - val_loss: 0.4916 - val_mean_absolute_error: 0.4916\n",
            "Epoch 402/500\n",
            "32/32 [==============================] - 0s 3ms/step - loss: 0.4415 - mean_absolute_error: 0.4415 - val_loss: 0.4933 - val_mean_absolute_error: 0.4933\n",
            "Epoch 403/500\n",
            "32/32 [==============================] - 0s 3ms/step - loss: 0.4399 - mean_absolute_error: 0.4399 - val_loss: 0.4924 - val_mean_absolute_error: 0.4924\n",
            "Epoch 404/500\n",
            "32/32 [==============================] - 0s 3ms/step - loss: 0.4392 - mean_absolute_error: 0.4392 - val_loss: 0.4967 - val_mean_absolute_error: 0.4967\n",
            "Epoch 405/500\n",
            "32/32 [==============================] - 0s 3ms/step - loss: 0.4380 - mean_absolute_error: 0.4380 - val_loss: 0.4898 - val_mean_absolute_error: 0.4898\n",
            "Epoch 406/500\n",
            "32/32 [==============================] - 0s 3ms/step - loss: 0.4437 - mean_absolute_error: 0.4437 - val_loss: 0.4882 - val_mean_absolute_error: 0.4882\n",
            "Epoch 407/500\n",
            "32/32 [==============================] - 0s 3ms/step - loss: 0.4365 - mean_absolute_error: 0.4365 - val_loss: 0.4893 - val_mean_absolute_error: 0.4893\n",
            "Epoch 408/500\n",
            "32/32 [==============================] - 0s 3ms/step - loss: 0.4360 - mean_absolute_error: 0.4360 - val_loss: 0.4923 - val_mean_absolute_error: 0.4923\n",
            "Epoch 409/500\n",
            "32/32 [==============================] - 0s 3ms/step - loss: 0.4378 - mean_absolute_error: 0.4378 - val_loss: 0.4916 - val_mean_absolute_error: 0.4916\n",
            "Epoch 410/500\n",
            "32/32 [==============================] - 0s 3ms/step - loss: 0.4370 - mean_absolute_error: 0.4370 - val_loss: 0.4898 - val_mean_absolute_error: 0.4898\n",
            "Epoch 411/500\n",
            "32/32 [==============================] - 0s 3ms/step - loss: 0.4373 - mean_absolute_error: 0.4373 - val_loss: 0.4854 - val_mean_absolute_error: 0.4854\n",
            "Epoch 412/500\n",
            "32/32 [==============================] - 0s 3ms/step - loss: 0.4418 - mean_absolute_error: 0.4418 - val_loss: 0.5001 - val_mean_absolute_error: 0.5001\n",
            "Epoch 413/500\n",
            "32/32 [==============================] - 0s 3ms/step - loss: 0.4355 - mean_absolute_error: 0.4355 - val_loss: 0.4868 - val_mean_absolute_error: 0.4868\n",
            "Epoch 414/500\n",
            "32/32 [==============================] - 0s 3ms/step - loss: 0.4335 - mean_absolute_error: 0.4335 - val_loss: 0.4896 - val_mean_absolute_error: 0.4896\n",
            "Epoch 415/500\n",
            "32/32 [==============================] - 0s 2ms/step - loss: 0.4356 - mean_absolute_error: 0.4356 - val_loss: 0.4846 - val_mean_absolute_error: 0.4846\n",
            "Epoch 416/500\n",
            "32/32 [==============================] - 0s 3ms/step - loss: 0.4323 - mean_absolute_error: 0.4323 - val_loss: 0.4944 - val_mean_absolute_error: 0.4944\n",
            "Epoch 417/500\n",
            "32/32 [==============================] - 0s 3ms/step - loss: 0.4375 - mean_absolute_error: 0.4375 - val_loss: 0.4873 - val_mean_absolute_error: 0.4873\n",
            "Epoch 418/500\n",
            "32/32 [==============================] - 0s 3ms/step - loss: 0.4372 - mean_absolute_error: 0.4372 - val_loss: 0.4987 - val_mean_absolute_error: 0.4987\n",
            "Epoch 419/500\n",
            "32/32 [==============================] - 0s 4ms/step - loss: 0.4355 - mean_absolute_error: 0.4355 - val_loss: 0.4819 - val_mean_absolute_error: 0.4819\n",
            "Epoch 420/500\n",
            "32/32 [==============================] - 0s 3ms/step - loss: 0.4334 - mean_absolute_error: 0.4334 - val_loss: 0.4996 - val_mean_absolute_error: 0.4996\n",
            "Epoch 421/500\n",
            "32/32 [==============================] - 0s 3ms/step - loss: 0.4408 - mean_absolute_error: 0.4408 - val_loss: 0.4859 - val_mean_absolute_error: 0.4859\n",
            "Epoch 422/500\n",
            "32/32 [==============================] - 0s 3ms/step - loss: 0.4369 - mean_absolute_error: 0.4369 - val_loss: 0.4806 - val_mean_absolute_error: 0.4806\n",
            "Epoch 423/500\n",
            "32/32 [==============================] - 0s 3ms/step - loss: 0.4346 - mean_absolute_error: 0.4346 - val_loss: 0.4838 - val_mean_absolute_error: 0.4838\n",
            "Epoch 424/500\n",
            "32/32 [==============================] - 0s 3ms/step - loss: 0.4337 - mean_absolute_error: 0.4337 - val_loss: 0.4821 - val_mean_absolute_error: 0.4821\n",
            "Epoch 425/500\n",
            "32/32 [==============================] - 0s 3ms/step - loss: 0.4334 - mean_absolute_error: 0.4334 - val_loss: 0.4865 - val_mean_absolute_error: 0.4865\n",
            "Epoch 426/500\n",
            "32/32 [==============================] - 0s 3ms/step - loss: 0.4319 - mean_absolute_error: 0.4319 - val_loss: 0.4796 - val_mean_absolute_error: 0.4796\n",
            "Epoch 427/500\n",
            "32/32 [==============================] - 0s 3ms/step - loss: 0.4323 - mean_absolute_error: 0.4323 - val_loss: 0.4948 - val_mean_absolute_error: 0.4948\n",
            "Epoch 428/500\n",
            "32/32 [==============================] - 0s 3ms/step - loss: 0.4356 - mean_absolute_error: 0.4356 - val_loss: 0.4841 - val_mean_absolute_error: 0.4841\n",
            "Epoch 429/500\n",
            "32/32 [==============================] - 0s 3ms/step - loss: 0.4432 - mean_absolute_error: 0.4432 - val_loss: 0.4861 - val_mean_absolute_error: 0.4861\n",
            "Epoch 430/500\n",
            "32/32 [==============================] - 0s 3ms/step - loss: 0.4347 - mean_absolute_error: 0.4347 - val_loss: 0.4948 - val_mean_absolute_error: 0.4948\n",
            "Epoch 431/500\n",
            "32/32 [==============================] - 0s 3ms/step - loss: 0.4317 - mean_absolute_error: 0.4317 - val_loss: 0.4800 - val_mean_absolute_error: 0.4800\n",
            "Epoch 432/500\n",
            "32/32 [==============================] - 0s 3ms/step - loss: 0.4327 - mean_absolute_error: 0.4327 - val_loss: 0.4820 - val_mean_absolute_error: 0.4820\n",
            "Epoch 433/500\n",
            "32/32 [==============================] - 0s 3ms/step - loss: 0.4324 - mean_absolute_error: 0.4324 - val_loss: 0.5021 - val_mean_absolute_error: 0.5021\n",
            "Epoch 434/500\n",
            "32/32 [==============================] - 0s 3ms/step - loss: 0.4515 - mean_absolute_error: 0.4515 - val_loss: 0.4790 - val_mean_absolute_error: 0.4790\n",
            "Epoch 435/500\n",
            "32/32 [==============================] - 0s 3ms/step - loss: 0.4384 - mean_absolute_error: 0.4384 - val_loss: 0.4846 - val_mean_absolute_error: 0.4846\n",
            "Epoch 436/500\n",
            "32/32 [==============================] - 0s 3ms/step - loss: 0.4299 - mean_absolute_error: 0.4299 - val_loss: 0.4791 - val_mean_absolute_error: 0.4791\n",
            "Epoch 437/500\n",
            "32/32 [==============================] - 0s 3ms/step - loss: 0.4264 - mean_absolute_error: 0.4264 - val_loss: 0.4784 - val_mean_absolute_error: 0.4784\n",
            "Epoch 438/500\n",
            "32/32 [==============================] - 0s 3ms/step - loss: 0.4266 - mean_absolute_error: 0.4266 - val_loss: 0.5128 - val_mean_absolute_error: 0.5128\n",
            "Epoch 439/500\n",
            "32/32 [==============================] - 0s 3ms/step - loss: 0.4359 - mean_absolute_error: 0.4359 - val_loss: 0.4796 - val_mean_absolute_error: 0.4796\n",
            "Epoch 440/500\n",
            "32/32 [==============================] - 0s 3ms/step - loss: 0.4315 - mean_absolute_error: 0.4315 - val_loss: 0.4767 - val_mean_absolute_error: 0.4767\n",
            "Epoch 441/500\n",
            "32/32 [==============================] - 0s 3ms/step - loss: 0.4307 - mean_absolute_error: 0.4307 - val_loss: 0.4778 - val_mean_absolute_error: 0.4778\n",
            "Epoch 442/500\n",
            "32/32 [==============================] - 0s 3ms/step - loss: 0.4332 - mean_absolute_error: 0.4332 - val_loss: 0.4773 - val_mean_absolute_error: 0.4773\n",
            "Epoch 443/500\n",
            "32/32 [==============================] - 0s 3ms/step - loss: 0.4299 - mean_absolute_error: 0.4299 - val_loss: 0.4744 - val_mean_absolute_error: 0.4744\n",
            "Epoch 444/500\n",
            "32/32 [==============================] - 0s 3ms/step - loss: 0.4323 - mean_absolute_error: 0.4323 - val_loss: 0.4839 - val_mean_absolute_error: 0.4839\n",
            "Epoch 445/500\n",
            "32/32 [==============================] - 0s 3ms/step - loss: 0.4300 - mean_absolute_error: 0.4300 - val_loss: 0.4881 - val_mean_absolute_error: 0.4881\n",
            "Epoch 446/500\n",
            "32/32 [==============================] - 0s 3ms/step - loss: 0.4297 - mean_absolute_error: 0.4297 - val_loss: 0.4744 - val_mean_absolute_error: 0.4744\n",
            "Epoch 447/500\n",
            "32/32 [==============================] - 0s 3ms/step - loss: 0.4313 - mean_absolute_error: 0.4313 - val_loss: 0.5005 - val_mean_absolute_error: 0.5005\n",
            "Epoch 448/500\n",
            "32/32 [==============================] - 0s 3ms/step - loss: 0.4296 - mean_absolute_error: 0.4296 - val_loss: 0.4906 - val_mean_absolute_error: 0.4906\n",
            "Epoch 449/500\n",
            "32/32 [==============================] - 0s 3ms/step - loss: 0.4377 - mean_absolute_error: 0.4377 - val_loss: 0.4731 - val_mean_absolute_error: 0.4731\n",
            "Epoch 450/500\n",
            "32/32 [==============================] - 0s 3ms/step - loss: 0.4317 - mean_absolute_error: 0.4317 - val_loss: 0.4823 - val_mean_absolute_error: 0.4823\n",
            "Epoch 451/500\n",
            "32/32 [==============================] - 0s 3ms/step - loss: 0.4293 - mean_absolute_error: 0.4293 - val_loss: 0.4951 - val_mean_absolute_error: 0.4951\n",
            "Epoch 452/500\n",
            "32/32 [==============================] - 0s 3ms/step - loss: 0.4336 - mean_absolute_error: 0.4336 - val_loss: 0.4790 - val_mean_absolute_error: 0.4790\n",
            "Epoch 453/500\n",
            "32/32 [==============================] - 0s 3ms/step - loss: 0.4368 - mean_absolute_error: 0.4368 - val_loss: 0.4729 - val_mean_absolute_error: 0.4729\n",
            "Epoch 454/500\n",
            "32/32 [==============================] - 0s 3ms/step - loss: 0.4303 - mean_absolute_error: 0.4303 - val_loss: 0.4851 - val_mean_absolute_error: 0.4851\n",
            "Epoch 455/500\n",
            "32/32 [==============================] - 0s 3ms/step - loss: 0.4275 - mean_absolute_error: 0.4275 - val_loss: 0.4715 - val_mean_absolute_error: 0.4715\n",
            "Epoch 456/500\n",
            "32/32 [==============================] - 0s 3ms/step - loss: 0.4254 - mean_absolute_error: 0.4254 - val_loss: 0.4840 - val_mean_absolute_error: 0.4840\n",
            "Epoch 457/500\n",
            "32/32 [==============================] - 0s 3ms/step - loss: 0.4291 - mean_absolute_error: 0.4291 - val_loss: 0.4845 - val_mean_absolute_error: 0.4845\n",
            "Epoch 458/500\n",
            "32/32 [==============================] - 0s 4ms/step - loss: 0.4266 - mean_absolute_error: 0.4266 - val_loss: 0.4837 - val_mean_absolute_error: 0.4837\n",
            "Epoch 459/500\n",
            "32/32 [==============================] - 0s 4ms/step - loss: 0.4274 - mean_absolute_error: 0.4274 - val_loss: 0.4711 - val_mean_absolute_error: 0.4711\n",
            "Epoch 460/500\n",
            "32/32 [==============================] - 0s 4ms/step - loss: 0.4288 - mean_absolute_error: 0.4288 - val_loss: 0.4730 - val_mean_absolute_error: 0.4730\n",
            "Epoch 461/500\n",
            "32/32 [==============================] - 0s 3ms/step - loss: 0.4310 - mean_absolute_error: 0.4310 - val_loss: 0.4749 - val_mean_absolute_error: 0.4749\n",
            "Epoch 462/500\n",
            "32/32 [==============================] - 0s 4ms/step - loss: 0.4274 - mean_absolute_error: 0.4274 - val_loss: 0.4729 - val_mean_absolute_error: 0.4729\n",
            "Epoch 463/500\n",
            "32/32 [==============================] - 0s 4ms/step - loss: 0.4321 - mean_absolute_error: 0.4321 - val_loss: 0.4753 - val_mean_absolute_error: 0.4753\n",
            "Epoch 464/500\n",
            "32/32 [==============================] - 0s 4ms/step - loss: 0.4235 - mean_absolute_error: 0.4235 - val_loss: 0.4697 - val_mean_absolute_error: 0.4697\n",
            "Epoch 465/500\n",
            "32/32 [==============================] - 0s 4ms/step - loss: 0.4313 - mean_absolute_error: 0.4313 - val_loss: 0.4994 - val_mean_absolute_error: 0.4994\n",
            "Epoch 466/500\n",
            "32/32 [==============================] - 0s 4ms/step - loss: 0.4257 - mean_absolute_error: 0.4257 - val_loss: 0.4721 - val_mean_absolute_error: 0.4721\n",
            "Epoch 467/500\n",
            "32/32 [==============================] - 0s 4ms/step - loss: 0.4320 - mean_absolute_error: 0.4320 - val_loss: 0.4775 - val_mean_absolute_error: 0.4775\n",
            "Epoch 468/500\n",
            "32/32 [==============================] - 0s 4ms/step - loss: 0.4297 - mean_absolute_error: 0.4297 - val_loss: 0.4719 - val_mean_absolute_error: 0.4719\n",
            "Epoch 469/500\n",
            "32/32 [==============================] - 0s 4ms/step - loss: 0.4242 - mean_absolute_error: 0.4242 - val_loss: 0.4816 - val_mean_absolute_error: 0.4816\n",
            "Epoch 470/500\n",
            "32/32 [==============================] - 0s 3ms/step - loss: 0.4293 - mean_absolute_error: 0.4293 - val_loss: 0.4669 - val_mean_absolute_error: 0.4669\n",
            "Epoch 471/500\n",
            "32/32 [==============================] - 0s 4ms/step - loss: 0.4238 - mean_absolute_error: 0.4238 - val_loss: 0.4649 - val_mean_absolute_error: 0.4649\n",
            "Epoch 472/500\n",
            "32/32 [==============================] - 0s 4ms/step - loss: 0.4231 - mean_absolute_error: 0.4231 - val_loss: 0.4799 - val_mean_absolute_error: 0.4799\n",
            "Epoch 473/500\n",
            "32/32 [==============================] - 0s 4ms/step - loss: 0.4315 - mean_absolute_error: 0.4315 - val_loss: 0.4661 - val_mean_absolute_error: 0.4661\n",
            "Epoch 474/500\n",
            "32/32 [==============================] - 0s 4ms/step - loss: 0.4283 - mean_absolute_error: 0.4283 - val_loss: 0.4654 - val_mean_absolute_error: 0.4654\n",
            "Epoch 475/500\n",
            "32/32 [==============================] - 0s 4ms/step - loss: 0.4326 - mean_absolute_error: 0.4326 - val_loss: 0.4972 - val_mean_absolute_error: 0.4972\n",
            "Epoch 476/500\n",
            "32/32 [==============================] - 0s 4ms/step - loss: 0.4296 - mean_absolute_error: 0.4296 - val_loss: 0.4782 - val_mean_absolute_error: 0.4782\n",
            "Epoch 477/500\n",
            "32/32 [==============================] - 0s 5ms/step - loss: 0.4332 - mean_absolute_error: 0.4332 - val_loss: 0.4677 - val_mean_absolute_error: 0.4677\n",
            "Epoch 478/500\n",
            "32/32 [==============================] - 0s 4ms/step - loss: 0.4320 - mean_absolute_error: 0.4320 - val_loss: 0.4731 - val_mean_absolute_error: 0.4731\n",
            "Epoch 479/500\n",
            "32/32 [==============================] - 0s 4ms/step - loss: 0.4212 - mean_absolute_error: 0.4212 - val_loss: 0.4641 - val_mean_absolute_error: 0.4641\n",
            "Epoch 480/500\n",
            "32/32 [==============================] - 0s 4ms/step - loss: 0.4319 - mean_absolute_error: 0.4319 - val_loss: 0.4709 - val_mean_absolute_error: 0.4709\n",
            "Epoch 481/500\n",
            "32/32 [==============================] - 0s 4ms/step - loss: 0.4241 - mean_absolute_error: 0.4241 - val_loss: 0.4663 - val_mean_absolute_error: 0.4663\n",
            "Epoch 482/500\n",
            "32/32 [==============================] - 0s 3ms/step - loss: 0.4229 - mean_absolute_error: 0.4229 - val_loss: 0.4672 - val_mean_absolute_error: 0.4672\n",
            "Epoch 483/500\n",
            "32/32 [==============================] - 0s 5ms/step - loss: 0.4256 - mean_absolute_error: 0.4256 - val_loss: 0.4637 - val_mean_absolute_error: 0.4637\n",
            "Epoch 484/500\n",
            "32/32 [==============================] - 0s 4ms/step - loss: 0.4268 - mean_absolute_error: 0.4268 - val_loss: 0.4675 - val_mean_absolute_error: 0.4675\n",
            "Epoch 485/500\n",
            "32/32 [==============================] - 0s 4ms/step - loss: 0.4260 - mean_absolute_error: 0.4260 - val_loss: 0.4717 - val_mean_absolute_error: 0.4717\n",
            "Epoch 486/500\n",
            "32/32 [==============================] - 0s 4ms/step - loss: 0.4260 - mean_absolute_error: 0.4260 - val_loss: 0.4641 - val_mean_absolute_error: 0.4641\n",
            "Epoch 487/500\n",
            "32/32 [==============================] - 0s 5ms/step - loss: 0.4254 - mean_absolute_error: 0.4254 - val_loss: 0.4624 - val_mean_absolute_error: 0.4624\n",
            "Epoch 488/500\n",
            "32/32 [==============================] - 0s 4ms/step - loss: 0.4193 - mean_absolute_error: 0.4193 - val_loss: 0.4634 - val_mean_absolute_error: 0.4634\n",
            "Epoch 489/500\n",
            "32/32 [==============================] - 0s 4ms/step - loss: 0.4200 - mean_absolute_error: 0.4200 - val_loss: 0.4649 - val_mean_absolute_error: 0.4649\n",
            "Epoch 490/500\n",
            "32/32 [==============================] - 0s 4ms/step - loss: 0.4212 - mean_absolute_error: 0.4212 - val_loss: 0.4649 - val_mean_absolute_error: 0.4649\n",
            "Epoch 491/500\n",
            "32/32 [==============================] - 0s 4ms/step - loss: 0.4290 - mean_absolute_error: 0.4290 - val_loss: 0.4691 - val_mean_absolute_error: 0.4691\n",
            "Epoch 492/500\n",
            "32/32 [==============================] - 0s 5ms/step - loss: 0.4313 - mean_absolute_error: 0.4313 - val_loss: 0.4768 - val_mean_absolute_error: 0.4768\n",
            "Epoch 493/500\n",
            "32/32 [==============================] - 0s 3ms/step - loss: 0.4216 - mean_absolute_error: 0.4216 - val_loss: 0.4696 - val_mean_absolute_error: 0.4696\n",
            "Epoch 494/500\n",
            "32/32 [==============================] - 0s 3ms/step - loss: 0.4243 - mean_absolute_error: 0.4243 - val_loss: 0.4628 - val_mean_absolute_error: 0.4628\n",
            "Epoch 495/500\n",
            "32/32 [==============================] - 0s 3ms/step - loss: 0.4291 - mean_absolute_error: 0.4291 - val_loss: 0.4759 - val_mean_absolute_error: 0.4759\n",
            "Epoch 496/500\n",
            "32/32 [==============================] - 0s 3ms/step - loss: 0.4257 - mean_absolute_error: 0.4257 - val_loss: 0.4648 - val_mean_absolute_error: 0.4648\n",
            "Epoch 497/500\n",
            "32/32 [==============================] - 0s 3ms/step - loss: 0.4211 - mean_absolute_error: 0.4211 - val_loss: 0.4578 - val_mean_absolute_error: 0.4578\n",
            "Epoch 498/500\n",
            "32/32 [==============================] - 0s 3ms/step - loss: 0.4215 - mean_absolute_error: 0.4215 - val_loss: 0.4822 - val_mean_absolute_error: 0.4822\n",
            "Epoch 499/500\n",
            "32/32 [==============================] - 0s 3ms/step - loss: 0.4317 - mean_absolute_error: 0.4317 - val_loss: 0.4634 - val_mean_absolute_error: 0.4634\n",
            "Epoch 500/500\n",
            "32/32 [==============================] - 0s 3ms/step - loss: 0.4222 - mean_absolute_error: 0.4222 - val_loss: 0.4672 - val_mean_absolute_error: 0.4672\n"
          ]
        }
      ],
      "source": [
        "# history = dnn_neural.fit(X_train, np.array(Y_train), validation_split = 0.2,batch_size=32, epochs=5)\n",
        "history = NN_model.fit(X_train, np.array(Y_train), validation_split = 0.2,batch_size=32, epochs=500)"
      ]
    },
    {
      "cell_type": "code",
      "execution_count": 230,
      "metadata": {
        "colab": {
          "base_uri": "https://localhost:8080/"
        },
        "id": "ODK0Py842xLH",
        "outputId": "e6a773cf-7987-417d-c577-c114039ca85f"
      },
      "outputs": [
        {
          "output_type": "execute_result",
          "data": {
            "text/plain": [
              "dict_keys(['loss', 'mean_absolute_error', 'val_loss', 'val_mean_absolute_error'])"
            ]
          },
          "metadata": {},
          "execution_count": 230
        }
      ],
      "source": [
        "history.history.keys()"
      ]
    },
    {
      "cell_type": "code",
      "execution_count": 231,
      "metadata": {
        "colab": {
          "base_uri": "https://localhost:8080/",
          "height": 295
        },
        "id": "SMmlEUer2xLH",
        "outputId": "7e4a49be-27bf-46a9-eac1-bf5096e060b7"
      },
      "outputs": [
        {
          "output_type": "display_data",
          "data": {
            "text/plain": [
              "<Figure size 432x288 with 1 Axes>"
            ],
            "image/png": "[encoded data removed]"
          },
          "metadata": {
            "needs_background": "light"
          }
        }
      ],
      "source": [
        "import matplotlib.pyplot as plt\n",
        "\n",
        "loss_train = history.history['mean_absolute_error']\n",
        "loss_val = history.history['val_mean_absolute_error']\n",
        "epochs = range(1,len(loss_train)+1)\n",
        "plt.plot(epochs, loss_train, 'g', label='Training rmse')\n",
        "plt.plot(epochs, loss_val, 'b', label='validation rmse')\n",
        "plt.title('Training and Validation RMSE')\n",
        "plt.xlabel('Epochs')\n",
        "plt.ylabel('RMSE')\n",
        "plt.legend()\n",
        "plt.show()"
      ]
    },
    {
      "cell_type": "code",
      "execution_count": 232,
      "metadata": {
        "colab": {
          "base_uri": "https://localhost:8080/"
        },
        "id": "Jm1ls8782xLH",
        "outputId": "d8e14abc-5df1-47d0-b33c-16c2200e209c"
      },
      "outputs": [
        {
          "output_type": "stream",
          "name": "stdout",
          "text": [
            "10/10 [==============================] - 0s 2ms/step\n",
            "NN predictions -> [2.0881295  5.982083   1.3506196  0.46821007 1.2475388  6.178735\n",
            " 0.09977883 0.09977883 0.85726476 2.1596076  5.6165843  0.36494443\n",
            " 4.601857   0.26589906 0.37823856 1.7764688  0.17242056 5.5549536\n",
            " 0.4972887  0.09977883 0.7381842  0.09977883 0.09977883 1.0827017\n",
            " 6.706588   2.8741832  3.5463333  2.846189   0.09977883 2.0817833\n",
            " 1.4290254  3.6720645  3.5954258  0.09977883 1.7718275  0.8541309\n",
            " 1.7924163  4.9252543  0.09977883 1.2037785  2.024378   1.0271807\n",
            " 1.1571496  4.9027123  1.9760303  5.1131873  0.8418202  0.5340255\n",
            " 4.0086555  0.55076826 2.7534528  0.09977883 0.09977883 1.500011\n",
            " 2.0887372  4.477001   6.35626    0.21993269 1.2629087  0.82647955\n",
            " 3.3089063  0.99051124 5.9469624  2.1170573  0.09977883 0.21297756\n",
            " 0.8171994  2.8104858  2.5098677  2.531191   4.637383   0.30357903\n",
            " 0.8893074  0.09977883 0.3639739  0.1455584  1.1112504  3.6202266\n",
            " 1.6006522  0.09977883 2.9238145  1.6957848  2.2511015  5.426469\n",
            " 6.492807   0.26539662 0.45317784 3.6290696  2.0127678  4.395945\n",
            " 2.1686552  1.762841   1.6338336  2.7538657  4.458125   4.660707\n",
            " 3.8510156  1.2507043  1.549962   0.4511571  5.122621   2.1026568\n",
            " 4.31488    0.09977883 6.893804   4.1718917  6.671741   4.757027\n",
            " 0.09977883 5.789554   3.7780495  3.0571015  2.5737157  0.09977883\n",
            " 2.0923746  4.777268   0.27420017 0.35710666 1.8229008  5.2490687\n",
            " 1.2722898  0.27253568 0.09977883 2.5095832  5.4455466  0.09977883\n",
            " 0.13506797 4.2869854  0.86827326 5.3328357  5.825274   0.95749813\n",
            " 1.2000041  5.4892     4.27144    2.979264   3.2660375  6.863317\n",
            " 1.0218229  0.09977883 1.3200579  4.332709   4.1078544  3.8169413\n",
            " 0.92667055 4.088709   5.273683   0.53619576 1.5856528  6.650471\n",
            " 5.3445344  0.4139006  3.822634   1.0988537  5.6486006  0.11958051\n",
            " 0.830057   6.064878   1.7462823  0.81827754 2.075047   5.246629\n",
            " 1.4739573  1.6398873  1.622611   3.829158   0.23767725 5.245795\n",
            " 0.10737346 0.71616715 1.0114597  4.5231557  1.8966296  0.40375155\n",
            " 0.90952474 2.1010592  2.2015018  1.5105574  0.09977883 3.0423403\n",
            " 0.49908906 1.5888264  2.5454116  1.12517    1.4400744  2.5764878\n",
            " 0.09977883 1.1638727  0.09977883 2.1001241  5.821004   1.5909913\n",
            " 0.18729798 5.1034083  0.3773022  1.3862612  0.09977883 6.6726046\n",
            " 3.0202916  1.7443159  4.1449914  1.9994283  0.09977883 4.323719\n",
            " 1.4352038  4.2194443  0.34246713 1.213346   4.307909   0.5138886\n",
            " 3.6848626  4.5490675  0.49333674 4.8106914  2.011635   4.39381\n",
            " 0.25812036 0.09977883 1.4096344  6.181131   0.09977883 1.1348774\n",
            " 0.3329847  0.22407863 3.7675307  0.09977883 4.145073   1.3728786\n",
            " 0.46596205 0.09977883 5.6731095  0.09977883 0.6461914  3.9253833\n",
            " 5.4622436  2.3068478  1.830292   5.774159   2.0028546  2.6808891\n",
            " 0.09977883 5.465511   1.3773499  1.2537117  0.09977883 1.3670483\n",
            " 4.905192   1.8384645  0.14646916 0.96986145 0.09977883 0.2411194\n",
            " 4.227003   1.6856055  1.4777715  6.799131   5.619591   0.32473028\n",
            " 4.3461103  4.8330994  3.6607287  3.531472   0.23265402 0.09977883\n",
            " 4.402326   5.0243845  3.9911911  1.6922786  0.3044116  0.78012776\n",
            " 1.1907325  0.09977883 0.79480684 0.09977883 0.4492429  2.5195582\n",
            " 1.380738   1.0737336  0.4459039  5.3940206  0.17269278 0.3440122\n",
            " 0.09977883 4.015914   2.181552   0.26520395 1.9934871  3.6348982\n",
            " 3.648369   1.1779904  5.012053   0.4440634  0.21898738 6.217961\n",
            " 0.09977883 0.205733   3.65091    1.6596887  6.8720894  6.1084085\n",
            " 1.6977062  1.0024549  5.841126   1.0871714  5.6685853  0.09977883\n",
            " 1.7927401  5.4479117  1.834429   0.5356033  0.09977883 1.282867\n",
            " 0.09977883 0.930802   0.09977883 3.567366   3.6747088  0.09977883\n",
            " 1.8495543 ]\n",
            "Real values\t  [1.5, 5.5, 1.5, 0.5, 1.5, 5.5, 0.1, 0.08, 1, 3.2, 5.5, 0.5, 3.5, 0.1, 0.5, 1.5, 0.09, 5.5, 0.5, 0.1, 1, 0.1, 0.4, 1, 6.6, 1.8, 3.5, 1.8, 0.1, 2]\n",
            " The Mean absolute percentage Error is -> [47.16099762] %\n"
          ]
        }
      ],
      "source": [
        "# Predict test set labels\n",
        "y_pred = NN_model.predict(X_test)\n",
        "\n",
        "print(\"NN predictions ->\",y_pred[:, 0])\n",
        "# print( \"Predicted values \", np.round( Y_pred[:30], 2 )/10 )\n",
        "\n",
        "\n",
        "\n",
        "print( \"Real values\t \", Y_test[:30]  )\n",
        "\n",
        "#print( \" Coefficients of the LR \",  model.coef_, model.intercept_ )\n",
        "\n",
        "\n",
        "\n",
        "mse = mean_absolute_percentage_error(Y_test, y_pred, multioutput=\"raw_values\") * 100 ##( |ypred - ytrue|/ytrue * 100)\n",
        "\n",
        "print(' The Mean absolute percentage Error is ->', mse, '%')"
      ]
    },
    {
      "cell_type": "code",
      "execution_count": 233,
      "metadata": {
        "id": "-LYv5H542xLH"
      },
      "outputs": [],
      "source": [
        "base_rmse = np.sqrt(mean_squared_error(Y_test, y_pred))"
      ]
    },
    {
      "cell_type": "code",
      "execution_count": 234,
      "metadata": {
        "colab": {
          "base_uri": "https://localhost:8080/"
        },
        "id": "n-srQa8K0mn2",
        "outputId": "9446b9c3-f01c-4fdb-f17d-8d366047514d"
      },
      "outputs": [
        {
          "output_type": "execute_result",
          "data": {
            "text/plain": [
              "0.6212357765676298"
            ]
          },
          "metadata": {},
          "execution_count": 234
        }
      ],
      "source": [
        "base_rmse"
      ]
    },
    {
      "cell_type": "markdown",
      "metadata": {
        "id": "QGc7Htu92xLH"
      },
      "source": [
        "CONVOLUTIONAL NEURAL NETWORK"
      ]
    },
    {
      "cell_type": "code",
      "execution_count": 277,
      "metadata": {
        "id": "UhxTRl-rZBat"
      },
      "outputs": [],
      "source": [
        "X_train = X_train.reshape( (len(X_train), 12, 1))"
      ]
    },
    {
      "cell_type": "code",
      "execution_count": 278,
      "metadata": {
        "id": "HVq6AiuXZBav"
      },
      "outputs": [],
      "source": [
        "X_test = X_test.reshape( (len(X_test), 12, 1))"
      ]
    },
    {
      "cell_type": "code",
      "execution_count": 279,
      "metadata": {
        "colab": {
          "base_uri": "https://localhost:8080/"
        },
        "id": "jVFSPEUQZBaw",
        "outputId": "bb5f6164-4afe-4185-8ad3-7955cc50ac29"
      },
      "outputs": [
        {
          "output_type": "execute_result",
          "data": {
            "text/plain": [
              "(1276, 12, 1)"
            ]
          },
          "metadata": {},
          "execution_count": 279
        }
      ],
      "source": [
        "X_train.shape"
      ]
    },
    {
      "cell_type": "code",
      "execution_count": 280,
      "metadata": {
        "id": "qS4TSutQZBax"
      },
      "outputs": [],
      "source": [
        "n_timesteps, n_features, n_outputs = X_train.shape[1], X_train.shape[2], np.array(Y_train).shape[0]"
      ]
    },
    {
      "cell_type": "code",
      "execution_count": 281,
      "metadata": {
        "id": "uIx2KD1i2xLH"
      },
      "outputs": [],
      "source": [
        "model = Sequential()\n",
        "model.add(Conv1D(filters=6, kernel_size=3, activation='softsign', input_shape=(n_timesteps,n_features)))\n",
        "model.add(Conv1D(filters=4, kernel_size=3, activation='softsign'))\n",
        "model.add(Dropout(0.5))\n",
        "model.add(MaxPooling1D(pool_size=2))\n",
        "model.add(Flatten())\n",
        "# model.add(Dense(8, activation='relu'))\n",
        "# model.add(Dense(1, activation='softmax'))\n",
        "model.add(Dense(6,  kernel_initializer='normal', activation='softsign')),\n",
        "model.add(Dense(3,  kernel_initializer='normal', activation='softsign')),\n",
        "model.add(Dense(1, activation='sigmoid'))\n",
        "model.compile(loss=rmse, optimizer='adam')"
      ]
    },
    {
      "cell_type": "code",
      "execution_count": 282,
      "metadata": {
        "colab": {
          "base_uri": "https://localhost:8080/"
        },
        "id": "HdzEkVrN2xLH",
        "outputId": "240c2655-8515-4123-e95d-837657c83875"
      },
      "outputs": [
        {
          "output_type": "stream",
          "name": "stdout",
          "text": [
            "Epoch 1/500\n",
            "32/32 [==============================] - 1s 8ms/step - loss: 2.6987 - val_loss: 2.7848\n",
            "Epoch 2/500\n",
            "32/32 [==============================] - 0s 3ms/step - loss: 2.6695 - val_loss: 2.7372\n",
            "Epoch 3/500\n",
            "32/32 [==============================] - 0s 3ms/step - loss: 2.6216 - val_loss: 2.6887\n",
            "Epoch 4/500\n",
            "32/32 [==============================] - 0s 3ms/step - loss: 2.5777 - val_loss: 2.6525\n",
            "Epoch 5/500\n",
            "32/32 [==============================] - 0s 3ms/step - loss: 2.5544 - val_loss: 2.6258\n",
            "Epoch 6/500\n",
            "32/32 [==============================] - 0s 3ms/step - loss: 2.5354 - val_loss: 2.6053\n",
            "Epoch 7/500\n",
            "32/32 [==============================] - 0s 3ms/step - loss: 2.5044 - val_loss: 2.5889\n",
            "Epoch 8/500\n",
            "32/32 [==============================] - 0s 3ms/step - loss: 2.5012 - val_loss: 2.5756\n",
            "Epoch 9/500\n",
            "32/32 [==============================] - 0s 3ms/step - loss: 2.4972 - val_loss: 2.5646\n",
            "Epoch 10/500\n",
            "32/32 [==============================] - 0s 3ms/step - loss: 2.4864 - val_loss: 2.5554\n",
            "Epoch 11/500\n",
            "32/32 [==============================] - 0s 3ms/step - loss: 2.4711 - val_loss: 2.5476\n",
            "Epoch 12/500\n",
            "32/32 [==============================] - 0s 3ms/step - loss: 2.4689 - val_loss: 2.5408\n",
            "Epoch 13/500\n",
            "32/32 [==============================] - 0s 3ms/step - loss: 2.4610 - val_loss: 2.5350\n",
            "Epoch 14/500\n",
            "32/32 [==============================] - 0s 3ms/step - loss: 2.4550 - val_loss: 2.5300\n",
            "Epoch 15/500\n",
            "32/32 [==============================] - 0s 3ms/step - loss: 2.4505 - val_loss: 2.5255\n",
            "Epoch 16/500\n",
            "32/32 [==============================] - 0s 3ms/step - loss: 2.4557 - val_loss: 2.5216\n",
            "Epoch 17/500\n",
            "32/32 [==============================] - 0s 3ms/step - loss: 2.4448 - val_loss: 2.5181\n",
            "Epoch 18/500\n",
            "32/32 [==============================] - 0s 3ms/step - loss: 2.4407 - val_loss: 2.5151\n",
            "Epoch 19/500\n",
            "32/32 [==============================] - 0s 3ms/step - loss: 2.4450 - val_loss: 2.5123\n",
            "Epoch 20/500\n",
            "32/32 [==============================] - 0s 3ms/step - loss: 2.4393 - val_loss: 2.5098\n",
            "Epoch 21/500\n",
            "32/32 [==============================] - 0s 3ms/step - loss: 2.4368 - val_loss: 2.5075\n",
            "Epoch 22/500\n",
            "32/32 [==============================] - 0s 3ms/step - loss: 2.4399 - val_loss: 2.5055\n",
            "Epoch 23/500\n",
            "32/32 [==============================] - 0s 3ms/step - loss: 2.4330 - val_loss: 2.5037\n",
            "Epoch 24/500\n",
            "32/32 [==============================] - 0s 3ms/step - loss: 2.4274 - val_loss: 2.5020\n",
            "Epoch 25/500\n",
            "32/32 [==============================] - 0s 3ms/step - loss: 2.4226 - val_loss: 2.5004\n",
            "Epoch 26/500\n",
            "32/32 [==============================] - 0s 3ms/step - loss: 2.4309 - val_loss: 2.4990\n",
            "Epoch 27/500\n",
            "32/32 [==============================] - 0s 3ms/step - loss: 2.4205 - val_loss: 2.4977\n",
            "Epoch 28/500\n",
            "32/32 [==============================] - 0s 3ms/step - loss: 2.4355 - val_loss: 2.4965\n",
            "Epoch 29/500\n",
            "32/32 [==============================] - 0s 3ms/step - loss: 2.4191 - val_loss: 2.4953\n",
            "Epoch 30/500\n",
            "32/32 [==============================] - 0s 3ms/step - loss: 2.4166 - val_loss: 2.4943\n",
            "Epoch 31/500\n",
            "32/32 [==============================] - 0s 3ms/step - loss: 2.4163 - val_loss: 2.4934\n",
            "Epoch 32/500\n",
            "32/32 [==============================] - 0s 3ms/step - loss: 2.4209 - val_loss: 2.4925\n",
            "Epoch 33/500\n",
            "32/32 [==============================] - 0s 3ms/step - loss: 2.4233 - val_loss: 2.4917\n",
            "Epoch 34/500\n",
            "32/32 [==============================] - 0s 3ms/step - loss: 2.4166 - val_loss: 2.4909\n",
            "Epoch 35/500\n",
            "32/32 [==============================] - 0s 3ms/step - loss: 2.4189 - val_loss: 2.4901\n",
            "Epoch 36/500\n",
            "32/32 [==============================] - 0s 3ms/step - loss: 2.4191 - val_loss: 2.4895\n",
            "Epoch 37/500\n",
            "32/32 [==============================] - 0s 3ms/step - loss: 2.4174 - val_loss: 2.4888\n",
            "Epoch 38/500\n",
            "32/32 [==============================] - 0s 3ms/step - loss: 2.4135 - val_loss: 2.4882\n",
            "Epoch 39/500\n",
            "32/32 [==============================] - 0s 3ms/step - loss: 2.4215 - val_loss: 2.4876\n",
            "Epoch 40/500\n",
            "32/32 [==============================] - 0s 3ms/step - loss: 2.4157 - val_loss: 2.4871\n",
            "Epoch 41/500\n",
            "32/32 [==============================] - 0s 3ms/step - loss: 2.4115 - val_loss: 2.4866\n",
            "Epoch 42/500\n",
            "32/32 [==============================] - 0s 3ms/step - loss: 2.3988 - val_loss: 2.4862\n",
            "Epoch 43/500\n",
            "32/32 [==============================] - 0s 3ms/step - loss: 2.4161 - val_loss: 2.4857\n",
            "Epoch 44/500\n",
            "32/32 [==============================] - 0s 3ms/step - loss: 2.4150 - val_loss: 2.4853\n",
            "Epoch 45/500\n",
            "32/32 [==============================] - 0s 3ms/step - loss: 2.4129 - val_loss: 2.4849\n",
            "Epoch 46/500\n",
            "32/32 [==============================] - 0s 3ms/step - loss: 2.4080 - val_loss: 2.4845\n",
            "Epoch 47/500\n",
            "32/32 [==============================] - 0s 3ms/step - loss: 2.4137 - val_loss: 2.4841\n",
            "Epoch 48/500\n",
            "32/32 [==============================] - 0s 3ms/step - loss: 2.4136 - val_loss: 2.4838\n",
            "Epoch 49/500\n",
            "32/32 [==============================] - 0s 3ms/step - loss: 2.4133 - val_loss: 2.4835\n",
            "Epoch 50/500\n",
            "32/32 [==============================] - 0s 3ms/step - loss: 2.4138 - val_loss: 2.4832\n",
            "Epoch 51/500\n",
            "32/32 [==============================] - 0s 3ms/step - loss: 2.4149 - val_loss: 2.4829\n",
            "Epoch 52/500\n",
            "32/32 [==============================] - 0s 3ms/step - loss: 2.4054 - val_loss: 2.4826\n",
            "Epoch 53/500\n",
            "32/32 [==============================] - 0s 3ms/step - loss: 2.4178 - val_loss: 2.4823\n",
            "Epoch 54/500\n",
            "32/32 [==============================] - 0s 3ms/step - loss: 2.3942 - val_loss: 2.4820\n",
            "Epoch 55/500\n",
            "32/32 [==============================] - 0s 3ms/step - loss: 2.4095 - val_loss: 2.4818\n",
            "Epoch 56/500\n",
            "32/32 [==============================] - 0s 3ms/step - loss: 2.4110 - val_loss: 2.4816\n",
            "Epoch 57/500\n",
            "32/32 [==============================] - 0s 3ms/step - loss: 2.4039 - val_loss: 2.4813\n",
            "Epoch 58/500\n",
            "32/32 [==============================] - 0s 3ms/step - loss: 2.4050 - val_loss: 2.4811\n",
            "Epoch 59/500\n",
            "32/32 [==============================] - 0s 3ms/step - loss: 2.4172 - val_loss: 2.4809\n",
            "Epoch 60/500\n",
            "32/32 [==============================] - 0s 3ms/step - loss: 2.4112 - val_loss: 2.4807\n",
            "Epoch 61/500\n",
            "32/32 [==============================] - 0s 3ms/step - loss: 2.4152 - val_loss: 2.4805\n",
            "Epoch 62/500\n",
            "32/32 [==============================] - 0s 3ms/step - loss: 2.4114 - val_loss: 2.4803\n",
            "Epoch 63/500\n",
            "32/32 [==============================] - 0s 3ms/step - loss: 2.4115 - val_loss: 2.4802\n",
            "Epoch 64/500\n",
            "32/32 [==============================] - 0s 3ms/step - loss: 2.4088 - val_loss: 2.4800\n",
            "Epoch 65/500\n",
            "32/32 [==============================] - 0s 3ms/step - loss: 2.4141 - val_loss: 2.4798\n",
            "Epoch 66/500\n",
            "32/32 [==============================] - 0s 3ms/step - loss: 2.4096 - val_loss: 2.4797\n",
            "Epoch 67/500\n",
            "32/32 [==============================] - 0s 3ms/step - loss: 2.4049 - val_loss: 2.4795\n",
            "Epoch 68/500\n",
            "32/32 [==============================] - 0s 3ms/step - loss: 2.4034 - val_loss: 2.4794\n",
            "Epoch 69/500\n",
            "32/32 [==============================] - 0s 3ms/step - loss: 2.4025 - val_loss: 2.4792\n",
            "Epoch 70/500\n",
            "32/32 [==============================] - 0s 3ms/step - loss: 2.4075 - val_loss: 2.4791\n",
            "Epoch 71/500\n",
            "32/32 [==============================] - 0s 3ms/step - loss: 2.4082 - val_loss: 2.4790\n",
            "Epoch 72/500\n",
            "32/32 [==============================] - 0s 3ms/step - loss: 2.4121 - val_loss: 2.4789\n",
            "Epoch 73/500\n",
            "32/32 [==============================] - 0s 3ms/step - loss: 2.4086 - val_loss: 2.4787\n",
            "Epoch 74/500\n",
            "32/32 [==============================] - 0s 3ms/step - loss: 2.4154 - val_loss: 2.4786\n",
            "Epoch 75/500\n",
            "32/32 [==============================] - 0s 3ms/step - loss: 2.4101 - val_loss: 2.4785\n",
            "Epoch 76/500\n",
            "32/32 [==============================] - 0s 4ms/step - loss: 2.4091 - val_loss: 2.4784\n",
            "Epoch 77/500\n",
            "32/32 [==============================] - 0s 3ms/step - loss: 2.4034 - val_loss: 2.4783\n",
            "Epoch 78/500\n",
            "32/32 [==============================] - 0s 3ms/step - loss: 2.4061 - val_loss: 2.4782\n",
            "Epoch 79/500\n",
            "32/32 [==============================] - 0s 3ms/step - loss: 2.4083 - val_loss: 2.4781\n",
            "Epoch 80/500\n",
            "32/32 [==============================] - 0s 3ms/step - loss: 2.4047 - val_loss: 2.4780\n",
            "Epoch 81/500\n",
            "32/32 [==============================] - 0s 3ms/step - loss: 2.3986 - val_loss: 2.4779\n",
            "Epoch 82/500\n",
            "32/32 [==============================] - 0s 3ms/step - loss: 2.4045 - val_loss: 2.4778\n",
            "Epoch 83/500\n",
            "32/32 [==============================] - 0s 3ms/step - loss: 2.4092 - val_loss: 2.4777\n",
            "Epoch 84/500\n",
            "32/32 [==============================] - 0s 3ms/step - loss: 2.4062 - val_loss: 2.4777\n",
            "Epoch 85/500\n",
            "32/32 [==============================] - 0s 3ms/step - loss: 2.4081 - val_loss: 2.4776\n",
            "Epoch 86/500\n",
            "32/32 [==============================] - 0s 3ms/step - loss: 2.4103 - val_loss: 2.4775\n",
            "Epoch 87/500\n",
            "32/32 [==============================] - 0s 3ms/step - loss: 2.3928 - val_loss: 2.4774\n",
            "Epoch 88/500\n",
            "32/32 [==============================] - 0s 3ms/step - loss: 2.4113 - val_loss: 2.4773\n",
            "Epoch 89/500\n",
            "32/32 [==============================] - 0s 3ms/step - loss: 2.4085 - val_loss: 2.4773\n",
            "Epoch 90/500\n",
            "32/32 [==============================] - 0s 3ms/step - loss: 2.4057 - val_loss: 2.4772\n",
            "Epoch 91/500\n",
            "32/32 [==============================] - 0s 3ms/step - loss: 2.4014 - val_loss: 2.4771\n",
            "Epoch 92/500\n",
            "32/32 [==============================] - 0s 3ms/step - loss: 2.4037 - val_loss: 2.4770\n",
            "Epoch 93/500\n",
            "32/32 [==============================] - 0s 3ms/step - loss: 2.4139 - val_loss: 2.4768\n",
            "Epoch 94/500\n",
            "32/32 [==============================] - 0s 3ms/step - loss: 2.4159 - val_loss: 2.4769\n",
            "Epoch 95/500\n",
            "32/32 [==============================] - 0s 3ms/step - loss: 2.4115 - val_loss: 2.4768\n",
            "Epoch 96/500\n",
            "32/32 [==============================] - 0s 3ms/step - loss: 2.4105 - val_loss: 2.4767\n",
            "Epoch 97/500\n",
            "32/32 [==============================] - 0s 3ms/step - loss: 2.3983 - val_loss: 2.4767\n",
            "Epoch 98/500\n",
            "32/32 [==============================] - 0s 3ms/step - loss: 2.4019 - val_loss: 2.4766\n",
            "Epoch 99/500\n",
            "32/32 [==============================] - 0s 3ms/step - loss: 2.4012 - val_loss: 2.4766\n",
            "Epoch 100/500\n",
            "32/32 [==============================] - 0s 3ms/step - loss: 2.4080 - val_loss: 2.4766\n",
            "Epoch 101/500\n",
            "32/32 [==============================] - 0s 3ms/step - loss: 2.4040 - val_loss: 2.4765\n",
            "Epoch 102/500\n",
            "32/32 [==============================] - 0s 3ms/step - loss: 2.4072 - val_loss: 2.4765\n",
            "Epoch 103/500\n",
            "32/32 [==============================] - 0s 3ms/step - loss: 2.4117 - val_loss: 2.4764\n",
            "Epoch 104/500\n",
            "32/32 [==============================] - 0s 3ms/step - loss: 2.3910 - val_loss: 2.4764\n",
            "Epoch 105/500\n",
            "32/32 [==============================] - 0s 3ms/step - loss: 2.4067 - val_loss: 2.4763\n",
            "Epoch 106/500\n",
            "32/32 [==============================] - 0s 3ms/step - loss: 2.4006 - val_loss: 2.4763\n",
            "Epoch 107/500\n",
            "32/32 [==============================] - 0s 3ms/step - loss: 2.3948 - val_loss: 2.4762\n",
            "Epoch 108/500\n",
            "32/32 [==============================] - 0s 3ms/step - loss: 2.3948 - val_loss: 2.4762\n",
            "Epoch 109/500\n",
            "32/32 [==============================] - 0s 3ms/step - loss: 2.4094 - val_loss: 2.4762\n",
            "Epoch 110/500\n",
            "32/32 [==============================] - 0s 3ms/step - loss: 2.4015 - val_loss: 2.4761\n",
            "Epoch 111/500\n",
            "32/32 [==============================] - 0s 3ms/step - loss: 2.4067 - val_loss: 2.4761\n",
            "Epoch 112/500\n",
            "32/32 [==============================] - 0s 3ms/step - loss: 2.4055 - val_loss: 2.4761\n",
            "Epoch 113/500\n",
            "32/32 [==============================] - 0s 3ms/step - loss: 2.4063 - val_loss: 2.4760\n",
            "Epoch 114/500\n",
            "32/32 [==============================] - 0s 3ms/step - loss: 2.4039 - val_loss: 2.4760\n",
            "Epoch 115/500\n",
            "32/32 [==============================] - 0s 3ms/step - loss: 2.4025 - val_loss: 2.4759\n",
            "Epoch 116/500\n",
            "32/32 [==============================] - 0s 3ms/step - loss: 2.4112 - val_loss: 2.4759\n",
            "Epoch 117/500\n",
            "32/32 [==============================] - 0s 3ms/step - loss: 2.4084 - val_loss: 2.4759\n",
            "Epoch 118/500\n",
            "32/32 [==============================] - 0s 3ms/step - loss: 2.4029 - val_loss: 2.4758\n",
            "Epoch 119/500\n",
            "32/32 [==============================] - 0s 3ms/step - loss: 2.3970 - val_loss: 2.4758\n",
            "Epoch 120/500\n",
            "32/32 [==============================] - 0s 3ms/step - loss: 2.4111 - val_loss: 2.4757\n",
            "Epoch 121/500\n",
            "32/32 [==============================] - 0s 3ms/step - loss: 2.4001 - val_loss: 2.4757\n",
            "Epoch 122/500\n",
            "32/32 [==============================] - 0s 3ms/step - loss: 2.4060 - val_loss: 2.4757\n",
            "Epoch 123/500\n",
            "32/32 [==============================] - 0s 3ms/step - loss: 2.3951 - val_loss: 2.4756\n",
            "Epoch 124/500\n",
            "32/32 [==============================] - 0s 3ms/step - loss: 2.4111 - val_loss: 2.4756\n",
            "Epoch 125/500\n",
            "32/32 [==============================] - 0s 3ms/step - loss: 2.3898 - val_loss: 2.4756\n",
            "Epoch 126/500\n",
            "32/32 [==============================] - 0s 3ms/step - loss: 2.4012 - val_loss: 2.4755\n",
            "Epoch 127/500\n",
            "32/32 [==============================] - 0s 3ms/step - loss: 2.4018 - val_loss: 2.4755\n",
            "Epoch 128/500\n",
            "32/32 [==============================] - 0s 3ms/step - loss: 2.4086 - val_loss: 2.4755\n",
            "Epoch 129/500\n",
            "32/32 [==============================] - 0s 3ms/step - loss: 2.4050 - val_loss: 2.4755\n",
            "Epoch 130/500\n",
            "32/32 [==============================] - 0s 3ms/step - loss: 2.4128 - val_loss: 2.4755\n",
            "Epoch 131/500\n",
            "32/32 [==============================] - 0s 3ms/step - loss: 2.4002 - val_loss: 2.4754\n",
            "Epoch 132/500\n",
            "32/32 [==============================] - 0s 3ms/step - loss: 2.4050 - val_loss: 2.4754\n",
            "Epoch 133/500\n",
            "32/32 [==============================] - 0s 3ms/step - loss: 2.4067 - val_loss: 2.4754\n",
            "Epoch 134/500\n",
            "32/32 [==============================] - 0s 3ms/step - loss: 2.3986 - val_loss: 2.4754\n",
            "Epoch 135/500\n",
            "32/32 [==============================] - 0s 3ms/step - loss: 2.4009 - val_loss: 2.4754\n",
            "Epoch 136/500\n",
            "32/32 [==============================] - 0s 3ms/step - loss: 2.4067 - val_loss: 2.4754\n",
            "Epoch 137/500\n",
            "32/32 [==============================] - 0s 3ms/step - loss: 2.4132 - val_loss: 2.4753\n",
            "Epoch 138/500\n",
            "32/32 [==============================] - 0s 3ms/step - loss: 2.4115 - val_loss: 2.4754\n",
            "Epoch 139/500\n",
            "32/32 [==============================] - 0s 3ms/step - loss: 2.4046 - val_loss: 2.4753\n",
            "Epoch 140/500\n",
            "32/32 [==============================] - 0s 3ms/step - loss: 2.4067 - val_loss: 2.4753\n",
            "Epoch 141/500\n",
            "32/32 [==============================] - 0s 3ms/step - loss: 2.3999 - val_loss: 2.4753\n",
            "Epoch 142/500\n",
            "32/32 [==============================] - 0s 3ms/step - loss: 2.4071 - val_loss: 2.4753\n",
            "Epoch 143/500\n",
            "32/32 [==============================] - 0s 3ms/step - loss: 2.4071 - val_loss: 2.4753\n",
            "Epoch 144/500\n",
            "32/32 [==============================] - 0s 3ms/step - loss: 2.4013 - val_loss: 2.4752\n",
            "Epoch 145/500\n",
            "32/32 [==============================] - 0s 3ms/step - loss: 2.4012 - val_loss: 2.4752\n",
            "Epoch 146/500\n",
            "32/32 [==============================] - 0s 3ms/step - loss: 2.4099 - val_loss: 2.4752\n",
            "Epoch 147/500\n",
            "32/32 [==============================] - 0s 3ms/step - loss: 2.4106 - val_loss: 2.4752\n",
            "Epoch 148/500\n",
            "32/32 [==============================] - 0s 3ms/step - loss: 2.4030 - val_loss: 2.4752\n",
            "Epoch 149/500\n",
            "32/32 [==============================] - 0s 3ms/step - loss: 2.4028 - val_loss: 2.4752\n",
            "Epoch 150/500\n",
            "32/32 [==============================] - 0s 3ms/step - loss: 2.4094 - val_loss: 2.4751\n",
            "Epoch 151/500\n",
            "32/32 [==============================] - 0s 3ms/step - loss: 2.4105 - val_loss: 2.4751\n",
            "Epoch 152/500\n",
            "32/32 [==============================] - 0s 3ms/step - loss: 2.4072 - val_loss: 2.4751\n",
            "Epoch 153/500\n",
            "32/32 [==============================] - 0s 3ms/step - loss: 2.4057 - val_loss: 2.4751\n",
            "Epoch 154/500\n",
            "32/32 [==============================] - 0s 3ms/step - loss: 2.4109 - val_loss: 2.4751\n",
            "Epoch 155/500\n",
            "32/32 [==============================] - 0s 3ms/step - loss: 2.4003 - val_loss: 2.4751\n",
            "Epoch 156/500\n",
            "32/32 [==============================] - 0s 3ms/step - loss: 2.4054 - val_loss: 2.4751\n",
            "Epoch 157/500\n",
            "32/32 [==============================] - 0s 3ms/step - loss: 2.4127 - val_loss: 2.4750\n",
            "Epoch 158/500\n",
            "32/32 [==============================] - 0s 3ms/step - loss: 2.4053 - val_loss: 2.4750\n",
            "Epoch 159/500\n",
            "32/32 [==============================] - 0s 3ms/step - loss: 2.4037 - val_loss: 2.4750\n",
            "Epoch 160/500\n",
            "32/32 [==============================] - 0s 3ms/step - loss: 2.4031 - val_loss: 2.4750\n",
            "Epoch 161/500\n",
            "32/32 [==============================] - 0s 3ms/step - loss: 2.3947 - val_loss: 2.4750\n",
            "Epoch 162/500\n",
            "32/32 [==============================] - 0s 3ms/step - loss: 2.4091 - val_loss: 2.4750\n",
            "Epoch 163/500\n",
            "32/32 [==============================] - 0s 3ms/step - loss: 2.4034 - val_loss: 2.4749\n",
            "Epoch 164/500\n",
            "32/32 [==============================] - 0s 3ms/step - loss: 2.4047 - val_loss: 2.4749\n",
            "Epoch 165/500\n",
            "32/32 [==============================] - 0s 3ms/step - loss: 2.4024 - val_loss: 2.4748\n",
            "Epoch 166/500\n",
            "32/32 [==============================] - 0s 4ms/step - loss: 2.4075 - val_loss: 2.4748\n",
            "Epoch 167/500\n",
            "32/32 [==============================] - 0s 3ms/step - loss: 2.4053 - val_loss: 2.4747\n",
            "Epoch 168/500\n",
            "32/32 [==============================] - 0s 3ms/step - loss: 2.4004 - val_loss: 2.4747\n",
            "Epoch 169/500\n",
            "32/32 [==============================] - 0s 3ms/step - loss: 2.4050 - val_loss: 2.4747\n",
            "Epoch 170/500\n",
            "32/32 [==============================] - 0s 3ms/step - loss: 2.4033 - val_loss: 2.4747\n",
            "Epoch 171/500\n",
            "32/32 [==============================] - 0s 3ms/step - loss: 2.4062 - val_loss: 2.4747\n",
            "Epoch 172/500\n",
            "32/32 [==============================] - 0s 3ms/step - loss: 2.4094 - val_loss: 2.4748\n",
            "Epoch 173/500\n",
            "32/32 [==============================] - 0s 3ms/step - loss: 2.4016 - val_loss: 2.4748\n",
            "Epoch 174/500\n",
            "32/32 [==============================] - 0s 3ms/step - loss: 2.4032 - val_loss: 2.4748\n",
            "Epoch 175/500\n",
            "32/32 [==============================] - 0s 3ms/step - loss: 2.4116 - val_loss: 2.4748\n",
            "Epoch 176/500\n",
            "32/32 [==============================] - 0s 3ms/step - loss: 2.4051 - val_loss: 2.4748\n",
            "Epoch 177/500\n",
            "32/32 [==============================] - 0s 3ms/step - loss: 2.3972 - val_loss: 2.4748\n",
            "Epoch 178/500\n",
            "32/32 [==============================] - 0s 3ms/step - loss: 2.4037 - val_loss: 2.4747\n",
            "Epoch 179/500\n",
            "32/32 [==============================] - 0s 3ms/step - loss: 2.4051 - val_loss: 2.4746\n",
            "Epoch 180/500\n",
            "32/32 [==============================] - 0s 3ms/step - loss: 2.4009 - val_loss: 2.4746\n",
            "Epoch 181/500\n",
            "32/32 [==============================] - 0s 3ms/step - loss: 2.4012 - val_loss: 2.4746\n",
            "Epoch 182/500\n",
            "32/32 [==============================] - 0s 3ms/step - loss: 2.3917 - val_loss: 2.4746\n",
            "Epoch 183/500\n",
            "32/32 [==============================] - 0s 3ms/step - loss: 2.4091 - val_loss: 2.4746\n",
            "Epoch 184/500\n",
            "32/32 [==============================] - 0s 3ms/step - loss: 2.4027 - val_loss: 2.4747\n",
            "Epoch 185/500\n",
            "32/32 [==============================] - 0s 3ms/step - loss: 2.4041 - val_loss: 2.4746\n",
            "Epoch 186/500\n",
            "32/32 [==============================] - 0s 3ms/step - loss: 2.4000 - val_loss: 2.4746\n",
            "Epoch 187/500\n",
            "32/32 [==============================] - 0s 3ms/step - loss: 2.4066 - val_loss: 2.4746\n",
            "Epoch 188/500\n",
            "32/32 [==============================] - 0s 3ms/step - loss: 2.4012 - val_loss: 2.4746\n",
            "Epoch 189/500\n",
            "32/32 [==============================] - 0s 3ms/step - loss: 2.3967 - val_loss: 2.4746\n",
            "Epoch 190/500\n",
            "32/32 [==============================] - 0s 3ms/step - loss: 2.3955 - val_loss: 2.4746\n",
            "Epoch 191/500\n",
            "32/32 [==============================] - 0s 3ms/step - loss: 2.3932 - val_loss: 2.4746\n",
            "Epoch 192/500\n",
            "32/32 [==============================] - 0s 3ms/step - loss: 2.4021 - val_loss: 2.4746\n",
            "Epoch 193/500\n",
            "32/32 [==============================] - 0s 3ms/step - loss: 2.4024 - val_loss: 2.4746\n",
            "Epoch 194/500\n",
            "32/32 [==============================] - 0s 3ms/step - loss: 2.3981 - val_loss: 2.4746\n",
            "Epoch 195/500\n",
            "32/32 [==============================] - 0s 4ms/step - loss: 2.4018 - val_loss: 2.4746\n",
            "Epoch 196/500\n",
            "32/32 [==============================] - 0s 3ms/step - loss: 2.4045 - val_loss: 2.4746\n",
            "Epoch 197/500\n",
            "32/32 [==============================] - 0s 3ms/step - loss: 2.4046 - val_loss: 2.4746\n",
            "Epoch 198/500\n",
            "32/32 [==============================] - 0s 3ms/step - loss: 2.3975 - val_loss: 2.4746\n",
            "Epoch 199/500\n",
            "32/32 [==============================] - 0s 3ms/step - loss: 2.3986 - val_loss: 2.4746\n",
            "Epoch 200/500\n",
            "32/32 [==============================] - 0s 3ms/step - loss: 2.4041 - val_loss: 2.4746\n",
            "Epoch 201/500\n",
            "32/32 [==============================] - 0s 3ms/step - loss: 2.4013 - val_loss: 2.4746\n",
            "Epoch 202/500\n",
            "32/32 [==============================] - 0s 3ms/step - loss: 2.4099 - val_loss: 2.4746\n",
            "Epoch 203/500\n",
            "32/32 [==============================] - 0s 3ms/step - loss: 2.3970 - val_loss: 2.4746\n",
            "Epoch 204/500\n",
            "32/32 [==============================] - 0s 3ms/step - loss: 2.4042 - val_loss: 2.4746\n",
            "Epoch 205/500\n",
            "32/32 [==============================] - 0s 3ms/step - loss: 2.4038 - val_loss: 2.4746\n",
            "Epoch 206/500\n",
            "32/32 [==============================] - 0s 3ms/step - loss: 2.3919 - val_loss: 2.4745\n",
            "Epoch 207/500\n",
            "32/32 [==============================] - 0s 3ms/step - loss: 2.4028 - val_loss: 2.4745\n",
            "Epoch 208/500\n",
            "32/32 [==============================] - 0s 3ms/step - loss: 2.3961 - val_loss: 2.4745\n",
            "Epoch 209/500\n",
            "32/32 [==============================] - 0s 3ms/step - loss: 2.4083 - val_loss: 2.4745\n",
            "Epoch 210/500\n",
            "32/32 [==============================] - 0s 3ms/step - loss: 2.4065 - val_loss: 2.4745\n",
            "Epoch 211/500\n",
            "32/32 [==============================] - 0s 3ms/step - loss: 2.4098 - val_loss: 2.4745\n",
            "Epoch 212/500\n",
            "32/32 [==============================] - 0s 3ms/step - loss: 2.4024 - val_loss: 2.4745\n",
            "Epoch 213/500\n",
            "32/32 [==============================] - 0s 3ms/step - loss: 2.3970 - val_loss: 2.4745\n",
            "Epoch 214/500\n",
            "32/32 [==============================] - 0s 3ms/step - loss: 2.3941 - val_loss: 2.4745\n",
            "Epoch 215/500\n",
            "32/32 [==============================] - 0s 3ms/step - loss: 2.4069 - val_loss: 2.4745\n",
            "Epoch 216/500\n",
            "32/32 [==============================] - 0s 3ms/step - loss: 2.4009 - val_loss: 2.4745\n",
            "Epoch 217/500\n",
            "32/32 [==============================] - 0s 3ms/step - loss: 2.3874 - val_loss: 2.4745\n",
            "Epoch 218/500\n",
            "32/32 [==============================] - 0s 3ms/step - loss: 2.4039 - val_loss: 2.4745\n",
            "Epoch 219/500\n",
            "32/32 [==============================] - 0s 3ms/step - loss: 2.4109 - val_loss: 2.4745\n",
            "Epoch 220/500\n",
            "32/32 [==============================] - 0s 3ms/step - loss: 2.4077 - val_loss: 2.4745\n",
            "Epoch 221/500\n",
            "32/32 [==============================] - 0s 3ms/step - loss: 2.4092 - val_loss: 2.4745\n",
            "Epoch 222/500\n",
            "32/32 [==============================] - 0s 3ms/step - loss: 2.4014 - val_loss: 2.4745\n",
            "Epoch 223/500\n",
            "32/32 [==============================] - 0s 3ms/step - loss: 2.4051 - val_loss: 2.4745\n",
            "Epoch 224/500\n",
            "32/32 [==============================] - 0s 3ms/step - loss: 2.4011 - val_loss: 2.4745\n",
            "Epoch 225/500\n",
            "32/32 [==============================] - 0s 3ms/step - loss: 2.3959 - val_loss: 2.4744\n",
            "Epoch 226/500\n",
            "32/32 [==============================] - 0s 3ms/step - loss: 2.3944 - val_loss: 2.4744\n",
            "Epoch 227/500\n",
            "32/32 [==============================] - 0s 3ms/step - loss: 2.4063 - val_loss: 2.4744\n",
            "Epoch 228/500\n",
            "32/32 [==============================] - 0s 3ms/step - loss: 2.4082 - val_loss: 2.4744\n",
            "Epoch 229/500\n",
            "32/32 [==============================] - 0s 3ms/step - loss: 2.3979 - val_loss: 2.4744\n",
            "Epoch 230/500\n",
            "32/32 [==============================] - 0s 3ms/step - loss: 2.4130 - val_loss: 2.4744\n",
            "Epoch 231/500\n",
            "32/32 [==============================] - 0s 3ms/step - loss: 2.4051 - val_loss: 2.4744\n",
            "Epoch 232/500\n",
            "32/32 [==============================] - 0s 3ms/step - loss: 2.4108 - val_loss: 2.4744\n",
            "Epoch 233/500\n",
            "32/32 [==============================] - 0s 3ms/step - loss: 2.3999 - val_loss: 2.4743\n",
            "Epoch 234/500\n",
            "32/32 [==============================] - 0s 3ms/step - loss: 2.4043 - val_loss: 2.4744\n",
            "Epoch 235/500\n",
            "32/32 [==============================] - 0s 3ms/step - loss: 2.4100 - val_loss: 2.4744\n",
            "Epoch 236/500\n",
            "32/32 [==============================] - 0s 3ms/step - loss: 2.4023 - val_loss: 2.4744\n",
            "Epoch 237/500\n",
            "32/32 [==============================] - 0s 3ms/step - loss: 2.4024 - val_loss: 2.4744\n",
            "Epoch 238/500\n",
            "32/32 [==============================] - 0s 3ms/step - loss: 2.4039 - val_loss: 2.4744\n",
            "Epoch 239/500\n",
            "32/32 [==============================] - 0s 3ms/step - loss: 2.4034 - val_loss: 2.4744\n",
            "Epoch 240/500\n",
            "32/32 [==============================] - 0s 3ms/step - loss: 2.4147 - val_loss: 2.4744\n",
            "Epoch 241/500\n",
            "32/32 [==============================] - 0s 3ms/step - loss: 2.4020 - val_loss: 2.4744\n",
            "Epoch 242/500\n",
            "32/32 [==============================] - 0s 3ms/step - loss: 2.4009 - val_loss: 2.4744\n",
            "Epoch 243/500\n",
            "32/32 [==============================] - 0s 3ms/step - loss: 2.4101 - val_loss: 2.4744\n",
            "Epoch 244/500\n",
            "32/32 [==============================] - 0s 3ms/step - loss: 2.4047 - val_loss: 2.4744\n",
            "Epoch 245/500\n",
            "32/32 [==============================] - 0s 3ms/step - loss: 2.4016 - val_loss: 2.4744\n",
            "Epoch 246/500\n",
            "32/32 [==============================] - 0s 3ms/step - loss: 2.4040 - val_loss: 2.4744\n",
            "Epoch 247/500\n",
            "32/32 [==============================] - 0s 3ms/step - loss: 2.3933 - val_loss: 2.4744\n",
            "Epoch 248/500\n",
            "32/32 [==============================] - 0s 3ms/step - loss: 2.4045 - val_loss: 2.4744\n",
            "Epoch 249/500\n",
            "32/32 [==============================] - 0s 3ms/step - loss: 2.4071 - val_loss: 2.4744\n",
            "Epoch 250/500\n",
            "32/32 [==============================] - 0s 3ms/step - loss: 2.3987 - val_loss: 2.4744\n",
            "Epoch 251/500\n",
            "32/32 [==============================] - 0s 3ms/step - loss: 2.3968 - val_loss: 2.4744\n",
            "Epoch 252/500\n",
            "32/32 [==============================] - 0s 3ms/step - loss: 2.4056 - val_loss: 2.4744\n",
            "Epoch 253/500\n",
            "32/32 [==============================] - 0s 3ms/step - loss: 2.3961 - val_loss: 2.4744\n",
            "Epoch 254/500\n",
            "32/32 [==============================] - 0s 3ms/step - loss: 2.4062 - val_loss: 2.4744\n",
            "Epoch 255/500\n",
            "32/32 [==============================] - 0s 3ms/step - loss: 2.3992 - val_loss: 2.4744\n",
            "Epoch 256/500\n",
            "32/32 [==============================] - 0s 3ms/step - loss: 2.3993 - val_loss: 2.4744\n",
            "Epoch 257/500\n",
            "32/32 [==============================] - 0s 3ms/step - loss: 2.4088 - val_loss: 2.4744\n",
            "Epoch 258/500\n",
            "32/32 [==============================] - 0s 3ms/step - loss: 2.4006 - val_loss: 2.4744\n",
            "Epoch 259/500\n",
            "32/32 [==============================] - 0s 3ms/step - loss: 2.3993 - val_loss: 2.4744\n",
            "Epoch 260/500\n",
            "32/32 [==============================] - 0s 3ms/step - loss: 2.4065 - val_loss: 2.4744\n",
            "Epoch 261/500\n",
            "32/32 [==============================] - 0s 3ms/step - loss: 2.4057 - val_loss: 2.4744\n",
            "Epoch 262/500\n",
            "32/32 [==============================] - 0s 3ms/step - loss: 2.4014 - val_loss: 2.4744\n",
            "Epoch 263/500\n",
            "32/32 [==============================] - 0s 3ms/step - loss: 2.3971 - val_loss: 2.4744\n",
            "Epoch 264/500\n",
            "32/32 [==============================] - 0s 3ms/step - loss: 2.4099 - val_loss: 2.4744\n",
            "Epoch 265/500\n",
            "32/32 [==============================] - 0s 3ms/step - loss: 2.4012 - val_loss: 2.4744\n",
            "Epoch 266/500\n",
            "32/32 [==============================] - 0s 3ms/step - loss: 2.4026 - val_loss: 2.4744\n",
            "Epoch 267/500\n",
            "32/32 [==============================] - 0s 3ms/step - loss: 2.4076 - val_loss: 2.4744\n",
            "Epoch 268/500\n",
            "32/32 [==============================] - 0s 3ms/step - loss: 2.3996 - val_loss: 2.4744\n",
            "Epoch 269/500\n",
            "32/32 [==============================] - 0s 3ms/step - loss: 2.4114 - val_loss: 2.4743\n",
            "Epoch 270/500\n",
            "32/32 [==============================] - 0s 3ms/step - loss: 2.4060 - val_loss: 2.4743\n",
            "Epoch 271/500\n",
            "32/32 [==============================] - 0s 3ms/step - loss: 2.4022 - val_loss: 2.4743\n",
            "Epoch 272/500\n",
            "32/32 [==============================] - 0s 3ms/step - loss: 2.3997 - val_loss: 2.4743\n",
            "Epoch 273/500\n",
            "32/32 [==============================] - 0s 3ms/step - loss: 2.4016 - val_loss: 2.4743\n",
            "Epoch 274/500\n",
            "32/32 [==============================] - 0s 3ms/step - loss: 2.4033 - val_loss: 2.4743\n",
            "Epoch 275/500\n",
            "32/32 [==============================] - 0s 3ms/step - loss: 2.4092 - val_loss: 2.4743\n",
            "Epoch 276/500\n",
            "32/32 [==============================] - 0s 3ms/step - loss: 2.4083 - val_loss: 2.4743\n",
            "Epoch 277/500\n",
            "32/32 [==============================] - 0s 3ms/step - loss: 2.4058 - val_loss: 2.4743\n",
            "Epoch 278/500\n",
            "32/32 [==============================] - 0s 3ms/step - loss: 2.4051 - val_loss: 2.4743\n",
            "Epoch 279/500\n",
            "32/32 [==============================] - 0s 3ms/step - loss: 2.4079 - val_loss: 2.4743\n",
            "Epoch 280/500\n",
            "32/32 [==============================] - 0s 3ms/step - loss: 2.4077 - val_loss: 2.4743\n",
            "Epoch 281/500\n",
            "32/32 [==============================] - 0s 3ms/step - loss: 2.4032 - val_loss: 2.4743\n",
            "Epoch 282/500\n",
            "32/32 [==============================] - 0s 3ms/step - loss: 2.4053 - val_loss: 2.4743\n",
            "Epoch 283/500\n",
            "32/32 [==============================] - 0s 3ms/step - loss: 2.3915 - val_loss: 2.4743\n",
            "Epoch 284/500\n",
            "32/32 [==============================] - 0s 3ms/step - loss: 2.4015 - val_loss: 2.4743\n",
            "Epoch 285/500\n",
            "32/32 [==============================] - 0s 3ms/step - loss: 2.4005 - val_loss: 2.4743\n",
            "Epoch 286/500\n",
            "32/32 [==============================] - 0s 3ms/step - loss: 2.4033 - val_loss: 2.4743\n",
            "Epoch 287/500\n",
            "32/32 [==============================] - 0s 3ms/step - loss: 2.4050 - val_loss: 2.4743\n",
            "Epoch 288/500\n",
            "32/32 [==============================] - 0s 3ms/step - loss: 2.4096 - val_loss: 2.4743\n",
            "Epoch 289/500\n",
            "32/32 [==============================] - 0s 3ms/step - loss: 2.4075 - val_loss: 2.4743\n",
            "Epoch 290/500\n",
            "32/32 [==============================] - 0s 3ms/step - loss: 2.4045 - val_loss: 2.4743\n",
            "Epoch 291/500\n",
            "32/32 [==============================] - 0s 3ms/step - loss: 2.4106 - val_loss: 2.4743\n",
            "Epoch 292/500\n",
            "32/32 [==============================] - 0s 3ms/step - loss: 2.4047 - val_loss: 2.4743\n",
            "Epoch 293/500\n",
            "32/32 [==============================] - 0s 3ms/step - loss: 2.4076 - val_loss: 2.4743\n",
            "Epoch 294/500\n",
            "32/32 [==============================] - 0s 3ms/step - loss: 2.4052 - val_loss: 2.4743\n",
            "Epoch 295/500\n",
            "32/32 [==============================] - 0s 3ms/step - loss: 2.4068 - val_loss: 2.4743\n",
            "Epoch 296/500\n",
            "32/32 [==============================] - 0s 3ms/step - loss: 2.4089 - val_loss: 2.4743\n",
            "Epoch 297/500\n",
            "32/32 [==============================] - 0s 3ms/step - loss: 2.4067 - val_loss: 2.4743\n",
            "Epoch 298/500\n",
            "32/32 [==============================] - 0s 3ms/step - loss: 2.4002 - val_loss: 2.4743\n",
            "Epoch 299/500\n",
            "32/32 [==============================] - 0s 3ms/step - loss: 2.4087 - val_loss: 2.4743\n",
            "Epoch 300/500\n",
            "32/32 [==============================] - 0s 3ms/step - loss: 2.4045 - val_loss: 2.4743\n",
            "Epoch 301/500\n",
            "32/32 [==============================] - 0s 3ms/step - loss: 2.4122 - val_loss: 2.4743\n",
            "Epoch 302/500\n",
            "32/32 [==============================] - 0s 3ms/step - loss: 2.4046 - val_loss: 2.4742\n",
            "Epoch 303/500\n",
            "32/32 [==============================] - 0s 3ms/step - loss: 2.3982 - val_loss: 2.4742\n",
            "Epoch 304/500\n",
            "32/32 [==============================] - 0s 3ms/step - loss: 2.4046 - val_loss: 2.4742\n",
            "Epoch 305/500\n",
            "32/32 [==============================] - 0s 3ms/step - loss: 2.3883 - val_loss: 2.4742\n",
            "Epoch 306/500\n",
            "32/32 [==============================] - 0s 3ms/step - loss: 2.3954 - val_loss: 2.4743\n",
            "Epoch 307/500\n",
            "32/32 [==============================] - 0s 3ms/step - loss: 2.4098 - val_loss: 2.4743\n",
            "Epoch 308/500\n",
            "32/32 [==============================] - 0s 3ms/step - loss: 2.4054 - val_loss: 2.4743\n",
            "Epoch 309/500\n",
            "32/32 [==============================] - 0s 3ms/step - loss: 2.4097 - val_loss: 2.4743\n",
            "Epoch 310/500\n",
            "32/32 [==============================] - 0s 3ms/step - loss: 2.3871 - val_loss: 2.4743\n",
            "Epoch 311/500\n",
            "32/32 [==============================] - 0s 3ms/step - loss: 2.4055 - val_loss: 2.4743\n",
            "Epoch 312/500\n",
            "32/32 [==============================] - 0s 3ms/step - loss: 2.4102 - val_loss: 2.4743\n",
            "Epoch 313/500\n",
            "32/32 [==============================] - 0s 3ms/step - loss: 2.4086 - val_loss: 2.4743\n",
            "Epoch 314/500\n",
            "32/32 [==============================] - 0s 3ms/step - loss: 2.3968 - val_loss: 2.4743\n",
            "Epoch 315/500\n",
            "32/32 [==============================] - 0s 3ms/step - loss: 2.4100 - val_loss: 2.4743\n",
            "Epoch 316/500\n",
            "32/32 [==============================] - 0s 3ms/step - loss: 2.4086 - val_loss: 2.4743\n",
            "Epoch 317/500\n",
            "32/32 [==============================] - 0s 3ms/step - loss: 2.4075 - val_loss: 2.4743\n",
            "Epoch 318/500\n",
            "32/32 [==============================] - 0s 3ms/step - loss: 2.3964 - val_loss: 2.4743\n",
            "Epoch 319/500\n",
            "32/32 [==============================] - 0s 3ms/step - loss: 2.4057 - val_loss: 2.4743\n",
            "Epoch 320/500\n",
            "32/32 [==============================] - 0s 3ms/step - loss: 2.4150 - val_loss: 2.4743\n",
            "Epoch 321/500\n",
            "32/32 [==============================] - 0s 3ms/step - loss: 2.4031 - val_loss: 2.4743\n",
            "Epoch 322/500\n",
            "32/32 [==============================] - 0s 3ms/step - loss: 2.4135 - val_loss: 2.4743\n",
            "Epoch 323/500\n",
            "32/32 [==============================] - 0s 3ms/step - loss: 2.4070 - val_loss: 2.4743\n",
            "Epoch 324/500\n",
            "32/32 [==============================] - 0s 3ms/step - loss: 2.4067 - val_loss: 2.4743\n",
            "Epoch 325/500\n",
            "32/32 [==============================] - 0s 3ms/step - loss: 2.4079 - val_loss: 2.4743\n",
            "Epoch 326/500\n",
            "32/32 [==============================] - 0s 3ms/step - loss: 2.4054 - val_loss: 2.4743\n",
            "Epoch 327/500\n",
            "32/32 [==============================] - 0s 3ms/step - loss: 2.4055 - val_loss: 2.4743\n",
            "Epoch 328/500\n",
            "32/32 [==============================] - 0s 3ms/step - loss: 2.4061 - val_loss: 2.4743\n",
            "Epoch 329/500\n",
            "32/32 [==============================] - 0s 4ms/step - loss: 2.4038 - val_loss: 2.4743\n",
            "Epoch 330/500\n",
            "32/32 [==============================] - 0s 3ms/step - loss: 2.3960 - val_loss: 2.4743\n",
            "Epoch 331/500\n",
            "32/32 [==============================] - 0s 3ms/step - loss: 2.4061 - val_loss: 2.4743\n",
            "Epoch 332/500\n",
            "32/32 [==============================] - 0s 3ms/step - loss: 2.4068 - val_loss: 2.4743\n",
            "Epoch 333/500\n",
            "32/32 [==============================] - 0s 3ms/step - loss: 2.3965 - val_loss: 2.4743\n",
            "Epoch 334/500\n",
            "32/32 [==============================] - 0s 4ms/step - loss: 2.4028 - val_loss: 2.4743\n",
            "Epoch 335/500\n",
            "32/32 [==============================] - 0s 3ms/step - loss: 2.4030 - val_loss: 2.4743\n",
            "Epoch 336/500\n",
            "32/32 [==============================] - 0s 3ms/step - loss: 2.4066 - val_loss: 2.4743\n",
            "Epoch 337/500\n",
            "32/32 [==============================] - 0s 3ms/step - loss: 2.3992 - val_loss: 2.4743\n",
            "Epoch 338/500\n",
            "32/32 [==============================] - 0s 4ms/step - loss: 2.4094 - val_loss: 2.4743\n",
            "Epoch 339/500\n",
            "32/32 [==============================] - 0s 4ms/step - loss: 2.4013 - val_loss: 2.4743\n",
            "Epoch 340/500\n",
            "32/32 [==============================] - 0s 4ms/step - loss: 2.4012 - val_loss: 2.4743\n",
            "Epoch 341/500\n",
            "32/32 [==============================] - 0s 4ms/step - loss: 2.4036 - val_loss: 2.4743\n",
            "Epoch 342/500\n",
            "32/32 [==============================] - 0s 4ms/step - loss: 2.4069 - val_loss: 2.4743\n",
            "Epoch 343/500\n",
            "32/32 [==============================] - 0s 4ms/step - loss: 2.4051 - val_loss: 2.4743\n",
            "Epoch 344/500\n",
            "32/32 [==============================] - 0s 4ms/step - loss: 2.3949 - val_loss: 2.4743\n",
            "Epoch 345/500\n",
            "32/32 [==============================] - 0s 4ms/step - loss: 2.4029 - val_loss: 2.4743\n",
            "Epoch 346/500\n",
            "32/32 [==============================] - 0s 4ms/step - loss: 2.4030 - val_loss: 2.4743\n",
            "Epoch 347/500\n",
            "32/32 [==============================] - 0s 4ms/step - loss: 2.4060 - val_loss: 2.4743\n",
            "Epoch 348/500\n",
            "32/32 [==============================] - 0s 4ms/step - loss: 2.4076 - val_loss: 2.4743\n",
            "Epoch 349/500\n",
            "32/32 [==============================] - 0s 4ms/step - loss: 2.3948 - val_loss: 2.4743\n",
            "Epoch 350/500\n",
            "32/32 [==============================] - 0s 4ms/step - loss: 2.3899 - val_loss: 2.4743\n",
            "Epoch 351/500\n",
            "32/32 [==============================] - 0s 4ms/step - loss: 2.3981 - val_loss: 2.4743\n",
            "Epoch 352/500\n",
            "32/32 [==============================] - 0s 4ms/step - loss: 2.3997 - val_loss: 2.4743\n",
            "Epoch 353/500\n",
            "32/32 [==============================] - 0s 5ms/step - loss: 2.3932 - val_loss: 2.4743\n",
            "Epoch 354/500\n",
            "32/32 [==============================] - 0s 4ms/step - loss: 2.4053 - val_loss: 2.4743\n",
            "Epoch 355/500\n",
            "32/32 [==============================] - 0s 4ms/step - loss: 2.3960 - val_loss: 2.4741\n",
            "Epoch 356/500\n",
            "32/32 [==============================] - 0s 4ms/step - loss: 2.4048 - val_loss: 2.4743\n",
            "Epoch 357/500\n",
            "32/32 [==============================] - 0s 4ms/step - loss: 2.4031 - val_loss: 2.4743\n",
            "Epoch 358/500\n",
            "32/32 [==============================] - 0s 4ms/step - loss: 2.4047 - val_loss: 2.4743\n",
            "Epoch 359/500\n",
            "32/32 [==============================] - 0s 4ms/step - loss: 2.4043 - val_loss: 2.4743\n",
            "Epoch 360/500\n",
            "32/32 [==============================] - 0s 5ms/step - loss: 2.4155 - val_loss: 2.4743\n",
            "Epoch 361/500\n",
            "32/32 [==============================] - 0s 5ms/step - loss: 2.4066 - val_loss: 2.4743\n",
            "Epoch 362/500\n",
            "32/32 [==============================] - 0s 5ms/step - loss: 2.4076 - val_loss: 2.4743\n",
            "Epoch 363/500\n",
            "32/32 [==============================] - 0s 4ms/step - loss: 2.4072 - val_loss: 2.4743\n",
            "Epoch 364/500\n",
            "32/32 [==============================] - 0s 4ms/step - loss: 2.3984 - val_loss: 2.4743\n",
            "Epoch 365/500\n",
            "32/32 [==============================] - 0s 3ms/step - loss: 2.3931 - val_loss: 2.4742\n",
            "Epoch 366/500\n",
            "32/32 [==============================] - 0s 3ms/step - loss: 2.3976 - val_loss: 2.4741\n",
            "Epoch 367/500\n",
            "32/32 [==============================] - 0s 3ms/step - loss: 2.4038 - val_loss: 2.4741\n",
            "Epoch 368/500\n",
            "32/32 [==============================] - 0s 3ms/step - loss: 2.4023 - val_loss: 2.4741\n",
            "Epoch 369/500\n",
            "32/32 [==============================] - 0s 3ms/step - loss: 2.3979 - val_loss: 2.4741\n",
            "Epoch 370/500\n",
            "32/32 [==============================] - 0s 3ms/step - loss: 2.4053 - val_loss: 2.4741\n",
            "Epoch 371/500\n",
            "32/32 [==============================] - 0s 3ms/step - loss: 2.4079 - val_loss: 2.4741\n",
            "Epoch 372/500\n",
            "32/32 [==============================] - 0s 3ms/step - loss: 2.4029 - val_loss: 2.4741\n",
            "Epoch 373/500\n",
            "32/32 [==============================] - 0s 3ms/step - loss: 2.4048 - val_loss: 2.4741\n",
            "Epoch 374/500\n",
            "32/32 [==============================] - 0s 3ms/step - loss: 2.4011 - val_loss: 2.4741\n",
            "Epoch 375/500\n",
            "32/32 [==============================] - 0s 3ms/step - loss: 2.4061 - val_loss: 2.4742\n",
            "Epoch 376/500\n",
            "32/32 [==============================] - 0s 3ms/step - loss: 2.4047 - val_loss: 2.4743\n",
            "Epoch 377/500\n",
            "32/32 [==============================] - 0s 3ms/step - loss: 2.4053 - val_loss: 2.4741\n",
            "Epoch 378/500\n",
            "32/32 [==============================] - 0s 4ms/step - loss: 2.4043 - val_loss: 2.4741\n",
            "Epoch 379/500\n",
            "32/32 [==============================] - 0s 3ms/step - loss: 2.4006 - val_loss: 2.4741\n",
            "Epoch 380/500\n",
            "32/32 [==============================] - 0s 3ms/step - loss: 2.4062 - val_loss: 2.4741\n",
            "Epoch 381/500\n",
            "32/32 [==============================] - 0s 3ms/step - loss: 2.4077 - val_loss: 2.4742\n",
            "Epoch 382/500\n",
            "32/32 [==============================] - 0s 3ms/step - loss: 2.4076 - val_loss: 2.4742\n",
            "Epoch 383/500\n",
            "32/32 [==============================] - 0s 3ms/step - loss: 2.4056 - val_loss: 2.4743\n",
            "Epoch 384/500\n",
            "32/32 [==============================] - 0s 3ms/step - loss: 2.3914 - val_loss: 2.4743\n",
            "Epoch 385/500\n",
            "32/32 [==============================] - 0s 3ms/step - loss: 2.3970 - val_loss: 2.4743\n",
            "Epoch 386/500\n",
            "32/32 [==============================] - 0s 3ms/step - loss: 2.4016 - val_loss: 2.4743\n",
            "Epoch 387/500\n",
            "32/32 [==============================] - 0s 4ms/step - loss: 2.4058 - val_loss: 2.4741\n",
            "Epoch 388/500\n",
            "32/32 [==============================] - 0s 3ms/step - loss: 2.4081 - val_loss: 2.4741\n",
            "Epoch 389/500\n",
            "32/32 [==============================] - 0s 3ms/step - loss: 2.3983 - val_loss: 2.4741\n",
            "Epoch 390/500\n",
            "32/32 [==============================] - 0s 3ms/step - loss: 2.4060 - val_loss: 2.4743\n",
            "Epoch 391/500\n",
            "32/32 [==============================] - 0s 3ms/step - loss: 2.4044 - val_loss: 2.4743\n",
            "Epoch 392/500\n",
            "32/32 [==============================] - 0s 3ms/step - loss: 2.4077 - val_loss: 2.4743\n",
            "Epoch 393/500\n",
            "32/32 [==============================] - 0s 4ms/step - loss: 2.3946 - val_loss: 2.4743\n",
            "Epoch 394/500\n",
            "32/32 [==============================] - 0s 3ms/step - loss: 2.3997 - val_loss: 2.4742\n",
            "Epoch 395/500\n",
            "32/32 [==============================] - 0s 3ms/step - loss: 2.3985 - val_loss: 2.4743\n",
            "Epoch 396/500\n",
            "32/32 [==============================] - 0s 3ms/step - loss: 2.3947 - val_loss: 2.4743\n",
            "Epoch 397/500\n",
            "32/32 [==============================] - 0s 3ms/step - loss: 2.4070 - val_loss: 2.4743\n",
            "Epoch 398/500\n",
            "32/32 [==============================] - 0s 3ms/step - loss: 2.4077 - val_loss: 2.4743\n",
            "Epoch 399/500\n",
            "32/32 [==============================] - 0s 3ms/step - loss: 2.3992 - val_loss: 2.4743\n",
            "Epoch 400/500\n",
            "32/32 [==============================] - 0s 3ms/step - loss: 2.4094 - val_loss: 2.4743\n",
            "Epoch 401/500\n",
            "32/32 [==============================] - 0s 3ms/step - loss: 2.4002 - val_loss: 2.4743\n",
            "Epoch 402/500\n",
            "32/32 [==============================] - 0s 3ms/step - loss: 2.3897 - val_loss: 2.4743\n",
            "Epoch 403/500\n",
            "32/32 [==============================] - 0s 3ms/step - loss: 2.4024 - val_loss: 2.4743\n",
            "Epoch 404/500\n",
            "32/32 [==============================] - 0s 3ms/step - loss: 2.3878 - val_loss: 2.4743\n",
            "Epoch 405/500\n",
            "32/32 [==============================] - 0s 3ms/step - loss: 2.4109 - val_loss: 2.4743\n",
            "Epoch 406/500\n",
            "32/32 [==============================] - 0s 3ms/step - loss: 2.4063 - val_loss: 2.4743\n",
            "Epoch 407/500\n",
            "32/32 [==============================] - 0s 3ms/step - loss: 2.4070 - val_loss: 2.4743\n",
            "Epoch 408/500\n",
            "32/32 [==============================] - 0s 3ms/step - loss: 2.4053 - val_loss: 2.4743\n",
            "Epoch 409/500\n",
            "32/32 [==============================] - 0s 3ms/step - loss: 2.3994 - val_loss: 2.4743\n",
            "Epoch 410/500\n",
            "32/32 [==============================] - 0s 3ms/step - loss: 2.4081 - val_loss: 2.4743\n",
            "Epoch 411/500\n",
            "32/32 [==============================] - 0s 3ms/step - loss: 2.3953 - val_loss: 2.4743\n",
            "Epoch 412/500\n",
            "32/32 [==============================] - 0s 3ms/step - loss: 2.3950 - val_loss: 2.4743\n",
            "Epoch 413/500\n",
            "32/32 [==============================] - 0s 3ms/step - loss: 2.4021 - val_loss: 2.4743\n",
            "Epoch 414/500\n",
            "32/32 [==============================] - 0s 3ms/step - loss: 2.3966 - val_loss: 2.4743\n",
            "Epoch 415/500\n",
            "32/32 [==============================] - 0s 3ms/step - loss: 2.3972 - val_loss: 2.4743\n",
            "Epoch 416/500\n",
            "32/32 [==============================] - 0s 3ms/step - loss: 2.3985 - val_loss: 2.4743\n",
            "Epoch 417/500\n",
            "32/32 [==============================] - 0s 3ms/step - loss: 2.4074 - val_loss: 2.4743\n",
            "Epoch 418/500\n",
            "32/32 [==============================] - 0s 3ms/step - loss: 2.4006 - val_loss: 2.4743\n",
            "Epoch 419/500\n",
            "32/32 [==============================] - 0s 3ms/step - loss: 2.3966 - val_loss: 2.4743\n",
            "Epoch 420/500\n",
            "32/32 [==============================] - 0s 3ms/step - loss: 2.3965 - val_loss: 2.4743\n",
            "Epoch 421/500\n",
            "32/32 [==============================] - 0s 3ms/step - loss: 2.4066 - val_loss: 2.4743\n",
            "Epoch 422/500\n",
            "32/32 [==============================] - 0s 3ms/step - loss: 2.4062 - val_loss: 2.4743\n",
            "Epoch 423/500\n",
            "32/32 [==============================] - 0s 3ms/step - loss: 2.4097 - val_loss: 2.4743\n",
            "Epoch 424/500\n",
            "32/32 [==============================] - 0s 3ms/step - loss: 2.4060 - val_loss: 2.4743\n",
            "Epoch 425/500\n",
            "32/32 [==============================] - 0s 3ms/step - loss: 2.3906 - val_loss: 2.4743\n",
            "Epoch 426/500\n",
            "32/32 [==============================] - 0s 3ms/step - loss: 2.4019 - val_loss: 2.4743\n",
            "Epoch 427/500\n",
            "32/32 [==============================] - 0s 3ms/step - loss: 2.4041 - val_loss: 2.4743\n",
            "Epoch 428/500\n",
            "32/32 [==============================] - 0s 3ms/step - loss: 2.4005 - val_loss: 2.4743\n",
            "Epoch 429/500\n",
            "32/32 [==============================] - 0s 3ms/step - loss: 2.4111 - val_loss: 2.4743\n",
            "Epoch 430/500\n",
            "32/32 [==============================] - 0s 3ms/step - loss: 2.4077 - val_loss: 2.4743\n",
            "Epoch 431/500\n",
            "32/32 [==============================] - 0s 3ms/step - loss: 2.4057 - val_loss: 2.4743\n",
            "Epoch 432/500\n",
            "32/32 [==============================] - 0s 3ms/step - loss: 2.4027 - val_loss: 2.4743\n",
            "Epoch 433/500\n",
            "32/32 [==============================] - 0s 3ms/step - loss: 2.4052 - val_loss: 2.4743\n",
            "Epoch 434/500\n",
            "32/32 [==============================] - 0s 3ms/step - loss: 2.3993 - val_loss: 2.4743\n",
            "Epoch 435/500\n",
            "32/32 [==============================] - 0s 3ms/step - loss: 2.3984 - val_loss: 2.4743\n",
            "Epoch 436/500\n",
            "32/32 [==============================] - 0s 3ms/step - loss: 2.3988 - val_loss: 2.4743\n",
            "Epoch 437/500\n",
            "32/32 [==============================] - 0s 3ms/step - loss: 2.4086 - val_loss: 2.4743\n",
            "Epoch 438/500\n",
            "32/32 [==============================] - 0s 3ms/step - loss: 2.4016 - val_loss: 2.4743\n",
            "Epoch 439/500\n",
            "32/32 [==============================] - 0s 3ms/step - loss: 2.4099 - val_loss: 2.4743\n",
            "Epoch 440/500\n",
            "32/32 [==============================] - 0s 3ms/step - loss: 2.3951 - val_loss: 2.4743\n",
            "Epoch 441/500\n",
            "32/32 [==============================] - 0s 3ms/step - loss: 2.4100 - val_loss: 2.4743\n",
            "Epoch 442/500\n",
            "32/32 [==============================] - 0s 4ms/step - loss: 2.4010 - val_loss: 2.4743\n",
            "Epoch 443/500\n",
            "32/32 [==============================] - 0s 3ms/step - loss: 2.4088 - val_loss: 2.4743\n",
            "Epoch 444/500\n",
            "32/32 [==============================] - 0s 3ms/step - loss: 2.4058 - val_loss: 2.4743\n",
            "Epoch 445/500\n",
            "32/32 [==============================] - 0s 3ms/step - loss: 2.4080 - val_loss: 2.4743\n",
            "Epoch 446/500\n",
            "32/32 [==============================] - 0s 3ms/step - loss: 2.4058 - val_loss: 2.4743\n",
            "Epoch 447/500\n",
            "32/32 [==============================] - 0s 3ms/step - loss: 2.4082 - val_loss: 2.4743\n",
            "Epoch 448/500\n",
            "32/32 [==============================] - 0s 3ms/step - loss: 2.4039 - val_loss: 2.4743\n",
            "Epoch 449/500\n",
            "32/32 [==============================] - 0s 3ms/step - loss: 2.4106 - val_loss: 2.4743\n",
            "Epoch 450/500\n",
            "32/32 [==============================] - 0s 3ms/step - loss: 2.4005 - val_loss: 2.4743\n",
            "Epoch 451/500\n",
            "32/32 [==============================] - 0s 3ms/step - loss: 2.4069 - val_loss: 2.4743\n",
            "Epoch 452/500\n",
            "32/32 [==============================] - 0s 3ms/step - loss: 2.4066 - val_loss: 2.4743\n",
            "Epoch 453/500\n",
            "32/32 [==============================] - 0s 3ms/step - loss: 2.3979 - val_loss: 2.4743\n",
            "Epoch 454/500\n",
            "32/32 [==============================] - 0s 3ms/step - loss: 2.4082 - val_loss: 2.4743\n",
            "Epoch 455/500\n",
            "32/32 [==============================] - 0s 3ms/step - loss: 2.4039 - val_loss: 2.4743\n",
            "Epoch 456/500\n",
            "32/32 [==============================] - 0s 3ms/step - loss: 2.4074 - val_loss: 2.4743\n",
            "Epoch 457/500\n",
            "32/32 [==============================] - 0s 3ms/step - loss: 2.4006 - val_loss: 2.4743\n",
            "Epoch 458/500\n",
            "32/32 [==============================] - 0s 3ms/step - loss: 2.3996 - val_loss: 2.4743\n",
            "Epoch 459/500\n",
            "32/32 [==============================] - 0s 4ms/step - loss: 2.4073 - val_loss: 2.4743\n",
            "Epoch 460/500\n",
            "32/32 [==============================] - 0s 3ms/step - loss: 2.4083 - val_loss: 2.4743\n",
            "Epoch 461/500\n",
            "32/32 [==============================] - 0s 3ms/step - loss: 2.4091 - val_loss: 2.4743\n",
            "Epoch 462/500\n",
            "32/32 [==============================] - 0s 3ms/step - loss: 2.4039 - val_loss: 2.4743\n",
            "Epoch 463/500\n",
            "32/32 [==============================] - 0s 3ms/step - loss: 2.3979 - val_loss: 2.4743\n",
            "Epoch 464/500\n",
            "32/32 [==============================] - 0s 3ms/step - loss: 2.4004 - val_loss: 2.4743\n",
            "Epoch 465/500\n",
            "32/32 [==============================] - 0s 3ms/step - loss: 2.4051 - val_loss: 2.4743\n",
            "Epoch 466/500\n",
            "32/32 [==============================] - 0s 3ms/step - loss: 2.4116 - val_loss: 2.4743\n",
            "Epoch 467/500\n",
            "32/32 [==============================] - 0s 3ms/step - loss: 2.4028 - val_loss: 2.4743\n",
            "Epoch 468/500\n",
            "32/32 [==============================] - 0s 3ms/step - loss: 2.4051 - val_loss: 2.4743\n",
            "Epoch 469/500\n",
            "32/32 [==============================] - 0s 3ms/step - loss: 2.3990 - val_loss: 2.4743\n",
            "Epoch 470/500\n",
            "32/32 [==============================] - 0s 3ms/step - loss: 2.4059 - val_loss: 2.4743\n",
            "Epoch 471/500\n",
            "32/32 [==============================] - 0s 3ms/step - loss: 2.4051 - val_loss: 2.4743\n",
            "Epoch 472/500\n",
            "32/32 [==============================] - 0s 3ms/step - loss: 2.4106 - val_loss: 2.4743\n",
            "Epoch 473/500\n",
            "32/32 [==============================] - 0s 4ms/step - loss: 2.4130 - val_loss: 2.4743\n",
            "Epoch 474/500\n",
            "32/32 [==============================] - 0s 3ms/step - loss: 2.3948 - val_loss: 2.4743\n",
            "Epoch 475/500\n",
            "32/32 [==============================] - 0s 3ms/step - loss: 2.3944 - val_loss: 2.4743\n",
            "Epoch 476/500\n",
            "32/32 [==============================] - 0s 3ms/step - loss: 2.4076 - val_loss: 2.4743\n",
            "Epoch 477/500\n",
            "32/32 [==============================] - 0s 3ms/step - loss: 2.4022 - val_loss: 2.4743\n",
            "Epoch 478/500\n",
            "32/32 [==============================] - 0s 3ms/step - loss: 2.4015 - val_loss: 2.4743\n",
            "Epoch 479/500\n",
            "32/32 [==============================] - 0s 3ms/step - loss: 2.4055 - val_loss: 2.4743\n",
            "Epoch 480/500\n",
            "32/32 [==============================] - 0s 4ms/step - loss: 2.4022 - val_loss: 2.4743\n",
            "Epoch 481/500\n",
            "32/32 [==============================] - 0s 3ms/step - loss: 2.4088 - val_loss: 2.4743\n",
            "Epoch 482/500\n",
            "32/32 [==============================] - 0s 3ms/step - loss: 2.3960 - val_loss: 2.4743\n",
            "Epoch 483/500\n",
            "32/32 [==============================] - 0s 3ms/step - loss: 2.4126 - val_loss: 2.4743\n",
            "Epoch 484/500\n",
            "32/32 [==============================] - 0s 3ms/step - loss: 2.3901 - val_loss: 2.4743\n",
            "Epoch 485/500\n",
            "32/32 [==============================] - 0s 4ms/step - loss: 2.4019 - val_loss: 2.4743\n",
            "Epoch 486/500\n",
            "32/32 [==============================] - 0s 3ms/step - loss: 2.3950 - val_loss: 2.4743\n",
            "Epoch 487/500\n",
            "32/32 [==============================] - 0s 3ms/step - loss: 2.4059 - val_loss: 2.4743\n",
            "Epoch 488/500\n",
            "32/32 [==============================] - 0s 4ms/step - loss: 2.4037 - val_loss: 2.4743\n",
            "Epoch 489/500\n",
            "32/32 [==============================] - 0s 3ms/step - loss: 2.4035 - val_loss: 2.4743\n",
            "Epoch 490/500\n",
            "32/32 [==============================] - 0s 3ms/step - loss: 2.3945 - val_loss: 2.4743\n",
            "Epoch 491/500\n",
            "32/32 [==============================] - 0s 3ms/step - loss: 2.4075 - val_loss: 2.4743\n",
            "Epoch 492/500\n",
            "32/32 [==============================] - 0s 3ms/step - loss: 2.4077 - val_loss: 2.4743\n",
            "Epoch 493/500\n",
            "32/32 [==============================] - 0s 3ms/step - loss: 2.4091 - val_loss: 2.4743\n",
            "Epoch 494/500\n",
            "32/32 [==============================] - 0s 3ms/step - loss: 2.4029 - val_loss: 2.4743\n",
            "Epoch 495/500\n",
            "32/32 [==============================] - 0s 3ms/step - loss: 2.4035 - val_loss: 2.4743\n",
            "Epoch 496/500\n",
            "32/32 [==============================] - 0s 3ms/step - loss: 2.3958 - val_loss: 2.4743\n",
            "Epoch 497/500\n",
            "32/32 [==============================] - 0s 4ms/step - loss: 2.4053 - val_loss: 2.4743\n",
            "Epoch 498/500\n",
            "32/32 [==============================] - 0s 3ms/step - loss: 2.4031 - val_loss: 2.4743\n",
            "Epoch 499/500\n",
            "32/32 [==============================] - 0s 3ms/step - loss: 2.3955 - val_loss: 2.4743\n",
            "Epoch 500/500\n",
            "32/32 [==============================] - 0s 3ms/step - loss: 2.3980 - val_loss: 2.4743\n"
          ]
        }
      ],
      "source": [
        "history = model.fit(X_train, np.array(Y_train), validation_split = 0.2, epochs=500,)"
      ]
    },
    {
      "cell_type": "code",
      "execution_count": 283,
      "metadata": {
        "colab": {
          "base_uri": "https://localhost:8080/",
          "height": 295
        },
        "id": "_0ig0HOM2xLH",
        "outputId": "75d2618b-1944-4194-c78e-d12d0eaabfcc"
      },
      "outputs": [
        {
          "output_type": "display_data",
          "data": {
            "text/plain": [
              "<Figure size 432x288 with 1 Axes>"
            ],
            "image/png": "[encoded data removed]"
          },
          "metadata": {
            "needs_background": "light"
          }
        }
      ],
      "source": [
        "import matplotlib.pyplot as plt\n",
        "\n",
        "loss_train = history.history['loss']\n",
        "loss_val = history.history['val_loss']\n",
        "epochs = range(1,len(loss_train)+1)\n",
        "plt.plot(epochs, loss_train, 'g', label='Training rmse')\n",
        "plt.plot(epochs, loss_val, 'b', label='validation rmse')\n",
        "plt.title('Training and Validation MAPE')\n",
        "plt.xlabel('Epochs')\n",
        "plt.ylabel('RMSE')\n",
        "plt.legend()\n",
        "plt.show()"
      ]
    },
    {
      "cell_type": "code",
      "execution_count": 284,
      "metadata": {
        "colab": {
          "base_uri": "https://localhost:8080/"
        },
        "id": "R8Ny-wGn2xLH",
        "outputId": "54caa15e-e5f3-4c55-fbc6-22169edd9a12"
      },
      "outputs": [
        {
          "output_type": "stream",
          "name": "stdout",
          "text": [
            "10/10 [==============================] - 0s 2ms/step\n",
            " CNN Predicted values  [ 3.04  3.74  2.69  0.67  2.1   3.65  0.69 -0.57 -0.53  2.86  3.53  0.58\n",
            "  3.53  1.05  0.    2.96 -0.61  3.49  0.52  0.42  0.04  0.57  0.92  1.52\n",
            "  3.67  3.31  3.59  3.28  0.21  2.57]\n",
            "Real values\t  [1.5, 5.5, 1.5, 0.5, 1.5, 5.5, 0.1, 0.08, 1, 3.2, 5.5, 0.5, 3.5, 0.1, 0.5, 1.5, 0.09, 5.5, 0.5, 0.1, 1, 0.1, 0.4, 1, 6.6, 1.8, 3.5, 1.8, 0.1, 2]\n",
            " The Mean absolute percentage Error is -> 225.281251506089 %\n"
          ]
        }
      ],
      "source": [
        "# Predict test set labels\n",
        "y_pred = model.predict(X_test)\n",
        "\n",
        "print( \" CNN Predicted values \", np.round( Y_pred[:30], 2 ) )\n",
        "\n",
        "y_pred =y_pred[:, 0] \n",
        "print( \"Real values\t \", Y_test[:30] )\n",
        "\n",
        "#print( \" Coefficients of the LR \",  model.coef_, model.intercept_ )\n",
        "\n",
        "\n",
        "\n",
        "mse = mean_absolute_percentage_error(Y_test, y_pred) *100 ##( |ypred - ytrue|/ytrue * 100)\n",
        "\n",
        "print(' The Mean absolute percentage Error is ->', mse, '%')"
      ]
    },
    {
      "cell_type": "code",
      "execution_count": 235,
      "metadata": {
        "id": "mYyJV8xS2xLH"
      },
      "outputs": [],
      "source": [
        "NN_model.save('./saved_models/baseline_model.h5')"
      ]
    },
    {
      "cell_type": "code",
      "execution_count": 236,
      "metadata": {
        "colab": {
          "base_uri": "https://localhost:8080/"
        },
        "id": "s848pgR62xLH",
        "outputId": "4a1af0a9-1d3a-457c-e24d-1d17539f8301"
      },
      "outputs": [
        {
          "output_type": "execute_result",
          "data": {
            "text/plain": [
              "33480"
            ]
          },
          "metadata": {},
          "execution_count": 236
        }
      ],
      "source": [
        "import os\n",
        "os.path.getsize('./saved_models/baseline_model.h5')"
      ]
    },
    {
      "cell_type": "code",
      "execution_count": 237,
      "metadata": {
        "colab": {
          "base_uri": "https://localhost:8080/"
        },
        "id": "-LiQ15FZ6RVo",
        "outputId": "bddcfddb-1ec1-4e7c-8b17-032aaeae5225"
      },
      "outputs": [
        {
          "output_type": "stream",
          "name": "stdout",
          "text": [
            "Looking in indexes: https://pypi.org/simple, https://us-python.pkg.dev/colab-wheels/public/simple/\n",
            "Requirement already satisfied: tensorflow-model-optimization in /usr/local/lib/python3.7/dist-packages (0.7.3)\n",
            "Requirement already satisfied: numpy~=1.14 in /usr/local/lib/python3.7/dist-packages (from tensorflow-model-optimization) (1.21.6)\n",
            "Requirement already satisfied: dm-tree~=0.1.1 in /usr/local/lib/python3.7/dist-packages (from tensorflow-model-optimization) (0.1.7)\n",
            "Requirement already satisfied: six~=1.10 in /usr/local/lib/python3.7/dist-packages (from tensorflow-model-optimization) (1.15.0)\n"
          ]
        }
      ],
      "source": [
        "# Installing with the `--upgrade` flag ensures you'll get the latest version.\n",
        "!pip install tensorflow-model-optimization"
      ]
    },
    {
      "cell_type": "markdown",
      "metadata": {
        "id": "bBTfazcd2xLH"
      },
      "source": [
        "PRUNING"
      ]
    },
    {
      "cell_type": "code",
      "execution_count": 249,
      "metadata": {
        "id": "3jMFN2Hz2xLH"
      },
      "outputs": [],
      "source": [
        "import tensorflow_model_optimization as tfmot"
      ]
    },
    {
      "cell_type": "code",
      "execution_count": 250,
      "metadata": {
        "id": "mDivYvi72xLI"
      },
      "outputs": [],
      "source": [
        "prune_low_magnitude = tfmot.sparsity.keras.prune_low_magnitude"
      ]
    },
    {
      "cell_type": "code",
      "execution_count": 251,
      "metadata": {
        "id": "BhwhPLbz2xLI"
      },
      "outputs": [],
      "source": [
        "epochs = 30\n",
        "batch_size = 32\n",
        "end_step = 200"
      ]
    },
    {
      "cell_type": "code",
      "execution_count": 252,
      "metadata": {
        "id": "yz9wGd0Y2xLI"
      },
      "outputs": [],
      "source": [
        "pruning_params = {\n",
        "      'pruning_schedule': tfmot.sparsity.keras.PolynomialDecay(initial_sparsity=0.50, final_sparsity=0.80, begin_step=0, end_step=end_step)\n",
        "}"
      ]
    },
    {
      "cell_type": "code",
      "execution_count": 253,
      "metadata": {
        "id": "4BioniUD2xLI"
      },
      "outputs": [],
      "source": [
        "pruned_model = prune_low_magnitude(NN_model,**pruning_params)"
      ]
    },
    {
      "cell_type": "code",
      "execution_count": 254,
      "metadata": {
        "id": "3b7wn3YM2xLI"
      },
      "outputs": [],
      "source": [
        "pruned_model.compile(optimizer='rmsprop',loss='mse')"
      ]
    },
    {
      "cell_type": "code",
      "execution_count": 255,
      "metadata": {
        "id": "QafG5KUY2xLI"
      },
      "outputs": [],
      "source": [
        "import tempfile\n",
        "log_dir = tempfile.mkdtemp()\n",
        "callbacks = [\n",
        "    tfmot.sparsity.keras.UpdatePruningStep(),\n",
        "    tfmot.sparsity.keras.PruningSummaries(log_dir=log_dir)\n",
        "]"
      ]
    },
    {
      "cell_type": "code",
      "execution_count": 256,
      "metadata": {
        "colab": {
          "base_uri": "https://localhost:8080/"
        },
        "id": "4nIEQX6D2xLI",
        "outputId": "012889d2-baed-490f-81a4-9731d4601238"
      },
      "outputs": [
        {
          "output_type": "stream",
          "name": "stdout",
          "text": [
            "Epoch 1/30\n",
            " 1/40 [..............................] - ETA: 1:00 - loss: 1.6799"
          ]
        },
        {
          "output_type": "stream",
          "name": "stderr",
          "text": [
            "WARNING:tensorflow:Callback method `on_train_batch_end` is slow compared to the batch time (batch time: 0.0017s vs `on_train_batch_end` time: 0.0062s). Check your callbacks.\n"
          ]
        },
        {
          "output_type": "stream",
          "name": "stdout",
          "text": [
            "40/40 [==============================] - 2s 7ms/step - loss: 2.1650 - val_loss: 1.6170\n",
            "Epoch 2/30\n",
            "40/40 [==============================] - 0s 3ms/step - loss: 1.5164 - val_loss: 1.2997\n",
            "Epoch 3/30\n",
            "40/40 [==============================] - 0s 3ms/step - loss: 2.2597 - val_loss: 2.9350\n",
            "Epoch 4/30\n",
            "40/40 [==============================] - 0s 3ms/step - loss: 2.9947 - val_loss: 2.9372\n",
            "Epoch 5/30\n",
            "40/40 [==============================] - 0s 3ms/step - loss: 2.9954 - val_loss: 2.9359\n",
            "Epoch 6/30\n",
            "40/40 [==============================] - 0s 3ms/step - loss: 2.9932 - val_loss: 2.9331\n",
            "Epoch 7/30\n",
            "40/40 [==============================] - 0s 3ms/step - loss: 2.9915 - val_loss: 2.9325\n",
            "Epoch 8/30\n",
            "40/40 [==============================] - 0s 3ms/step - loss: 2.9898 - val_loss: 2.9358\n",
            "Epoch 9/30\n",
            "40/40 [==============================] - 0s 3ms/step - loss: 2.9880 - val_loss: 2.9361\n",
            "Epoch 10/30\n",
            "40/40 [==============================] - 0s 3ms/step - loss: 2.9873 - val_loss: 2.9376\n",
            "Epoch 11/30\n",
            "40/40 [==============================] - 0s 3ms/step - loss: 2.9856 - val_loss: 2.9323\n",
            "Epoch 12/30\n",
            "40/40 [==============================] - 0s 3ms/step - loss: 2.9846 - val_loss: 2.9344\n",
            "Epoch 13/30\n",
            "40/40 [==============================] - 0s 3ms/step - loss: 2.9854 - val_loss: 2.9330\n",
            "Epoch 14/30\n",
            "40/40 [==============================] - 0s 3ms/step - loss: 2.9828 - val_loss: 2.9363\n",
            "Epoch 15/30\n",
            "40/40 [==============================] - 0s 3ms/step - loss: 2.9835 - val_loss: 2.9374\n",
            "Epoch 16/30\n",
            "40/40 [==============================] - 0s 3ms/step - loss: 2.9821 - val_loss: 2.9321\n",
            "Epoch 17/30\n",
            "40/40 [==============================] - 0s 3ms/step - loss: 2.9820 - val_loss: 2.9329\n",
            "Epoch 18/30\n",
            "40/40 [==============================] - 0s 3ms/step - loss: 2.9799 - val_loss: 2.9316\n",
            "Epoch 19/30\n",
            "40/40 [==============================] - 0s 3ms/step - loss: 2.9795 - val_loss: 2.9362\n",
            "Epoch 20/30\n",
            "40/40 [==============================] - 0s 3ms/step - loss: 2.9798 - val_loss: 2.9342\n",
            "Epoch 21/30\n",
            "40/40 [==============================] - 0s 3ms/step - loss: 2.9799 - val_loss: 2.9328\n",
            "Epoch 22/30\n",
            "40/40 [==============================] - 0s 3ms/step - loss: 2.9785 - val_loss: 2.9327\n",
            "Epoch 23/30\n",
            "40/40 [==============================] - 0s 3ms/step - loss: 2.9764 - val_loss: 2.9352\n",
            "Epoch 24/30\n",
            "40/40 [==============================] - 0s 3ms/step - loss: 2.9763 - val_loss: 2.9389\n",
            "Epoch 25/30\n",
            "40/40 [==============================] - 0s 3ms/step - loss: 2.9759 - val_loss: 2.9312\n",
            "Epoch 26/30\n",
            "40/40 [==============================] - 0s 3ms/step - loss: 2.9773 - val_loss: 2.9364\n",
            "Epoch 27/30\n",
            "40/40 [==============================] - 0s 3ms/step - loss: 2.9759 - val_loss: 2.9320\n",
            "Epoch 28/30\n",
            "40/40 [==============================] - 0s 3ms/step - loss: 2.9771 - val_loss: 2.9316\n",
            "Epoch 29/30\n",
            "40/40 [==============================] - 0s 3ms/step - loss: 2.9762 - val_loss: 2.9314\n",
            "Epoch 30/30\n",
            "40/40 [==============================] - 0s 3ms/step - loss: 2.9775 - val_loss: 2.9328\n"
          ]
        },
        {
          "output_type": "execute_result",
          "data": {
            "text/plain": [
              "<keras.callbacks.History at 0x7f059bfdda10>"
            ]
          },
          "metadata": {},
          "execution_count": 256
        }
      ],
      "source": [
        "pruned_model.fit(x=X_train,y=np.array(Y_train),epochs=epochs,validation_data=(X_test,np.array(Y_test)),callbacks=callbacks) "
      ]
    },
    {
      "cell_type": "code",
      "execution_count": 257,
      "metadata": {
        "colab": {
          "base_uri": "https://localhost:8080/"
        },
        "id": "FFZrsmBR2xLI",
        "outputId": "0075574d-0012-4791-d276-92f734e5e32e"
      },
      "outputs": [
        {
          "output_type": "stream",
          "name": "stdout",
          "text": [
            "10/10 [==============================] - 0s 3ms/step\n"
          ]
        }
      ],
      "source": [
        "predictions=pruned_model.predict(X_test)"
      ]
    },
    {
      "cell_type": "code",
      "execution_count": 258,
      "metadata": {
        "id": "NkTZtbDh2xLI"
      },
      "outputs": [],
      "source": [
        "pruned_rmse = np.sqrt(mean_squared_error(Y_test,predictions))"
      ]
    },
    {
      "cell_type": "code",
      "execution_count": 259,
      "metadata": {
        "colab": {
          "base_uri": "https://localhost:8080/"
        },
        "id": "cQXdaU5I-u9z",
        "outputId": "641003b5-e43b-4449-dc59-bbb08459017d"
      },
      "outputs": [
        {
          "output_type": "stream",
          "name": "stdout",
          "text": [
            "pruned_rmse ->  1.712541272256738\n"
          ]
        }
      ],
      "source": [
        "print(\"pruned_rmse -> \", pruned_rmse)"
      ]
    },
    {
      "cell_type": "code",
      "execution_count": 260,
      "metadata": {
        "colab": {
          "base_uri": "https://localhost:8080/"
        },
        "id": "6yS3y0Ps2xLI",
        "outputId": "3cedbdff-e11c-4c75-98bf-99d6ca47be82"
      },
      "outputs": [
        {
          "output_type": "stream",
          "name": "stderr",
          "text": [
            "WARNING:tensorflow:Compiled the loaded model, but the compiled metrics have yet to be built. `model.compile_metrics` will be empty until you train or evaluate the model.\n"
          ]
        }
      ],
      "source": [
        "model_for_export = tfmot.sparsity.keras.strip_pruning(pruned_model)\n",
        "model_for_export.save('./saved_models/pruned_model.h5')"
      ]
    },
    {
      "cell_type": "code",
      "execution_count": 261,
      "metadata": {
        "id": "vRmElrfg2xLI"
      },
      "outputs": [],
      "source": [
        "pruned_model_size = os.path.getsize('./saved_models/pruned_model.h5')"
      ]
    },
    {
      "cell_type": "code",
      "execution_count": 262,
      "metadata": {
        "id": "1PhuylRF2xLI"
      },
      "outputs": [],
      "source": [
        "baseline_model_size = os.path.getsize('./saved_models/baseline_model.h5')"
      ]
    },
    {
      "cell_type": "code",
      "execution_count": 263,
      "metadata": {
        "colab": {
          "base_uri": "https://localhost:8080/"
        },
        "id": "1sJ5ccJq2xLI",
        "outputId": "e38087b3-7b7b-4e73-c913-ad6a8ed101df"
      },
      "outputs": [
        {
          "output_type": "stream",
          "name": "stdout",
          "text": [
            "18264\n"
          ]
        }
      ],
      "source": [
        "print(pruned_model_size)"
      ]
    },
    {
      "cell_type": "code",
      "execution_count": 264,
      "metadata": {
        "colab": {
          "base_uri": "https://localhost:8080/"
        },
        "id": "6xjNkIXW2xLI",
        "outputId": "ddf52b8e-1fd0-45c7-ca44-99b7c104afe6"
      },
      "outputs": [
        {
          "output_type": "stream",
          "name": "stdout",
          "text": [
            "33480\n"
          ]
        }
      ],
      "source": [
        "print(baseline_model_size)"
      ]
    },
    {
      "cell_type": "code",
      "execution_count": 265,
      "metadata": {
        "colab": {
          "base_uri": "https://localhost:8080/"
        },
        "id": "TbO8CRmN2xLI",
        "outputId": "d42bb4f2-e47f-4632-d83e-cb68bffe086c"
      },
      "outputs": [
        {
          "output_type": "stream",
          "name": "stdout",
          "text": [
            "1.712541272256738\n"
          ]
        }
      ],
      "source": [
        "print(pruned_rmse)"
      ]
    },
    {
      "cell_type": "code",
      "execution_count": 266,
      "metadata": {
        "colab": {
          "base_uri": "https://localhost:8080/"
        },
        "id": "9YItkZZq2xLI",
        "outputId": "c351f01a-34f8-4197-c63d-367b8edb023c"
      },
      "outputs": [
        {
          "output_type": "stream",
          "name": "stdout",
          "text": [
            "0.6212357765676298\n"
          ]
        }
      ],
      "source": [
        "print(base_rmse)"
      ]
    },
    {
      "cell_type": "code",
      "execution_count": 268,
      "metadata": {
        "colab": {
          "base_uri": "https://localhost:8080/"
        },
        "id": "fLbHBNeU2xLJ",
        "outputId": "95dcca48-50d6-4702-b39b-2fc45eb28902"
      },
      "outputs": [
        {
          "output_type": "stream",
          "name": "stdout",
          "text": [
            "Pruned/Striped Prediction time: 6.105374097824097\n",
            "Baseline Prediction time: 6.060596466064453\n"
          ]
        }
      ],
      "source": [
        "start = time.time()\n",
        "\n",
        "for _ in range(100):\n",
        "    predictions = model_for_export.predict(X_test, verbose=0)\n",
        "end = time.time()\n",
        "pruned_pred_time = end-start\n",
        "print(f'Pruned/Striped Prediction time: {end-start}')\n",
        "\n",
        "start = time.time()\n",
        "for _ in range(100):\n",
        "    predictions = NN_model.predict(X_test, verbose=0)\n",
        "end = time.time()\n",
        "baseline_pred_time = end-start\n",
        "print(f'Baseline Prediction time: {end-start}')"
      ]
    },
    {
      "cell_type": "markdown",
      "metadata": {
        "id": "Z1E48cnv2xLJ"
      },
      "source": [
        "QUANTIZATION"
      ]
    },
    {
      "cell_type": "code",
      "execution_count": 269,
      "metadata": {
        "id": "UZwen5GE2xLJ"
      },
      "outputs": [],
      "source": [
        "converter = tf.lite.TFLiteConverter.from_keras_model(model_for_export)\n",
        "converter.optimizations = [tf.lite.Optimize.DEFAULT]\n",
        "\n",
        "quantized_and_pruned_tflite_model = converter.convert()\n",
        "\n",
        "with open('./saved_models/pruned_quantized_model.tflite', 'wb') as f:\n",
        "  f.write(quantized_and_pruned_tflite_model)"
      ]
    },
    {
      "cell_type": "code",
      "execution_count": 270,
      "metadata": {
        "id": "Lgls1k3r2xLJ"
      },
      "outputs": [],
      "source": [
        "pruned_quantized_model_size = os.path.getsize('./saved_models/pruned_quantized_model.tflite')"
      ]
    },
    {
      "cell_type": "code",
      "execution_count": 271,
      "metadata": {
        "colab": {
          "base_uri": "https://localhost:8080/"
        },
        "id": "Gapp6vI62xLJ",
        "outputId": "d88191db-cbe6-4dee-a50c-dd32e50e20c0"
      },
      "outputs": [
        {
          "output_type": "stream",
          "name": "stdout",
          "text": [
            "33480\n"
          ]
        }
      ],
      "source": [
        "print(baseline_model_size)"
      ]
    },
    {
      "cell_type": "code",
      "execution_count": 272,
      "metadata": {
        "colab": {
          "base_uri": "https://localhost:8080/"
        },
        "id": "PnerQL_w2xLJ",
        "outputId": "261d5017-a27d-4c59-d362-925305af62ad"
      },
      "outputs": [
        {
          "output_type": "stream",
          "name": "stdout",
          "text": [
            "18264\n"
          ]
        }
      ],
      "source": [
        "print(pruned_model_size)"
      ]
    },
    {
      "cell_type": "code",
      "execution_count": 273,
      "metadata": {
        "colab": {
          "base_uri": "https://localhost:8080/"
        },
        "id": "Gq6gUv8S2xLJ",
        "outputId": "3f1b7dab-6c62-4097-dd47-de73b1f6ecff"
      },
      "outputs": [
        {
          "output_type": "stream",
          "name": "stdout",
          "text": [
            "2320\n"
          ]
        }
      ],
      "source": [
        "print(pruned_quantized_model_size)"
      ]
    },
    {
      "cell_type": "code",
      "execution_count": 274,
      "metadata": {
        "id": "eHIHrbyq2xLJ"
      },
      "outputs": [],
      "source": [
        "# Load TFLite model and allocate tensors.\n",
        "# How to predict with tfLite mode [Unzipping]\n",
        "interpreter = tf.lite.Interpreter(model_content=quantized_and_pruned_tflite_model)\n",
        "interpreter.allocate_tensors()# Get input and output tensors.\n",
        "input_details = interpreter.get_input_details()\n",
        "output_details = interpreter.get_output_details()\n",
        "input_shape = input_details[0]['shape']\n",
        "predictions = []\n",
        "for i in range(len(X_test)):\n",
        "    input_data = X_test[i]\n",
        "    input_data = np.expand_dims(input_data, axis=0).astype(np.float32)\n",
        "\n",
        "    interpreter.set_tensor(input_details[0]['index'], input_data)\n",
        "    interpreter.invoke()\n",
        "    output_data = interpreter.get_tensor(output_details[0]['index'])\n",
        "    predictions.append(output_data)"
      ]
    },
    {
      "cell_type": "code",
      "execution_count": 275,
      "metadata": {
        "colab": {
          "base_uri": "https://localhost:8080/"
        },
        "id": "th4JJSTh2xLJ",
        "outputId": "fea144fa-3de0-429c-c5ae-fed5fd2309da"
      },
      "outputs": [
        {
          "output_type": "stream",
          "name": "stdout",
          "text": [
            "RMSE: 1.7125412567078007\n"
          ]
        }
      ],
      "source": [
        "predictions = np.array(predictions).reshape(-1, 1)\n",
        "pruned_quantized_rmse = np.sqrt(mean_squared_error(Y_test, predictions))\n",
        "print(f'RMSE: {np.sqrt(mean_squared_error(Y_test, predictions))}')"
      ]
    },
    {
      "cell_type": "code",
      "execution_count": 221,
      "metadata": {
        "colab": {
          "base_uri": "https://localhost:8080/"
        },
        "id": "1Q7nT7OL2xLJ",
        "outputId": "8fce27d1-ae72-477d-e90f-08d450aba417"
      },
      "outputs": [
        {
          "output_type": "stream",
          "name": "stdout",
          "text": [
            "1.597258753124207\n"
          ]
        }
      ],
      "source": [
        "print(base_rmse)"
      ]
    },
    {
      "cell_type": "code",
      "execution_count": 222,
      "metadata": {
        "colab": {
          "base_uri": "https://localhost:8080/"
        },
        "id": "6e10KKYc2xLJ",
        "outputId": "438f35b8-6549-4156-8fd7-99e3e7506e51"
      },
      "outputs": [
        {
          "output_type": "stream",
          "name": "stdout",
          "text": [
            "1.5447936887265623\n"
          ]
        }
      ],
      "source": [
        "print(pruned_rmse)"
      ]
    },
    {
      "cell_type": "code",
      "execution_count": 223,
      "metadata": {
        "colab": {
          "base_uri": "https://localhost:8080/"
        },
        "id": "6lmxyuwg2xLJ",
        "outputId": "c100ae36-326c-4fdd-8637-38f8f1d5b3e6"
      },
      "outputs": [
        {
          "output_type": "stream",
          "name": "stdout",
          "text": [
            "1.5450361501845076\n"
          ]
        }
      ],
      "source": [
        "print(pruned_quantized_rmse)"
      ]
    }
  ],
  "metadata": {
    "colab": {
      "collapsed_sections": [],
      "provenance": []
    },
    "kernelspec": {
      "display_name": "Python 3.10.8 64-bit",
      "language": "python",
      "name": "python3"
    },
    "language_info": {
      "codemirror_mode": {
        "name": "ipython",
        "version": 3
      },
      "file_extension": ".py",
      "mimetype": "text/x-python",
      "name": "python",
      "nbconvert_exporter": "python",
      "pygments_lexer": "ipython3",
      "version": "3.10.8"
    },
    "vscode": {
      "interpreter": {
        "hash": "ccfd5eb523b484a979b6e02c6ef18cb5a7b8f195775124f8ffab4df81f42c205"
      }
    }
  },
  "nbformat": 4,
  "nbformat_minor": 0
}